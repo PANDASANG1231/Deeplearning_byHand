{
  "nbformat": 4,
  "nbformat_minor": 0,
  "metadata": {
    "colab": {
      "name": "026.GoogLeNet.ipynb",
      "provenance": [],
      "collapsed_sections": [],
      "machine_shape": "hm",
      "authorship_tag": "ABX9TyPkc80xw7oB1f3qnfwPY/M7",
      "include_colab_link": true
    },
    "kernelspec": {
      "display_name": "Python 3",
      "name": "python3"
    },
    "language_info": {
      "name": "python"
    },
    "accelerator": "GPU"
  },
  "cells": [
    {
      "cell_type": "markdown",
      "metadata": {
        "id": "view-in-github",
        "colab_type": "text"
      },
      "source": [
        "<a href=\"https://colab.research.google.com/github/PANDASANG1231/deeplearn_note/blob/master/026_GoogLeNet.ipynb\" target=\"_parent\"><img src=\"https://colab.research.google.com/assets/colab-badge.svg\" alt=\"Open In Colab\"/></a>"
      ]
    },
    {
      "cell_type": "code",
      "metadata": {
        "id": "xnFXuqV2lQSx",
        "colab": {
          "base_uri": "https://localhost:8080/"
        },
        "outputId": "83002e7d-170e-4e9d-a0cb-31bdf29ab4d1"
      },
      "source": [
        "import sys\n",
        "from google.colab import drive\n",
        "drive.mount('/content/drive', force_remount=True)\n",
        "sys.path.append('/content/drive/MyDrive/Colab Notebooks/deeplearning_note')\n",
        "from tool import *"
      ],
      "execution_count": 1,
      "outputs": [
        {
          "output_type": "stream",
          "name": "stdout",
          "text": [
            "Mounted at /content/drive\n"
          ]
        }
      ]
    },
    {
      "cell_type": "code",
      "metadata": {
        "id": "w-EGHWAqUwN3"
      },
      "source": [
        "import torch\n",
        "import torchvision"
      ],
      "execution_count": 2,
      "outputs": []
    },
    {
      "cell_type": "code",
      "metadata": {
        "colab": {
          "base_uri": "https://localhost:8080/"
        },
        "id": "ec9ZezBhVJZ2",
        "outputId": "96cad945-8910-41a1-8c1d-ce10d2a763a1"
      },
      "source": [
        "! nvidia-smi"
      ],
      "execution_count": 7,
      "outputs": [
        {
          "output_type": "stream",
          "name": "stdout",
          "text": [
            "Fri Nov 12 17:05:33 2021       \n",
            "+-----------------------------------------------------------------------------+\n",
            "| NVIDIA-SMI 495.44       Driver Version: 460.32.03    CUDA Version: 11.2     |\n",
            "|-------------------------------+----------------------+----------------------+\n",
            "| GPU  Name        Persistence-M| Bus-Id        Disp.A | Volatile Uncorr. ECC |\n",
            "| Fan  Temp  Perf  Pwr:Usage/Cap|         Memory-Usage | GPU-Util  Compute M. |\n",
            "|                               |                      |               MIG M. |\n",
            "|===============================+======================+======================|\n",
            "|   0  Tesla P100-PCIE...  Off  | 00000000:00:04.0 Off |                    0 |\n",
            "| N/A   37C    P0    26W / 250W |      0MiB / 16280MiB |      0%      Default |\n",
            "|                               |                      |                  N/A |\n",
            "+-------------------------------+----------------------+----------------------+\n",
            "                                                                               \n",
            "+-----------------------------------------------------------------------------+\n",
            "| Processes:                                                                  |\n",
            "|  GPU   GI   CI        PID   Type   Process name                  GPU Memory |\n",
            "|        ID   ID                                                   Usage      |\n",
            "|=============================================================================|\n",
            "|  No running processes found                                                 |\n",
            "+-----------------------------------------------------------------------------+\n"
          ]
        }
      ]
    },
    {
      "cell_type": "code",
      "metadata": {
        "id": "ycegzIH9uYOy"
      },
      "source": [
        "class Inception(torch.nn.Module):\n",
        "\n",
        "    def __init__(self, in_channels, c1, c2, c3, c4):\n",
        "\n",
        "        super().__init__()\n",
        "        self.p1_1 = torch.nn.Conv2d(in_channels=in_channels, out_channels=c1, kernel_size=1, padding=0, stride=1)\n",
        "        self.p2_1 = torch.nn.Conv2d(in_channels=in_channels, out_channels=c2[0], kernel_size=1, padding=0, stride=1)\n",
        "        self.p2_2 = torch.nn.Conv2d(in_channels=c2[0], out_channels=c2[1], kernel_size=3, padding=1, stride=1)\n",
        "        self.p3_1 = torch.nn.Conv2d(in_channels=in_channels, out_channels=c3[0], kernel_size=1, padding=0, stride=1)\n",
        "        self.p3_2 = torch.nn.Conv2d(in_channels=c3[0], out_channels=c3[1], kernel_size=5, padding=2, stride=1)\n",
        "        self.p4_1 = torch.nn.MaxPool2d(kernel_size=3, padding=1, stride=1)\n",
        "        self.p4_2 = torch.nn.Conv2d(in_channels=in_channels, out_channels=c4, kernel_size=1, padding=0, stride=1)\n",
        "\n",
        "    def forward(self, X):\n",
        "\n",
        "        x1 = torch.nn.functional.relu(self.p1_1(X))\n",
        "        x2 = torch.nn.functional.relu(self.p2_2(self.p2_1(X)))\n",
        "        x3 = torch.nn.functional.relu(self.p3_2(self.p3_1(X)))\n",
        "        x4 = torch.nn.functional.relu(self.p4_2(self.p4_1(X)))\n",
        "\n",
        "        return torch.cat((x1, x2, x3, x4), 1)\n",
        "        ## batch_size is dim-0, channels size is dim-1\n",
        "\n",
        "\n",
        "from torch import nn\n",
        "\n",
        "b1 = nn.Sequential(nn.Conv2d(1, 64, kernel_size=7, stride=2, padding=3),\n",
        "                   nn.ReLU(),\n",
        "                   nn.MaxPool2d(kernel_size=3, stride=2, padding=1))\n",
        "\n",
        "b2 = nn.Sequential(nn.Conv2d(64, 64, kernel_size=1),\n",
        "                   nn.ReLU(),\n",
        "                   nn.Conv2d(64, 192, kernel_size=3, padding=1),\n",
        "                   nn.MaxPool2d(kernel_size=3, stride=2, padding=1))\n",
        "\n",
        "b3 = nn.Sequential(Inception(192, 64, (96, 128), (16, 32), 32),\n",
        "                   Inception(256, 128, (128, 192), (32, 96), 64),\n",
        "                   nn.MaxPool2d(kernel_size=3, stride=2, padding=1))\n",
        "\n",
        "b4 = nn.Sequential(Inception(480, 192, (96, 208), (16, 48), 64),\n",
        "                   Inception(512, 160, (112, 224), (24, 64), 64),\n",
        "                   Inception(512, 128, (128, 256), (24, 64), 64),\n",
        "                   Inception(512, 112, (144, 288), (32, 64), 64),\n",
        "                   Inception(528, 256, (160, 320), (32, 128), 128),\n",
        "                   nn.MaxPool2d(kernel_size=3, stride=2, padding=1))\n",
        "\n",
        "b5 = nn.Sequential(Inception(832, 256, (160, 320), (32, 128), 128),\n",
        "                   Inception(832, 384, (192, 384), (48, 128), 128),\n",
        "                   nn.AdaptiveAvgPool2d((1,1)),\n",
        "                   nn.Flatten())\n",
        "\n",
        "model = nn.Sequential(b1, b2, b3, b4, b5, nn.Linear(1024, 10))\n",
        "    \n"
      ],
      "execution_count": 4,
      "outputs": []
    },
    {
      "cell_type": "code",
      "metadata": {
        "id": "JjWkCXWhoX4o"
      },
      "source": [
        "transforms = torchvision.transforms.Compose([\n",
        "                torchvision.transforms.ToTensor(),\n",
        "                torchvision.transforms.Resize(size=96)\n",
        "             ])\n",
        "\n",
        "train_dataset = torchvision.datasets.FashionMNIST(root='./', train=True, download=True, transform=transforms)\n",
        "test_dataset = torchvision.datasets.FashionMNIST(root='./', train=False, download=True, transform=transforms)"
      ],
      "execution_count": 12,
      "outputs": []
    },
    {
      "cell_type": "code",
      "metadata": {
        "id": "29Y7ZkTSYrCj",
        "colab": {
          "base_uri": "https://localhost:8080/"
        },
        "outputId": "c70fe4ce-5870-4251-a1ac-6a6f0f16ba9f"
      },
      "source": [
        "batch_size = 128\n",
        "train_dataloader = torch.utils.data.DataLoader(train_dataset,\n",
        "                                               batch_size=batch_size,\n",
        "                                               shuffle=True)\n",
        "\n",
        "test_dataloader = torch.utils.data.DataLoader(test_dataset,\n",
        "                                              batch_size=batch_size,\n",
        "                                              shuffle=False)\n",
        "\n",
        "device = torch.device('cuda')\n",
        "loss = torch.nn.CrossEntropyLoss()\n",
        "\n",
        "print(\"This is a simple GoogLenet...\")\n",
        "x = torch.randn(size=(1, 1, 224, 224))\n",
        "for layer in model:\n",
        "  x = layer(x)\n",
        "  print(layer.__class__.__name__, x.shape) \n",
        "\n"
      ],
      "execution_count": 13,
      "outputs": [
        {
          "output_type": "stream",
          "name": "stdout",
          "text": [
            "This is a simple GoogLenet...\n",
            "Sequential torch.Size([1, 64, 56, 56])\n",
            "Sequential torch.Size([1, 192, 28, 28])\n",
            "Sequential torch.Size([1, 480, 14, 14])\n",
            "Sequential torch.Size([1, 832, 7, 7])\n",
            "Sequential torch.Size([1, 1024])\n",
            "Linear torch.Size([1, 10])\n"
          ]
        }
      ]
    },
    {
      "cell_type": "code",
      "metadata": {
        "colab": {
          "base_uri": "https://localhost:8080/"
        },
        "id": "l6CL1IU7Yy1E",
        "outputId": "fd941ff7-8cb7-45cd-e5b4-75485169b995"
      },
      "source": [
        "train_p2(epoch_num=10, \n",
        "         model=model,  \n",
        "         loss=loss, \n",
        "         lr=0.05, \n",
        "         train_data_iter=train_dataloader,\n",
        "         test_data_iter=test_dataloader,\n",
        "         device=device,\n",
        "         optim_type=\"SGD\")"
      ],
      "execution_count": 15,
      "outputs": [
        {
          "output_type": "stream",
          "name": "stdout",
          "text": [
            "loss 1.458, train acc 0.470, test acc 0.711\n",
            "loss 0.511, train acc 0.807, test acc 0.790\n",
            "loss 0.389, train acc 0.853, test acc 0.852\n",
            "loss 0.335, train acc 0.874, test acc 0.877\n",
            "loss 0.306, train acc 0.884, test acc 0.878\n",
            "loss 0.282, train acc 0.893, test acc 0.880\n",
            "loss 0.263, train acc 0.900, test acc 0.877\n",
            "loss 0.247, train acc 0.907, test acc 0.894\n",
            "loss 0.235, train acc 0.911, test acc 0.875\n",
            "loss 0.215, train acc 0.918, test acc 0.892\n",
            "Calculation Ability: 6034.0 examples/sec on cuda\n"
          ]
        }
      ]
    },
    {
      "cell_type": "code",
      "metadata": {
        "id": "cQrTsaENmWhy"
      },
      "source": [
        ""
      ],
      "execution_count": null,
      "outputs": []
    }
  ]
}