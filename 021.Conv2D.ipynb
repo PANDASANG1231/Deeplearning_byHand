{
 "cells": [
  {
   "cell_type": "markdown",
   "metadata": {},
   "source": [
    "这次完成一个完整的conv2d"
   ]
  },
  {
   "cell_type": "code",
   "execution_count": 1,
   "metadata": {},
   "outputs": [],
   "source": [
    "import numpy as np\n",
    "import torch\n",
    "import torchvision"
   ]
  },
  {
   "cell_type": "code",
   "execution_count": 2,
   "metadata": {},
   "outputs": [],
   "source": [
    "def corr2d(X, K):\n",
    "    \n",
    "    (x_0, x_1) = X.shape\n",
    "    (k_0, k_1) = K.shape\n",
    "    CONV = torch.zeros((x_0 - k_0 + 1, x_1 - k_1 + 1))\n",
    "    \n",
    "    for i in range(x_0 - k_0 + 1):\n",
    "        for j in range(x_1 - k_1 + 1):\n",
    "            CONV[i, j] = (X[i: i + K.shape[0], j: j + K.shape[1]] * K).sum()\n",
    "\n",
    "    return CONV"
   ]
  },
  {
   "cell_type": "code",
   "execution_count": 3,
   "metadata": {},
   "outputs": [],
   "source": [
    "X = torch.Tensor([[0, 1, 2], [3, 4, 5], [6, 7, 8]])\n",
    "K = torch.Tensor([[0, 1], [2, 3]])\n",
    "assert((corr2d(X, K) == torch.Tensor([[19, 25], [37, 43]])).any().item())"
   ]
  },
  {
   "cell_type": "code",
   "execution_count": 4,
   "metadata": {},
   "outputs": [],
   "source": [
    "def corr2d_in(X, K):\n",
    "    \n",
    "    rst = sum([corr2d(xx, K) for xx in X])\n",
    "    \n",
    "    return rst\n",
    "\n",
    "def corr2d_in_out(X, K):\n",
    "    \n",
    "    rst = torch.stack(tuple(corr2d_in(X, k) for k in K),dim=0)\n",
    "    \n",
    "    return rst\n",
    "\n",
    "def corr2d_in_out_batch(X, K):\n",
    "    \n",
    "    rst = torch.stack(tuple(corr2d_in_out(x, K) for x in X),dim=0)\n",
    "    \n",
    "    return rst"
   ]
  },
  {
   "cell_type": "code",
   "execution_count": 5,
   "metadata": {},
   "outputs": [
    {
     "data": {
      "text/plain": [
       "(tensor([[[ 1.0700,  0.6867, -0.9312,  0.3745, -1.8892],\n",
       "          [ 1.5544, -2.1964,  0.8828, -0.6594, -0.8191],\n",
       "          [ 0.2050, -1.1438, -0.4831, -0.2604, -0.4542],\n",
       "          [ 0.7127,  0.2046,  0.7206, -1.0156, -0.0444],\n",
       "          [ 0.4645,  0.5553, -0.3723, -1.4740,  0.0817]],\n",
       " \n",
       "         [[-1.3008,  0.6960,  0.3202, -0.5770, -0.1496],\n",
       "          [-1.3744, -2.6236, -0.5954, -0.2138,  0.3922],\n",
       "          [-1.4007,  1.4935, -1.1257,  0.6269,  0.2618],\n",
       "          [ 1.7238,  0.9078, -0.7188, -0.6049, -0.5696],\n",
       "          [ 1.5764, -1.6193, -0.0395, -1.1821,  0.0884]]]),\n",
       " tensor([[[1., 1.],\n",
       "          [1., 1.]],\n",
       " \n",
       "         [[1., 1.],\n",
       "          [1., 1.]],\n",
       " \n",
       "         [[1., 1.],\n",
       "          [1., 1.]],\n",
       " \n",
       "         [[1., 1.],\n",
       "          [1., 1.]],\n",
       " \n",
       "         [[1., 1.],\n",
       "          [1., 1.]]]))"
      ]
     },
     "execution_count": 5,
     "metadata": {},
     "output_type": "execute_result"
    }
   ],
   "source": [
    "X = torch.randn((2, 5, 5))\n",
    "K = torch.ones((5, 2, 2))\n",
    "X, K"
   ]
  },
  {
   "cell_type": "code",
   "execution_count": 6,
   "metadata": {},
   "outputs": [
    {
     "data": {
      "text/plain": [
       "tensor([[[-3.4881, -3.7609, -1.3993, -3.5413],\n",
       "         [-5.4859, -5.7916, -1.8280, -1.1259],\n",
       "         [ 2.7031, -0.1448, -2.8610, -2.0605],\n",
       "         [ 4.5259, -0.3616, -4.6866, -4.7206]],\n",
       "\n",
       "        [[-3.4881, -3.7609, -1.3993, -3.5413],\n",
       "         [-5.4859, -5.7916, -1.8280, -1.1259],\n",
       "         [ 2.7031, -0.1448, -2.8610, -2.0605],\n",
       "         [ 4.5259, -0.3616, -4.6866, -4.7206]],\n",
       "\n",
       "        [[-3.4881, -3.7609, -1.3993, -3.5413],\n",
       "         [-5.4859, -5.7916, -1.8280, -1.1259],\n",
       "         [ 2.7031, -0.1448, -2.8610, -2.0605],\n",
       "         [ 4.5259, -0.3616, -4.6866, -4.7206]],\n",
       "\n",
       "        [[-3.4881, -3.7609, -1.3993, -3.5413],\n",
       "         [-5.4859, -5.7916, -1.8280, -1.1259],\n",
       "         [ 2.7031, -0.1448, -2.8610, -2.0605],\n",
       "         [ 4.5259, -0.3616, -4.6866, -4.7206]],\n",
       "\n",
       "        [[-3.4881, -3.7609, -1.3993, -3.5413],\n",
       "         [-5.4859, -5.7916, -1.8280, -1.1259],\n",
       "         [ 2.7031, -0.1448, -2.8610, -2.0605],\n",
       "         [ 4.5259, -0.3616, -4.6866, -4.7206]]])"
      ]
     },
     "execution_count": 6,
     "metadata": {},
     "output_type": "execute_result"
    }
   ],
   "source": [
    "corr2d_in_out(X, K)"
   ]
  },
  {
   "cell_type": "code",
   "execution_count": 7,
   "metadata": {},
   "outputs": [],
   "source": [
    "class Conv2D_layer(torch.nn.Module):\n",
    "    \n",
    "    def __init__(self, kernel_size, in_channels, out_channels):\n",
    "        \n",
    "        super().__init__()\n",
    "        \n",
    "        if isinstance(kernel_size, tuple):\n",
    "            \n",
    "            self.weight = torch.nn.Parameter(torch.randn(out_channels, kernel_size[0], kernel_size[1]))\n",
    "        \n",
    "        else:\n",
    "            \n",
    "            self.weight = torch.nn.Parameter(torch.randn(out_channels, kernel_size, kernel_size))\n",
    "            \n",
    "        \n",
    "        self.bias = torch.nn.Parameter(torch.zeros(out_channels, 1, 1))\n",
    "        \n",
    "        self.in_channel = in_channels\n",
    "        \n",
    "    def forward(self, X):\n",
    "        \n",
    "        # if len(X.shape) == 2:\n",
    "        #     X = X.reshape([1, self.in_channel] + X.shape)\n",
    "        # elif len(X.shape) == 3:\n",
    "        #     X = X.reshape([1, self.in_channel] + list(X.shape)[1:])\n",
    "        # else:\n",
    "        #     shape_list = list(X.shape)\n",
    "        #     shape_list[1] = self.in_channel\n",
    "        #     X = X.reshape(shape_list)\n",
    "                        \n",
    "        return corr2d_in_out_batch(X, self.weight) + self.bias\n"
   ]
  }
 ],
 "metadata": {
  "interpreter": {
   "hash": "414fe57d044de946bf9d041c0416f862a87762676867e6c6ae283eee01bd4dcc"
  },
  "kernelspec": {
   "display_name": "Python 3.9.5 64-bit ('base': conda)",
   "name": "python3"
  },
  "language_info": {
   "codemirror_mode": {
    "name": "ipython",
    "version": 3
   },
   "file_extension": ".py",
   "mimetype": "text/x-python",
   "name": "python",
   "nbconvert_exporter": "python",
   "pygments_lexer": "ipython3",
   "version": "3.9.5"
  },
  "orig_nbformat": 4
 },
 "nbformat": 4,
 "nbformat_minor": 2
}
