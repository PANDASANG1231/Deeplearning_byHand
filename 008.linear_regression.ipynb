{
 "cells": [
  {
   "cell_type": "markdown",
   "source": [
    "# 线性回归\n",
    "\n",
    "## 这里会有两个版本，一个是手写版，另一个是Pytorch简单版本"
   ],
   "metadata": {}
  },
  {
   "cell_type": "code",
   "execution_count": 32,
   "source": [
    "%matplotlib inline\n",
    "import numpy as np\n",
    "import seaborn as sns\n",
    "import torch\n",
    "import pandas as pd\n",
    "import scipy as sp\n",
    "import matplotlib.pyplot as plt"
   ],
   "outputs": [],
   "metadata": {}
  },
  {
   "cell_type": "markdown",
   "source": [
    "函数编写清单：\n",
    " - 生成数据\n",
    " - 读取数据的iterator\n",
    " - 定义参数(Param)\n",
    " - 定义模型(Model)\n",
    " - 定义损失(Loss)\n",
    " - 定义优化器(Optim)\n",
    " - 训练过程"
   ],
   "metadata": {}
  },
  {
   "cell_type": "markdown",
   "source": [
    " ### 手写版"
   ],
   "metadata": {}
  },
  {
   "cell_type": "code",
   "execution_count": 124,
   "source": [
    "def gen_linear_dataset(W, b, N=10000):\n",
    "    \n",
    "    X = torch.randn((N, len(W)))\n",
    "    y = torch.matmul(X, W) + b\n",
    "    y += torch.randn(N) * 0.01\n",
    "    \n",
    "    return X, y.reshape(-1, 1)\n",
    "\n",
    "N = 10000\n",
    "true_W = torch.tensor([3.,  2.2])\n",
    "true_b = torch.tensor([1.5])\n",
    "X, y = gen_linear_dataset(true_W, true_b, N)\n",
    "\n",
    "### Check the function\n",
    "print(X.shape, y.shape)\n",
    "fig, axs = plt.subplots(1, 2, figsize=(10, 4))\n",
    "for i in [0, 1]:\n",
    "    axs[i].scatter(X[:, i], y)\n",
    "    axs[i].set_title(f\"y & x{i}\")\n"
   ],
   "outputs": [
    {
     "output_type": "stream",
     "name": "stdout",
     "text": [
      "torch.Size([10000, 2]) torch.Size([10000, 1])\n"
     ]
    },
    {
     "output_type": "display_data",
     "data": {
      "image/png": "[encoded data removed]",
      "text/plain": [
       "<Figure size 720x288 with 2 Axes>"
      ]
     },
     "metadata": {
      "needs_background": "light"
     }
    }
   ],
   "metadata": {}
  },
  {
   "cell_type": "code",
   "execution_count": 125,
   "source": [
    "def data_iter(X, y, batch_num=64):\n",
    "    \n",
    "    import random\n",
    "    \n",
    "    assert(X.shape[0] == y.shape[0])\n",
    "    num_sample = X.shape[0]\n",
    "    ind = list(range(num_sample))\n",
    "    random.shuffle(ind)\n",
    "    \n",
    "    for i in range(0, num_sample, batch_num):\n",
    "        items = ind[i:min(i+batch_num, num_sample)]\n",
    "        yield X[items], y[items]\n",
    "        \n",
    "data_batches = data_iter(X, y, batch_num=64)"
   ],
   "outputs": [],
   "metadata": {}
  },
  {
   "cell_type": "code",
   "execution_count": 132,
   "source": [
    "w = torch.normal(0, 1, size=(2, 1), requires_grad=True)\n",
    "b = torch.normal(0, 1, size=(1, 1), requires_grad=True)\n",
    "\n",
    "def linear_model(w, b, X):\n",
    "    return torch.matmul(X, w) + b\n",
    "\n",
    "def square_loss(y, y_hat):\n",
    "    return ((y - y_hat) ** 2)\n",
    "\n",
    "def sgd(params, lr, batch_num):\n",
    "    \n",
    "    with torch.no_grad():\n",
    "        for param in params:\n",
    "            param -= lr * param.grad / batch_num\n",
    "            param.grad.zero_()    "
   ],
   "outputs": [],
   "metadata": {}
  },
  {
   "cell_type": "code",
   "execution_count": 141,
   "source": [
    "model = linear_model\n",
    "loss = square_loss\n",
    "optimal = sgd\n",
    "\n",
    "lr = 0.01\n",
    "epoch_num = 3\n",
    "\n",
    "for epoch in range(epoch_num):\n",
    "    \n",
    "    for batch_X, batch_y in data_iter(X, y, batch_num=64):\n",
    "        \n",
    "        batch_y_hat = model(w, b, batch_X)\n",
    "        batch_loss = loss(batch_y, batch_y_hat).sum()\n",
    "        batch_loss.backward()\n",
    "        \n",
    "        optimal([w, b], lr, batch_num=64)\n",
    "    \n",
    "    with torch.no_grad():\n",
    "        y_hat_all = model(w, b, X)\n",
    "        loss_all = loss(y, y_hat_all).mean()\n",
    "        print(f\"{epoch}: Loss:{loss_all}\")\n",
    "        \n",
    "        \n",
    "print(f\"Norm of (w - true_W) is: {torch.norm(w - true_W.reshape(w.shape)).item()} \")\n",
    "print(f\"Norm of (b - true_b) is: {(b - true_b.reshape(b.shape)).item()} \")\n"
   ],
   "outputs": [
    {
     "output_type": "stream",
     "name": "stdout",
     "text": [
      "0: Loss:9.980626782635227e-05\n",
      "1: Loss:9.98109026113525e-05\n",
      "2: Loss:9.981087350752205e-05\n",
      "Norm of (w - true_W) is: 0.00010538101196289062 \n",
      "Norm of (b - true_b) is: 6.258487701416016e-05 \n"
     ]
    }
   ],
   "metadata": {}
  },
  {
   "cell_type": "markdown",
   "source": [
    "### Pytorch版"
   ],
   "metadata": {}
  },
  {
   "cell_type": "markdown",
   "source": [
    "函数编写清单：\n",
    " - 读取数据的iterator\n",
    " - 定义参数(Param)\n",
    " - 定义模型(Model)\n",
    " - 定义损失(Loss)\n",
    " - 定义优化器(Optim)\n",
    " - 训练过程\n"
   ],
   "metadata": {}
  },
  {
   "cell_type": "code",
   "execution_count": 169,
   "source": [
    "## 构建数据reader\n",
    "data_set = torch.utils.data.TensorDataset(*[X, y])\n",
    "data_loader = torch.utils.data.DataLoader(data_set, batch_size=64, shuffle=True)\n",
    "\n",
    "## 定义函数\n",
    "model = torch.nn.Sequential(torch.nn.Linear(w.shape[1], 1))\n",
    "## 定义参数\n",
    "model[0].weight.data.normal_(0, 1)\n",
    "model[0].bias.data.normal_(0, 1)\n",
    "## 定义loss\n",
    "loss = torch.nn.MSELoss()\n",
    "## 定义Optimal\n",
    "optimal = torch.optim.SGD(model.parameters(), lr=0.02)\n"
   ],
   "outputs": [],
   "metadata": {}
  },
  {
   "cell_type": "code",
   "execution_count": 212,
   "source": [
    "epoch_num = 3\n",
    "\n",
    "for epoch in range(epoch_num):\n",
    "    \n",
    "    for batch_X, batch_y in data_loader:\n",
    "        \n",
    "        batch_y_hat = model(batch_X)\n",
    "        batch_loss = loss(batch_y_hat, batch_y)\n",
    "        # print(batch_y_hat.shape, batch_y.shape, batch_loss)\n",
    "        \n",
    "        optimal.zero_grad()\n",
    "        batch_loss.backward()\n",
    "        optimal.step()\n",
    "        \n",
    "        \n",
    "    with torch.no_grad():\n",
    "        y_hat_all = model(X)\n",
    "        loss_all = loss(y_hat_all, y)\n",
    "        print(f\"Epoch {epoch}: Loss is {loss_all}\")\n",
    "        \n",
    "        \n",
    "        \n",
    "param_dict = dict(model.state_dict())\n",
    "keys = list(param_dict.keys())\n",
    "print(f\"Norm of (w - true_W) is: {torch.norm(param_dict[keys[0]][0] - true_W)} \")\n",
    "print(f\"Norm of (b - true_b) is: {torch.norm(param_dict[keys[1]][0] - true_b)} \")"
   ],
   "outputs": [
    {
     "output_type": "stream",
     "name": "stdout",
     "text": [
      "Epoch 0: Loss is 0.00010114540782524273\n",
      "Epoch 1: Loss is 0.00010129979636985809\n",
      "Epoch 2: Loss is 0.0001013786531984806\n",
      "Norm of (w - true_W) is: 0.00053319928701967 \n",
      "Norm of (b - true_b) is: 0.00014698505401611328 \n"
     ]
    }
   ],
   "metadata": {}
  }
 ],
 "metadata": {
  "orig_nbformat": 4,
  "language_info": {
   "name": "python",
   "version": "3.9.5",
   "mimetype": "text/x-python",
   "codemirror_mode": {
    "name": "ipython",
    "version": 3
   },
   "pygments_lexer": "ipython3",
   "nbconvert_exporter": "python",
   "file_extension": ".py"
  },
  "kernelspec": {
   "name": "python3",
   "display_name": "Python 3.9.5 64-bit ('base': conda)"
  },
  "interpreter": {
   "hash": "20ba1d4ab6bbc91ce82013c71f11f6aebee508b4070cd6657dc06b0d0f5dc091"
  }
 },
 "nbformat": 4,
 "nbformat_minor": 2
}