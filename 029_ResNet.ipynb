{
  "nbformat": 4,
  "nbformat_minor": 0,
  "metadata": {
    "colab": {
      "name": "029.ResNet.ipynb",
      "provenance": [],
      "collapsed_sections": [],
      "machine_shape": "hm",
      "authorship_tag": "ABX9TyOcYbYHfXN3w1/SCysQ5Dh4",
      "include_colab_link": true
    },
    "kernelspec": {
      "display_name": "Python 3",
      "name": "python3"
    },
    "language_info": {
      "name": "python"
    },
    "accelerator": "GPU"
  },
  "cells": [
    {
      "cell_type": "markdown",
      "metadata": {
        "id": "view-in-github",
        "colab_type": "text"
      },
      "source": [
        "<a href=\"https://colab.research.google.com/github/PANDASANG1231/Deeplearning_byHand/blob/master/029_ResNet.ipynb\" target=\"_parent\"><img src=\"https://colab.research.google.com/assets/colab-badge.svg\" alt=\"Open In Colab\"/></a>"
      ]
    },
    {
      "cell_type": "code",
      "metadata": {
        "id": "xnFXuqV2lQSx",
        "colab": {
          "base_uri": "https://localhost:8080/"
        },
        "outputId": "f353e6f0-deee-4bd1-90fa-e46aaed1969b"
      },
      "source": [
        "import sys\n",
        "from google.colab import drive\n",
        "drive.mount('/content/drive', force_remount=True)\n",
        "sys.path.append('/content/drive/MyDrive/Colab Notebooks/deeplearning_note')\n",
        "from tool import *"
      ],
      "execution_count": 1,
      "outputs": [
        {
          "output_type": "stream",
          "name": "stdout",
          "text": [
            "Mounted at /content/drive\n"
          ]
        }
      ]
    },
    {
      "cell_type": "code",
      "source": [
        "! nvidia-smi"
      ],
      "metadata": {
        "colab": {
          "base_uri": "https://localhost:8080/"
        },
        "id": "5SemXnflYY1X",
        "outputId": "03e3a978-5d6a-43ee-c0d5-ff4c370599cc"
      },
      "execution_count": 2,
      "outputs": [
        {
          "output_type": "stream",
          "name": "stdout",
          "text": [
            "Mon Jan 17 09:38:08 2022       \n",
            "+-----------------------------------------------------------------------------+\n",
            "| NVIDIA-SMI 495.46       Driver Version: 460.32.03    CUDA Version: 11.2     |\n",
            "|-------------------------------+----------------------+----------------------+\n",
            "| GPU  Name        Persistence-M| Bus-Id        Disp.A | Volatile Uncorr. ECC |\n",
            "| Fan  Temp  Perf  Pwr:Usage/Cap|         Memory-Usage | GPU-Util  Compute M. |\n",
            "|                               |                      |               MIG M. |\n",
            "|===============================+======================+======================|\n",
            "|   0  Tesla P100-PCIE...  Off  | 00000000:00:04.0 Off |                    0 |\n",
            "| N/A   66C    P0    55W / 250W |      0MiB / 16280MiB |      0%      Default |\n",
            "|                               |                      |                  N/A |\n",
            "+-------------------------------+----------------------+----------------------+\n",
            "                                                                               \n",
            "+-----------------------------------------------------------------------------+\n",
            "| Processes:                                                                  |\n",
            "|  GPU   GI   CI        PID   Type   Process name                  GPU Memory |\n",
            "|        ID   ID                                                   Usage      |\n",
            "|=============================================================================|\n",
            "|  No running processes found                                                 |\n",
            "+-----------------------------------------------------------------------------+\n"
          ]
        }
      ]
    },
    {
      "cell_type": "code",
      "metadata": {
        "id": "w-EGHWAqUwN3"
      },
      "source": [
        "import torch\n",
        "import torchvision"
      ],
      "execution_count": 3,
      "outputs": []
    },
    {
      "cell_type": "code",
      "metadata": {
        "id": "ec9ZezBhVJZ2"
      },
      "source": [
        "class Resnet_block(torch.nn.Module):\n",
        "\n",
        "  def __init__(self, in_channels, out_channels, if_double, if_conv):\n",
        "\n",
        "    super().__init__()\n",
        "    self.if_double = if_double\n",
        "    self.if_conv = if_conv\n",
        "    self.conv2d_3 = None\n",
        "\n",
        "    if if_double:\n",
        "      self.conv2d_1 = torch.nn.Conv2d(in_channels=in_channels, out_channels=out_channels, stride=2, kernel_size=3, padding=1)\n",
        "      self.conv2d_2 = torch.nn.Conv2d(in_channels=out_channels, out_channels=out_channels, stride=1, kernel_size=3, padding=1)\n",
        "\n",
        "      if if_conv:\n",
        "        self.conv2d_3 = torch.nn.Conv2d(in_channels=in_channels, out_channels=out_channels, stride=2, kernel_size=1, padding=0)\n",
        "\n",
        "    else:\n",
        "      self.conv2d_1 = torch.nn.Conv2d(in_channels=in_channels, out_channels=out_channels, stride=1, kernel_size=3, padding=1)\n",
        "      self.conv2d_2 = torch.nn.Conv2d(in_channels=out_channels, out_channels=out_channels, stride=1, kernel_size=3, padding=1)\n",
        "\n",
        "      if if_conv:\n",
        "        self.conv2d_3 = torch.nn.Conv2d(in_channels=in_channels, out_channels=out_channels, stride=1, kernel_size=1, padding=0)\n",
        "\n",
        "    self.bn1 = torch.nn.BatchNorm2d(num_features=out_channels)\n",
        "    self.bn2 = torch.nn.BatchNorm2d(num_features=out_channels)\n",
        "    self.relu = torch.nn.ReLU()\n",
        "\n",
        "  def forward(self, X):\n",
        "\n",
        "    Y = self.relu(self.bn1(self.conv2d_1(X)))\n",
        "    Y = self.bn2(self.conv2d_2(Y))\n",
        "\n",
        "    if self.conv2d_3:\n",
        "      X = self.conv2d_3(X)\n",
        "    \n",
        "    Y += X\n",
        "    return self.relu(Y)\n"
      ],
      "execution_count": 4,
      "outputs": []
    },
    {
      "cell_type": "markdown",
      "metadata": {
        "id": "6ARWWkvhVRF_"
      },
      "source": [
        "Training with Resnet"
      ]
    },
    {
      "cell_type": "code",
      "metadata": {
        "id": "z9PHA8ckMYtS"
      },
      "source": [
        "train_dataset = torchvision.datasets.FashionMNIST(root=\"./\",train=True,download=True,transform=torchvision.transforms.Compose([torchvision.transforms.ToTensor(), torchvision.transforms.Resize(96)]))\n",
        "test_dataset = torchvision.datasets.FashionMNIST(root=\"./\",train=False,download=True,transform=torchvision.transforms.Compose([torchvision.transforms.ToTensor(), torchvision.transforms.Resize(96)]))\n",
        "\n",
        "# train_dataset = torchvision.datasets.FashionMNIST(root=\"./\",train=True,download=True,transform=torchvision.transforms.Compose([torchvision.transforms.ToTensor()]))\n",
        "# test_dataset = torchvision.datasets.FashionMNIST(root=\"./\",train=False,download=True,transform=torchvision.transforms.Compose([torchvision.transforms.ToTensor()]))"
      ],
      "execution_count": 5,
      "outputs": []
    },
    {
      "cell_type": "code",
      "metadata": {
        "id": "29Y7ZkTSYrCj",
        "colab": {
          "base_uri": "https://localhost:8080/"
        },
        "outputId": "8b6b7010-53f6-4b48-81b9-05456024563a"
      },
      "source": [
        "batch_size = 256\n",
        "\n",
        "ResNet = torch.nn.Sequential(\n",
        "    *[\n",
        "     torch.nn.Sequential(torch.nn.Conv2d(1, 64, kernel_size=7, stride=2, padding=3), torch.nn.BatchNorm2d(64), \n",
        "                         torch.nn.ReLU(), torch.nn.MaxPool2d(kernel_size=3, stride=2, padding=1)), \n",
        "     torch.nn.Sequential(*[Resnet_block(64, 64, False, True), Resnet_block(64, 64, False, True)]), \n",
        "     torch.nn.Sequential(*[Resnet_block(64, 128, True, True), Resnet_block(128, 128, False, True)]), \n",
        "     torch.nn.Sequential(*[Resnet_block(128, 256, True, True), Resnet_block(256, 256, False, True)]), \n",
        "     torch.nn.Sequential(*[Resnet_block(256, 512, True, True), Resnet_block(512, 512, False, True)]), \n",
        "     torch.nn.AdaptiveAvgPool2d((1,1)),\n",
        "     torch.nn.Flatten(),\n",
        "     torch.nn.Linear(512, 10),\n",
        "    ]\n",
        ")\n",
        "\n",
        "\n",
        "train_dataloader = torch.utils.data.DataLoader(train_dataset,\n",
        "                                               batch_size=batch_size,\n",
        "                                               shuffle=True,\n",
        "                                               num_workers=4)\n",
        "\n",
        "test_dataloader = torch.utils.data.DataLoader(test_dataset,\n",
        "                                              batch_size=batch_size,\n",
        "                                              shuffle=False,\n",
        "                                              num_workers=4)\n",
        "\n",
        "\n",
        "device = torch.device('cuda')\n",
        "\n",
        "train_p2(num_epochs=10, \n",
        "         net=ResNet,  \n",
        "         lr=0.05, \n",
        "         train_iter=train_dataloader,\n",
        "         test_iter=test_dataloader,\n",
        "         device=device,\n",
        "         optim_type=\"SGD\")\n"
      ],
      "execution_count": 10,
      "outputs": [
        {
          "output_type": "stream",
          "name": "stdout",
          "text": [
            "training on cuda\n",
            "loss 0.481, train acc 0.824, test acc 0.826\n",
            "loss 0.266, train acc 0.902, test acc 0.840\n",
            "loss 0.207, train acc 0.923, test acc 0.880\n",
            "loss 0.158, train acc 0.943, test acc 0.876\n",
            "loss 0.122, train acc 0.956, test acc 0.905\n",
            "loss 0.093, train acc 0.968, test acc 0.892\n",
            "loss 0.070, train acc 0.975, test acc 0.884\n",
            "loss 0.051, train acc 0.982, test acc 0.904\n",
            "loss 0.038, train acc 0.987, test acc 0.903\n",
            "loss 0.025, train acc 0.992, test acc 0.889\n",
            "2149.6 examples/sec on cuda\n"
          ]
        }
      ]
    },
    {
      "cell_type": "code",
      "metadata": {
        "id": "5XhYBD0vzt94",
        "colab": {
          "base_uri": "https://localhost:8080/"
        },
        "outputId": "4b061087-5687-41a3-a02d-fac299984add"
      },
      "source": [
        "X = torch.ones((1, 1, 96, 96))\n",
        "\n",
        "ResNet = torch.nn.Sequential(\n",
        "    *[\n",
        "     torch.nn.Sequential(*[Resnet_block(1, 64, True, True), Resnet_block(64, 64, False, True), \n",
        "                           Resnet_block(64, 64, False, True)]), \n",
        "     torch.nn.Sequential(*[Resnet_block(64, 128, True, True), Resnet_block(128, 128, False, True), \n",
        "                           Resnet_block(128, 128, False, True)]), \n",
        "     torch.nn.Sequential(*[Resnet_block(128, 256, True, True), Resnet_block(256, 256, False, True), \n",
        "                           Resnet_block(256, 256, False, True)]), \n",
        "     torch.nn.Sequential(*[Resnet_block(256, 512, True, True), Resnet_block(512, 512, False, True), \n",
        "                           Resnet_block(512, 512, False, True)]), \n",
        "     torch.nn.AdaptiveAvgPool2d((1, 1)),\n",
        "     torch.nn.Flatten(),\n",
        "     torch.nn.Linear(512, 10),\n",
        "    ]\n",
        ")\n",
        "\n",
        "for layer in ResNet:\n",
        "    X = layer(X)\n",
        "    print(layer.__class__.__name__, X.shape)"
      ],
      "execution_count": 7,
      "outputs": [
        {
          "output_type": "stream",
          "name": "stdout",
          "text": [
            "Sequential torch.Size([1, 64, 48, 48])\n",
            "Sequential torch.Size([1, 128, 24, 24])\n",
            "Sequential torch.Size([1, 256, 12, 12])\n",
            "Sequential torch.Size([1, 512, 6, 6])\n",
            "AdaptiveAvgPool2d torch.Size([1, 512, 1, 1])\n",
            "Flatten torch.Size([1, 512])\n",
            "Linear torch.Size([1, 10])\n"
          ]
        }
      ]
    },
    {
      "cell_type": "code",
      "source": [
        ""
      ],
      "metadata": {
        "id": "jDJKKxA_Yid_"
      },
      "execution_count": 7,
      "outputs": []
    }
  ]
}