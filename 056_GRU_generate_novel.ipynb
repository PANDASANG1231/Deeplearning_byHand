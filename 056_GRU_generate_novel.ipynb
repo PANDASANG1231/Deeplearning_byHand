{
  "cells": [
    {
      "cell_type": "markdown",
      "metadata": {
        "id": "view-in-github",
        "colab_type": "text"
      },
      "source": [
        "<a href=\"https://colab.research.google.com/github/PANDASANG1231/Deeplearning_byHand/blob/main/056_GRU_generate_novel.ipynb\" target=\"_parent\"><img src=\"https://colab.research.google.com/assets/colab-badge.svg\" alt=\"Open In Colab\"/></a>"
      ]
    },
    {
      "cell_type": "code",
      "execution_count": 30,
      "metadata": {
        "colab": {
          "base_uri": "https://localhost:8080/"
        },
        "id": "8YrfmUn5MpwY",
        "outputId": "04565bbd-bd50-4159-83c9-2007bd4218f7"
      },
      "outputs": [
        {
          "output_type": "stream",
          "name": "stdout",
          "text": [
            "Mounted at /content/drive\n"
          ]
        }
      ],
      "source": [
        "import sys\n",
        "import time\n",
        "from google.colab import drive\n",
        "drive.mount('/content/drive', force_remount=True)\n",
        "sys.path.append('/content/drive/MyDrive/Colab Notebooks/')"
      ]
    },
    {
      "cell_type": "code",
      "execution_count": 31,
      "metadata": {
        "colab": {
          "base_uri": "https://localhost:8080/"
        },
        "id": "kGWyBvgxNjSV",
        "outputId": "227d862f-41ca-4de6-d11c-0b10f26f0c40"
      },
      "outputs": [
        {
          "output_type": "stream",
          "name": "stdout",
          "text": [
            "fatal: destination path 'Deeplearning_byHand' already exists and is not an empty directory.\n"
          ]
        }
      ],
      "source": [
        "!git clone --branch main https://github.com/PANDASANG1231/Deeplearning_byHand.git"
      ]
    },
    {
      "cell_type": "code",
      "execution_count": 32,
      "metadata": {
        "colab": {
          "base_uri": "https://localhost:8080/"
        },
        "id": "HYf5C6I86y3a",
        "outputId": "c670d8d5-6aab-4c3a-a6d0-8a6a7258d06b"
      },
      "outputs": [
        {
          "output_type": "stream",
          "name": "stdout",
          "text": [
            "Looking in indexes: https://pypi.org/simple, https://us-python.pkg.dev/colab-wheels/public/simple/\n",
            "Requirement already satisfied: transformers in /usr/local/lib/python3.7/dist-packages (4.22.1)\n",
            "Requirement already satisfied: huggingface-hub<1.0,>=0.9.0 in /usr/local/lib/python3.7/dist-packages (from transformers) (0.9.1)\n",
            "Requirement already satisfied: tokenizers!=0.11.3,<0.13,>=0.11.1 in /usr/local/lib/python3.7/dist-packages (from transformers) (0.12.1)\n",
            "Requirement already satisfied: filelock in /usr/local/lib/python3.7/dist-packages (from transformers) (3.8.0)\n",
            "Requirement already satisfied: importlib-metadata in /usr/local/lib/python3.7/dist-packages (from transformers) (4.12.0)\n",
            "Requirement already satisfied: numpy>=1.17 in /usr/local/lib/python3.7/dist-packages (from transformers) (1.21.6)\n",
            "Requirement already satisfied: regex!=2019.12.17 in /usr/local/lib/python3.7/dist-packages (from transformers) (2022.6.2)\n",
            "Requirement already satisfied: packaging>=20.0 in /usr/local/lib/python3.7/dist-packages (from transformers) (21.3)\n",
            "Requirement already satisfied: requests in /usr/local/lib/python3.7/dist-packages (from transformers) (2.23.0)\n",
            "Requirement already satisfied: tqdm>=4.27 in /usr/local/lib/python3.7/dist-packages (from transformers) (4.64.1)\n",
            "Requirement already satisfied: pyyaml>=5.1 in /usr/local/lib/python3.7/dist-packages (from transformers) (6.0)\n",
            "Requirement already satisfied: typing-extensions>=3.7.4.3 in /usr/local/lib/python3.7/dist-packages (from huggingface-hub<1.0,>=0.9.0->transformers) (4.1.1)\n",
            "Requirement already satisfied: pyparsing!=3.0.5,>=2.0.2 in /usr/local/lib/python3.7/dist-packages (from packaging>=20.0->transformers) (3.0.9)\n",
            "Requirement already satisfied: zipp>=0.5 in /usr/local/lib/python3.7/dist-packages (from importlib-metadata->transformers) (3.8.1)\n",
            "Requirement already satisfied: chardet<4,>=3.0.2 in /usr/local/lib/python3.7/dist-packages (from requests->transformers) (3.0.4)\n",
            "Requirement already satisfied: certifi>=2017.4.17 in /usr/local/lib/python3.7/dist-packages (from requests->transformers) (2022.6.15)\n",
            "Requirement already satisfied: idna<3,>=2.5 in /usr/local/lib/python3.7/dist-packages (from requests->transformers) (2.10)\n",
            "Requirement already satisfied: urllib3!=1.25.0,!=1.25.1,<1.26,>=1.21.1 in /usr/local/lib/python3.7/dist-packages (from requests->transformers) (1.24.3)\n"
          ]
        }
      ],
      "source": [
        "!pip install transformers"
      ]
    },
    {
      "cell_type": "markdown",
      "source": [
        "## Functions"
      ],
      "metadata": {
        "id": "y0U-EoctkDEM"
      }
    },
    {
      "cell_type": "markdown",
      "metadata": {
        "id": "4TkAO61ravsc"
      },
      "source": [
        "\n",
        "### Preprocess Data"
      ]
    },
    {
      "cell_type": "code",
      "source": [
        "import copy\n",
        "import json\n",
        "import math\n",
        "import numpy as np\n",
        "import pandas as pd\n",
        "from tqdm import tqdm\n",
        "from sklearn.model_selection import train_test_split\n",
        "from collections import Counter\n",
        "\n",
        "class Vocab:\n",
        "\n",
        "    def __init__(self, tokens=None, reserved_tokens=None, min_freq=0):\n",
        "\n",
        "        if tokens is None:\n",
        "            tokens = []\n",
        "        if reserved_tokens is None:\n",
        "            reserved_tokens = []\n",
        "\n",
        "        counter = count_corpus(tokens)\n",
        "        self._token_freqs = sorted(counter.items(), key=lambda x: x[1], reverse=True)\n",
        "\n",
        "        self.idx_to_token = ['<unk>'] + reserved_tokens\n",
        "        self.token_to_idx = {token: idx for idx, token in enumerate(self.idx_to_token)}\n",
        "        for token, freq in self._token_freqs:\n",
        "            if freq < min_freq:\n",
        "                break\n",
        "            if token not in self.token_to_idx:\n",
        "                self.idx_to_token.append(token)\n",
        "                self.token_to_idx[token] = len(self.idx_to_token) - 1\n",
        "\n",
        "    def __len__(self):\n",
        "        return len(self.idx_to_token)\n",
        "\n",
        "    def __getitem__(self, tokens):\n",
        "        if not isinstance(tokens, (list, tuple)):\n",
        "            return self.token_to_idx.get(tokens, self.unk)\n",
        "        return [self.__getitem__(token) for token in tokens]\n",
        "\n",
        "    def to_tokens(self, indices):\n",
        "        if not isinstance(indices, (list, tuple)):\n",
        "            return self.idx_to_token[indices]\n",
        "        return [self.idx_to_token[index] for index in indices]\n",
        "\n",
        "    @property\n",
        "    def unk(self):\n",
        "        return 0\n",
        "\n",
        "    @property\n",
        "    def token_freqs(self):\n",
        "        return self._token_freqs\n",
        "\n",
        "def load_txt(txt_file_path):\n",
        "\n",
        "  rst = []\n",
        "  with open(txt_file_path) as f:\n",
        "      for i in f.readlines():\n",
        "          rst.append(i)\n",
        "\n",
        "  return rst\n",
        "\n",
        "def tokenize(lines, type_=\"char\", lower_case=True):\n",
        "\n",
        "    if lower_case:\n",
        "        lines = [line.lower() for line in lines]\n",
        "    if type_ == \"word\":\n",
        "        return [line.split() for line in lines]\n",
        "    elif type_ == \"char\":\n",
        "        return [list(line) for line in lines]\n",
        "    else:\n",
        "        print(\"unknown type, type should be in ['char', 'word']\")\n",
        "\n",
        "def count_corpus(lines):\n",
        "\n",
        "    token_list = [token for line in lines for token in line]\n",
        "    c = Counter(token_list)\n",
        "\n",
        "    return c\n",
        "\n",
        "def load_time_machine_corpus(txt_file_path, min_freq=0, max_corpus=-1, lower_case=True, type_=\"char\"):\n",
        "    rst = load_txt(txt_file_path)\n",
        "    tokens = tokenize(rst, type_=type_, lower_case=lower_case)\n",
        "\n",
        "    vocab = Vocab(tokens, min_freq=min_freq)\n",
        "    corpus = [vocab[token] for line in tokens for token in line]\n",
        "\n",
        "    if max_corpus > 0:\n",
        "        corpus = corpus[:max_corpus]\n",
        "\n",
        "    return corpus, vocab"
      ],
      "metadata": {
        "id": "LwSwfP7GVBe1"
      },
      "execution_count": 33,
      "outputs": []
    },
    {
      "cell_type": "markdown",
      "metadata": {
        "id": "O0iQGFz_a1Gr"
      },
      "source": [
        "### Define Dataloader"
      ]
    },
    {
      "cell_type": "code",
      "source": [
        "from torch._C import device\n",
        "from sklearn.utils import shuffle\n",
        "import torch\n",
        "from torch import utils\n",
        "from torch import nn\n",
        "from torch.nn.functional import one_hot\n",
        "\n",
        "def handle_corpus(corpus, time_steps, train_size=0.9, random_state=2022):\n",
        "\n",
        "    data = [corpus[i: i+time_steps] for i in range(len(corpus) - time_steps)]\n",
        "    data_frame = pd.DataFrame([]).assign(\n",
        "        X = data[:-1],\n",
        "        y = data[1:]\n",
        "    )\n",
        "    train_data_frame, valid_data_frame = train_test_split(\n",
        "        data_frame, train_size=train_size, shuffle=True, random_state=random_state\n",
        "        )\n",
        "\n",
        "    return train_data_frame, valid_data_frame\n",
        "\n",
        "class seqDataSet(utils.data.Dataset):\n",
        "\n",
        "    def __init__(self, data_frame, vocab, type_=\"char\"):\n",
        "\n",
        "        self.data_frame = data_frame\n",
        "        self.vocab = vocab\n",
        "        self.X = data_frame[\"X\"].values\n",
        "        self.y = data_frame[\"y\"].values\n",
        "        self.type_ = type_\n",
        "        self.num_classes = len(vocab.token_to_idx.keys())\n",
        "\n",
        "    def __len__(self):\n",
        "\n",
        "        return len(self.y)\n",
        "\n",
        "    def __getitem__(self, idx):\n",
        "\n",
        "        item_X, item_y = torch.LongTensor(self.X[idx]), torch.LongTensor(self.y[idx])\n",
        "\n",
        "        if self.type_ == \"char\":\n",
        "            return one_hot(item_X, self.num_classes), one_hot(item_y, self.num_classes)\n",
        "        else:\n",
        "            return item_X, one_hot(item_y, self.num_classes)\n"
      ],
      "metadata": {
        "id": "s_CxJberv8Pa"
      },
      "execution_count": 34,
      "outputs": []
    },
    {
      "cell_type": "markdown",
      "metadata": {
        "id": "Wivfn99QbCrw"
      },
      "source": [
        "### Define Model"
      ]
    },
    {
      "cell_type": "code",
      "execution_count": 35,
      "metadata": {
        "id": "a83Obmlpamhe"
      },
      "outputs": [],
      "source": [
        "class languageModel(nn.Module):\n",
        "    \n",
        "    def __init__(self, output_size, input_size, hidden_size=128, num_layers=2):\n",
        "\n",
        "        super(languageModel, self).__init__()\n",
        "        \n",
        "        self.backbone = nn.GRU(\n",
        "                input_size=input_size, \n",
        "                hidden_size=hidden_size,\n",
        "                num_layers=num_layers,\n",
        "                dropout=0.3,\n",
        "                batch_first=True,\n",
        "            )\n",
        "        \n",
        "        self.tail = nn.Linear(hidden_size, output_size)\n",
        "        \n",
        "    def forward(self, x, h=None):\n",
        "        if h is None:\n",
        "            x, h = self.backbone(x.float())\n",
        "        else:\n",
        "            x, h = self.backbone(x.float(), h)\n",
        "        \n",
        "        x = self.tail(x)\n",
        "        \n",
        "        return x.reshape(-1, x.shape[-1]), h\n"
      ]
    },
    {
      "cell_type": "markdown",
      "metadata": {
        "id": "a0qgqvqRAEtp"
      },
      "source": [
        "### Train Function"
      ]
    },
    {
      "cell_type": "code",
      "execution_count": 36,
      "metadata": {
        "id": "YZLfjomkhQiD"
      },
      "outputs": [],
      "source": [
        "from transformers import get_linear_schedule_with_warmup\n",
        "\n",
        "\n",
        "def train_epoch(model, loss, optimizer, scheduler, train_data_iter, valid_data_iter, device):\n",
        "\n",
        "    eval_accu = [0, 0]\n",
        "    time_accu = [0, 0]\n",
        "    state = None\n",
        "\n",
        "    for batch_X, batch_y in tqdm(train_data_iter, total=len(train_data_iter)):\n",
        "\n",
        "        model.to(torch.float32)\n",
        "        model.train()\n",
        "        \n",
        "        time_ = time.time()\n",
        "        batch_X, batch_y = batch_X.to(device=device), batch_y.to(device=device)\n",
        "        batch_y = batch_y.reshape(-1, batch_y.shape[-1]).to(torch.float32)\n",
        "\n",
        "        ## 注意这里是将最近的一个state移出计算图，后面model(batch_X, state)后\n",
        "        ## state会重新进入计算图，但是state之间不会循环反向传递\n",
        "        if state is None:\n",
        "            pass\n",
        "        elif not isinstance(state, list) and not isinstance(state, tuple):\n",
        "            state.detach_()\n",
        "        else:\n",
        "            for s in state:\n",
        "                s.detach_()\n",
        "\n",
        "        batch_y_hat, state = model(batch_X, state)\n",
        "        batch_loss = loss(batch_y_hat, batch_y)\n",
        "      \n",
        "        optimizer.zero_grad()\n",
        "        batch_loss.backward()\n",
        "        optimizer.step()\n",
        "        scheduler.step()\n",
        "        time_ = time.time() - time_\n",
        "\n",
        "        with torch.no_grad():\n",
        "            n = batch_X.shape[0] * batch_X.shape[1]\n",
        "            eval_accu = [sum(x) for x in zip(*[eval_accu, [n, batch_loss * n]])]\n",
        "\n",
        "    train_metrics = {\n",
        "        \"train_perplexity\": math.exp(eval_accu[1] / eval_accu[0]),\n",
        "        \"train_loss\": eval_accu[1] / eval_accu[0],\n",
        "        }\n",
        "\n",
        "    eval_accu = [0, 0]\n",
        "    time_accu = [0, 0]\n",
        "    state = None\n",
        "\n",
        "    for batch_X, batch_y in tqdm(valid_data_iter, total=len(valid_data_iter)):\n",
        "\n",
        "        model.to(torch.float32)\n",
        "        model.eval()\n",
        "        batch_X, batch_y = batch_X.to(device=device), batch_y.to(device=device)\n",
        "        batch_y = batch_y.reshape(-1, batch_y.shape[-1]).to(torch.float32)\n",
        "\n",
        "        batch_y_hat, state = model(batch_X, state)\n",
        "        batch_loss = loss(batch_y_hat, batch_y)\n",
        "\n",
        "        n = batch_X.shape[0] * batch_X.shape[1]\n",
        "        eval_accu = [sum(x) for x in zip(*[eval_accu, [n, batch_loss * n]])]\n",
        "\n",
        "    valid_metrics = {\n",
        "        \"valid_perplexity\": math.exp(eval_accu[1] / eval_accu[0]),\n",
        "        \"valid_loss\": eval_accu[1] / eval_accu[0],\n",
        "        }\n",
        "\n",
        "\n",
        "    return train_metrics, valid_metrics\n",
        "\n",
        "\n",
        "def train(model, \n",
        "          train_data_iter, \n",
        "          valid_data_iter, \n",
        "          epochs=50,\n",
        "          warmup_prop=0.1,\n",
        "          lr=1e-2,\n",
        "          device=torch.device(\"cuda\"),\n",
        "          type_=\"char\"\n",
        "          ):\n",
        "\n",
        "    model.to(device)\n",
        "    optimizer = torch.optim.SGD(model.parameters(), lr=lr)\n",
        "    loss = nn.CrossEntropyLoss(reduction='mean')\n",
        "    \n",
        "    num_training_steps = int(epochs * len(train_data_iter))\n",
        "    num_warmup_steps = int(warmup_prop * num_training_steps)\n",
        "    scheduler = get_linear_schedule_with_warmup(\n",
        "        optimizer, num_warmup_steps, num_training_steps\n",
        "    )\n",
        "\n",
        "    for epoch in range(epochs):\n",
        "\n",
        "        train_metrics, valid_metrics = train_epoch(model, \n",
        "                                                   loss, \n",
        "                                                   optimizer, \n",
        "                                                   scheduler, \n",
        "                                                   train_data_iter, \n",
        "                                                   valid_data_iter, \n",
        "                                                   device)\n",
        "        lr = scheduler.get_last_lr()[0]\n",
        "        print(f\"Epoch {epoch + 1:02d}/{epochs:02d} \\t lr={lr:.1e}\\t\")\n",
        "        print(train_metrics, valid_metrics)\n",
        "\n",
        "        if type_ == \"char\":\n",
        "            print(inference(model, vocab, \"time traveller \", seq_num=100))\n",
        "        elif type_ == \"word\":\n",
        "            print(inference_word(model, vocab, [\"time\", \"traveller\",], seq_num=100))\n",
        "\n",
        "\n",
        "def inference(model_, vocab, start, seq_num=10):\n",
        "    \n",
        "    ## State一定要留下来，作为每一步预测的输入。否则结果会一样\n",
        "    ## Just like \"Alex like eat like eat like eat....\"\n",
        "\n",
        "    model = copy.deepcopy(model_).to(torch.device(\"cpu\"))\n",
        "    state, rst = None, []\n",
        "    for char in start:\n",
        "\n",
        "        input = one_hot(torch.LongTensor([vocab[char]]), len(vocab.idx_to_token))\n",
        "        pred, state = model(input, state)\n",
        "        rst.append(char)\n",
        "\n",
        "    cur_char = char\n",
        "    for i in range(seq_num):\n",
        "\n",
        "        input = one_hot(torch.LongTensor([vocab[cur_char]]), len(vocab.idx_to_token))\n",
        "        input.to(torch.device(\"cpu\"))\n",
        "        pred, state = model(input, state)\n",
        "        pred = torch.nn.Sigmoid()(pred).argmax()\n",
        "        cur_char = vocab.idx_to_token[pred.item()]\n",
        "        rst.append(cur_char)\n",
        "    \n",
        "    return \"\".join(rst)\n",
        "\n",
        "\n",
        "def inference_word(model_, vocab, start, seq_num=10):\n",
        "\n",
        "    model = copy.deepcopy(model_).to(torch.device(\"cpu\"))\n",
        "    state, rst = None, []\n",
        "    for char in start:\n",
        "\n",
        "        input = torch.LongTensor([vocab[char]])\n",
        "        pred, state = model(input, state)\n",
        "        rst.append(char)\n",
        "\n",
        "    cur_char = char\n",
        "    for i in range(seq_num):\n",
        "        try:\n",
        "            input = torch.LongTensor([vocab[cur_char]])\n",
        "            input.to(torch.device(\"cpu\"))\n",
        "            pred, state = model(input, state)\n",
        "            pred = torch.nn.Sigmoid()(pred).argmax()\n",
        "            cur_char = vocab.idx_to_token[pred.item()]\n",
        "            rst.append(cur_char)\n",
        "        except:\n",
        "            print(pred.item())\n",
        "            print(pred)\n",
        "            return\n",
        "    \n",
        "    return \" \".join(rst)"
      ]
    },
    {
      "cell_type": "markdown",
      "source": [
        "## Train the model using 'char' split"
      ],
      "metadata": {
        "id": "q5cZAgh2kUY-"
      }
    },
    {
      "cell_type": "code",
      "execution_count": 37,
      "metadata": {
        "colab": {
          "base_uri": "https://localhost:8080/"
        },
        "id": "HltwOFRi-Yc8",
        "outputId": "d827a859-833d-4a70-8ba8-79d110687b73"
      },
      "outputs": [
        {
          "output_type": "stream",
          "name": "stderr",
          "text": [
            "100%|██████████| 280/280 [00:02<00:00, 117.94it/s]\n",
            "100%|██████████| 31/31 [00:00<00:00, 42.76it/s]\n"
          ]
        },
        {
          "output_type": "stream",
          "name": "stdout",
          "text": [
            "Epoch 01/100 \t lr=1.0e-01\t\n",
            "{'train_perplexity': 28.106782938493335, 'train_loss': tensor(3.3360, device='cuda:0')} {'valid_perplexity': 21.160801575230966, 'valid_loss': tensor(3.0522, device='cuda:0', grad_fn=<DivBackward0>)}\n",
            "time traveller                                                                                                     \n"
          ]
        },
        {
          "output_type": "stream",
          "name": "stderr",
          "text": [
            "100%|██████████| 280/280 [00:03<00:00, 84.22it/s]\n",
            "100%|██████████| 31/31 [00:01<00:00, 28.03it/s]\n"
          ]
        },
        {
          "output_type": "stream",
          "name": "stdout",
          "text": [
            "Epoch 02/100 \t lr=2.0e-01\t\n",
            "{'train_perplexity': 20.898883568024093, 'train_loss': tensor(3.0397, device='cuda:0')} {'valid_perplexity': 20.849255281125785, 'valid_loss': tensor(3.0373, device='cuda:0', grad_fn=<DivBackward0>)}\n",
            "time traveller                                                                                                     \n"
          ]
        },
        {
          "output_type": "stream",
          "name": "stderr",
          "text": [
            "100%|██████████| 280/280 [00:03<00:00, 89.64it/s] \n",
            "100%|██████████| 31/31 [00:00<00:00, 37.04it/s]\n"
          ]
        },
        {
          "output_type": "stream",
          "name": "stdout",
          "text": [
            "Epoch 03/100 \t lr=3.0e-01\t\n",
            "{'train_perplexity': 20.57024129829348, 'train_loss': tensor(3.0238, device='cuda:0')} {'valid_perplexity': 19.964398361339995, 'valid_loss': tensor(2.9940, device='cuda:0', grad_fn=<DivBackward0>)}\n",
            "time traveller te e e te  oe  oe  oe  oe  oe  oe  oe  oe  oe  oe  oe  oe  oe  oe  oe  oe  oe  oe  oe  oe  oe  oe  o\n"
          ]
        },
        {
          "output_type": "stream",
          "name": "stderr",
          "text": [
            "100%|██████████| 280/280 [00:02<00:00, 108.75it/s]\n",
            "100%|██████████| 31/31 [00:00<00:00, 45.62it/s]\n"
          ]
        },
        {
          "output_type": "stream",
          "name": "stdout",
          "text": [
            "Epoch 04/100 \t lr=4.0e-01\t\n",
            "{'train_perplexity': 18.04500645238342, 'train_loss': tensor(2.8929, device='cuda:0')} {'valid_perplexity': 15.270182650225024, 'valid_loss': tensor(2.7259, device='cuda:0', grad_fn=<DivBackward0>)}\n",
            "time traveller aon the the the the the the the the the the the the the the the the the the the the the the the the \n"
          ]
        },
        {
          "output_type": "stream",
          "name": "stderr",
          "text": [
            "100%|██████████| 280/280 [00:02<00:00, 124.69it/s]\n",
            "100%|██████████| 31/31 [00:00<00:00, 46.50it/s]\n"
          ]
        },
        {
          "output_type": "stream",
          "name": "stdout",
          "text": [
            "Epoch 05/100 \t lr=5.0e-01\t\n",
            "{'train_perplexity': 13.317689755803501, 'train_loss': tensor(2.5891, device='cuda:0')} {'valid_perplexity': 11.54766915754014, 'valid_loss': tensor(2.4465, device='cuda:0', grad_fn=<DivBackward0>)}\n",
            "time traveller an the the the the the the the the the the the the the the the the the the the the the the the the t\n"
          ]
        },
        {
          "output_type": "stream",
          "name": "stderr",
          "text": [
            "100%|██████████| 280/280 [00:02<00:00, 125.69it/s]\n",
            "100%|██████████| 31/31 [00:00<00:00, 46.07it/s]\n"
          ]
        },
        {
          "output_type": "stream",
          "name": "stdout",
          "text": [
            "Epoch 06/100 \t lr=6.0e-01\t\n",
            "{'train_perplexity': 11.079814094739007, 'train_loss': tensor(2.4051, device='cuda:0')} {'valid_perplexity': 10.055584165113421, 'valid_loss': tensor(2.3081, device='cuda:0', grad_fn=<DivBackward0>)}\n",
            "time traveller fou the the the the the the the the the the the the the the the the the the the the the the the the \n"
          ]
        },
        {
          "output_type": "stream",
          "name": "stderr",
          "text": [
            "100%|██████████| 280/280 [00:02<00:00, 122.71it/s]\n",
            "100%|██████████| 31/31 [00:00<00:00, 47.60it/s]\n"
          ]
        },
        {
          "output_type": "stream",
          "name": "stdout",
          "text": [
            "Epoch 07/100 \t lr=7.0e-01\t\n",
            "{'train_perplexity': 9.74318605331503, 'train_loss': tensor(2.2766, device='cuda:0')} {'valid_perplexity': 8.691871901232474, 'valid_loss': tensor(2.1624, device='cuda:0', grad_fn=<DivBackward0>)}\n",
            "time traveller and and and and and and and and and and and and and and and and and and and and and and and and and \n"
          ]
        },
        {
          "output_type": "stream",
          "name": "stderr",
          "text": [
            "100%|██████████| 280/280 [00:02<00:00, 123.87it/s]\n",
            "100%|██████████| 31/31 [00:00<00:00, 46.02it/s]\n"
          ]
        },
        {
          "output_type": "stream",
          "name": "stdout",
          "text": [
            "Epoch 08/100 \t lr=8.0e-01\t\n",
            "{'train_perplexity': 8.401148121880919, 'train_loss': tensor(2.1284, device='cuda:0')} {'valid_perplexity': 7.3229328061680095, 'valid_loss': tensor(1.9910, device='cuda:0', grad_fn=<DivBackward0>)}\n",
            "time traveller the time time time time time time time time time time time time time time time time time time time t\n"
          ]
        },
        {
          "output_type": "stream",
          "name": "stderr",
          "text": [
            "100%|██████████| 280/280 [00:02<00:00, 124.78it/s]\n",
            "100%|██████████| 31/31 [00:00<00:00, 47.42it/s]\n"
          ]
        },
        {
          "output_type": "stream",
          "name": "stdout",
          "text": [
            "Epoch 09/100 \t lr=9.0e-01\t\n",
            "{'train_perplexity': 7.148427208294899, 'train_loss': tensor(1.9669, device='cuda:0')} {'valid_perplexity': 6.187960136869591, 'valid_loss': tensor(1.8226, device='cuda:0', grad_fn=<DivBackward0>)}\n",
            "time traveller siin the time traveller so centions and the time traveller so centions and the time traveller so cen\n"
          ]
        },
        {
          "output_type": "stream",
          "name": "stderr",
          "text": [
            "100%|██████████| 280/280 [00:02<00:00, 124.63it/s]\n",
            "100%|██████████| 31/31 [00:00<00:00, 45.64it/s]\n"
          ]
        },
        {
          "output_type": "stream",
          "name": "stdout",
          "text": [
            "Epoch 10/100 \t lr=1.0e+00\t\n",
            "{'train_perplexity': 5.904391504442418, 'train_loss': tensor(1.7757, device='cuda:0')} {'valid_perplexity': 5.008219226485176, 'valid_loss': tensor(1.6111, device='cuda:0', grad_fn=<DivBackward0>)}\n",
            "time traveller his fourth a mome traveller the time traveller the time traveller the time traveller the time travel\n"
          ]
        },
        {
          "output_type": "stream",
          "name": "stderr",
          "text": [
            "100%|██████████| 280/280 [00:02<00:00, 126.20it/s]\n",
            "100%|██████████| 31/31 [00:00<00:00, 45.77it/s]\n"
          ]
        },
        {
          "output_type": "stream",
          "name": "stdout",
          "text": [
            "Epoch 11/100 \t lr=9.9e-01\t\n",
            "{'train_perplexity': 4.798805935856224, 'train_loss': tensor(1.5684, device='cuda:0')} {'valid_perplexity': 3.985513771185233, 'valid_loss': tensor(1.3827, device='cuda:0', grad_fn=<DivBackward0>)}\n",
            "time traveller xi in the prover and the prover and the prover and the prover and the prover and the prover and the \n"
          ]
        },
        {
          "output_type": "stream",
          "name": "stderr",
          "text": [
            "100%|██████████| 280/280 [00:02<00:00, 125.39it/s]\n",
            "100%|██████████| 31/31 [00:00<00:00, 47.12it/s]\n"
          ]
        },
        {
          "output_type": "stream",
          "name": "stdout",
          "text": [
            "Epoch 12/100 \t lr=9.8e-01\t\n",
            "{'train_perplexity': 3.95182295112267, 'train_loss': tensor(1.3742, device='cuda:0')} {'valid_perplexity': 3.289287862931008, 'valid_loss': tensor(1.1907, device='cuda:0', grad_fn=<DivBackward0>)}\n",
            "time traveller dimensions of space, and the time traveller.\n",
            "\n",
            "“in the patter of the time traveller.\n",
            "\n",
            "“in the patter \n"
          ]
        },
        {
          "output_type": "stream",
          "name": "stderr",
          "text": [
            "100%|██████████| 280/280 [00:02<00:00, 124.79it/s]\n",
            "100%|██████████| 31/31 [00:00<00:00, 45.61it/s]\n"
          ]
        },
        {
          "output_type": "stream",
          "name": "stdout",
          "text": [
            "Epoch 13/100 \t lr=9.7e-01\t\n",
            "{'train_perplexity': 3.3583666815565536, 'train_loss': tensor(1.2115, device='cuda:0')} {'valid_perplexity': 2.825469971009278, 'valid_loss': tensor(1.0387, device='cuda:0', grad_fn=<DivBackward0>)}\n",
            "time traveller return, and have it would man at we man a moment. of space, and have it would man at we man a moment\n"
          ]
        },
        {
          "output_type": "stream",
          "name": "stderr",
          "text": [
            "100%|██████████| 280/280 [00:02<00:00, 124.92it/s]\n",
            "100%|██████████| 31/31 [00:00<00:00, 46.53it/s]\n"
          ]
        },
        {
          "output_type": "stream",
          "name": "stdout",
          "text": [
            "Epoch 14/100 \t lr=9.6e-01\t\n",
            "{'train_perplexity': 2.93277254991085, 'train_loss': tensor(1.0759, device='cuda:0')} {'valid_perplexity': 2.4687847890052916, 'valid_loss': tensor(0.9037, device='cuda:0', grad_fn=<DivBackward0>)}\n",
            "time traveller return\n",
            "\n",
            "in the provincial mayor.\n",
            "\n",
            "“it we move freely in time. there is not that is all real things w\n"
          ]
        },
        {
          "output_type": "stream",
          "name": "stderr",
          "text": [
            "100%|██████████| 280/280 [00:02<00:00, 123.75it/s]\n",
            "100%|██████████| 31/31 [00:00<00:00, 45.57it/s]\n"
          ]
        },
        {
          "output_type": "stream",
          "name": "stdout",
          "text": [
            "Epoch 15/100 \t lr=9.4e-01\t\n",
            "{'train_perplexity': 2.634789326877301, 'train_loss': tensor(0.9688, device='cuda:0')} {'valid_perplexity': 2.2679840346723057, 'valid_loss': tensor(0.8189, device='cuda:0', grad_fn=<DivBackward0>)}\n",
            "time traveller dimensions, which a line, and the latter to the time traveller.\n",
            "\n",
            "“it would travel the time traveller\n"
          ]
        },
        {
          "output_type": "stream",
          "name": "stderr",
          "text": [
            "100%|██████████| 280/280 [00:02<00:00, 118.44it/s]\n",
            "100%|██████████| 31/31 [00:00<00:00, 45.83it/s]\n"
          ]
        },
        {
          "output_type": "stream",
          "name": "stdout",
          "text": [
            "Epoch 16/100 \t lr=9.3e-01\t\n",
            "{'train_perplexity': 2.4293411561606155, 'train_loss': tensor(0.8876, device='cuda:0')} {'valid_perplexity': 2.107867715420505, 'valid_loss': tensor(0.7457, device='cuda:0', grad_fn=<DivBackward0>)}\n",
            "time traveller return\n",
            " xvi after the provincial mayor; and the provincial mayor; and the provincial mayor; and the \n"
          ]
        },
        {
          "output_type": "stream",
          "name": "stderr",
          "text": [
            "100%|██████████| 280/280 [00:02<00:00, 114.37it/s]\n",
            "100%|██████████| 31/31 [00:00<00:00, 36.15it/s]\n"
          ]
        },
        {
          "output_type": "stream",
          "name": "stdout",
          "text": [
            "Epoch 17/100 \t lr=9.2e-01\t\n",
            "{'train_perplexity': 2.28044287827467, 'train_loss': tensor(0.8244, device='cuda:0')} {'valid_perplexity': 2.0039425595807616, 'valid_loss': tensor(0.6951, device='cuda:0', grad_fn=<DivBackward0>)}\n",
            "time traveller return\n",
            "\n",
            "“in the ground. but you cannot move about in time. there are really four dimensions of space\n"
          ]
        },
        {
          "output_type": "stream",
          "name": "stderr",
          "text": [
            "100%|██████████| 280/280 [00:02<00:00, 118.06it/s]\n",
            "100%|██████████| 31/31 [00:00<00:00, 45.98it/s]\n"
          ]
        },
        {
          "output_type": "stream",
          "name": "stdout",
          "text": [
            "Epoch 18/100 \t lr=9.1e-01\t\n",
            "{'train_perplexity': 2.1774915864176463, 'train_loss': tensor(0.7782, device='cuda:0')} {'valid_perplexity': 1.938638521730081, 'valid_loss': tensor(0.6620, device='cuda:0', grad_fn=<DivBackward0>)}\n",
            "time traveller dimensions of space, as our mathematical society only a fourth dimensions of space, as our mathemati\n"
          ]
        },
        {
          "output_type": "stream",
          "name": "stderr",
          "text": [
            "100%|██████████| 280/280 [00:02<00:00, 124.38it/s]\n",
            "100%|██████████| 31/31 [00:00<00:00, 46.19it/s]\n"
          ]
        },
        {
          "output_type": "stream",
          "name": "stdout",
          "text": [
            "Epoch 19/100 \t lr=9.0e-01\t\n",
            "{'train_perplexity': 2.1051565439045086, 'train_loss': tensor(0.7444, device='cuda:0')} {'valid_perplexity': 1.8870400071174882, 'valid_loss': tensor(0.6350, device='cuda:0', grad_fn=<DivBackward0>)}\n",
            "time traveller return\n",
            " xvi after the time traveller.\n",
            "\n",
            "“you may copy it was so high, yesterday night it fell, the fo\n"
          ]
        },
        {
          "output_type": "stream",
          "name": "stderr",
          "text": [
            "100%|██████████| 280/280 [00:02<00:00, 122.71it/s]\n",
            "100%|██████████| 31/31 [00:00<00:00, 44.97it/s]\n"
          ]
        },
        {
          "output_type": "stream",
          "name": "stdout",
          "text": [
            "Epoch 20/100 \t lr=8.9e-01\t\n",
            "{'train_perplexity': 2.051806113192739, 'train_loss': tensor(0.7187, device='cuda:0')} {'valid_perplexity': 1.8511959905024766, 'valid_loss': tensor(0.6158, device='cuda:0', grad_fn=<DivBackward0>)}\n",
            "time traveller return\n",
            "\n",
            "\n",
            "\n",
            "\n",
            "\n",
            " i.\n",
            " introduction\n",
            "\n",
            "\n",
            "the time machine\n",
            "\n",
            "author<unk> h. g. wells\n",
            "\n",
            "release date<unk> july, <unk><unk><unk><unk><unk>\n",
            "\n",
            "la\n"
          ]
        },
        {
          "output_type": "stream",
          "name": "stderr",
          "text": [
            "100%|██████████| 280/280 [00:02<00:00, 123.33it/s]\n",
            "100%|██████████| 31/31 [00:00<00:00, 46.37it/s]\n"
          ]
        },
        {
          "output_type": "stream",
          "name": "stdout",
          "text": [
            "Epoch 21/100 \t lr=8.8e-01\t\n",
            "{'train_perplexity': 2.0034663918001847, 'train_loss': tensor(0.6949, device='cuda:0')} {'valid_perplexity': 1.8104019526828101, 'valid_loss': tensor(0.5935, device='cuda:0', grad_fn=<DivBackward0>)}\n",
            "time traveller return\n",
            " xvi after the pause\n",
            "required for the provincial mayor.\n",
            "\n",
            "“it is simply this, which i will exp\n"
          ]
        },
        {
          "output_type": "stream",
          "name": "stderr",
          "text": [
            "100%|██████████| 280/280 [00:02<00:00, 126.51it/s]\n",
            "100%|██████████| 31/31 [00:00<00:00, 45.92it/s]\n"
          ]
        },
        {
          "output_type": "stream",
          "name": "stdout",
          "text": [
            "Epoch 22/100 \t lr=8.7e-01\t\n",
            "{'train_perplexity': 1.9652977136906034, 'train_loss': tensor(0.6756, device='cuda:0')} {'valid_perplexity': 1.7784201894766851, 'valid_loss': tensor(0.5757, device='cuda:0', grad_fn=<DivBackward0>)}\n",
            "time traveller return\n",
            " xvi after the pause\n",
            "required for the provincial mayor.\n",
            "\n",
            "“it is simply this ebook is for the \n"
          ]
        },
        {
          "output_type": "stream",
          "name": "stderr",
          "text": [
            "100%|██████████| 280/280 [00:02<00:00, 124.41it/s]\n",
            "100%|██████████| 31/31 [00:00<00:00, 45.54it/s]\n"
          ]
        },
        {
          "output_type": "stream",
          "name": "stdout",
          "text": [
            "Epoch 23/100 \t lr=8.6e-01\t\n",
            "{'train_perplexity': 1.9412092892447173, 'train_loss': tensor(0.6633, device='cuda:0')} {'valid_perplexity': 1.7545404724396758, 'valid_loss': tensor(0.5622, device='cuda:0', grad_fn=<DivBackward0>)}\n",
            "time traveller return\n",
            " xvi after the story\n",
            " epilogue\n",
            "\n",
            "\n",
            "\n",
            "\n",
            " i.\n",
            " introduction\n",
            "\n",
            "\n",
            "the time traveller.\n",
            "\n",
            "“it would be rema\n"
          ]
        },
        {
          "output_type": "stream",
          "name": "stderr",
          "text": [
            "100%|██████████| 280/280 [00:02<00:00, 124.80it/s]\n",
            "100%|██████████| 31/31 [00:00<00:00, 47.37it/s]\n"
          ]
        },
        {
          "output_type": "stream",
          "name": "stdout",
          "text": [
            "Epoch 24/100 \t lr=8.4e-01\t\n",
            "{'train_perplexity': 1.9111238807831303, 'train_loss': tensor(0.6477, device='cuda:0')} {'valid_perplexity': 1.7418413254216836, 'valid_loss': tensor(0.5549, device='cuda:0', grad_fn=<DivBackward0>)}\n",
            "time traveller return\n",
            " xvi after the story\n",
            " epilogue\n",
            "\n",
            "\n",
            "\n",
            "\n",
            " i.\n",
            " introduction\n",
            "\n",
            "\n",
            "the time traveller, after the pause\n",
            "re\n"
          ]
        },
        {
          "output_type": "stream",
          "name": "stderr",
          "text": [
            "100%|██████████| 280/280 [00:02<00:00, 123.82it/s]\n",
            "100%|██████████| 31/31 [00:00<00:00, 45.91it/s]\n"
          ]
        },
        {
          "output_type": "stream",
          "name": "stdout",
          "text": [
            "Epoch 25/100 \t lr=8.3e-01\t\n",
            "{'train_perplexity': 1.8882364597531534, 'train_loss': tensor(0.6356, device='cuda:0')} {'valid_perplexity': 1.7330873373201157, 'valid_loss': tensor(0.5499, device='cuda:0', grad_fn=<DivBackward0>)}\n",
            "time traveller ret roceent of the time traveller.\n",
            "\n",
            "“it’s against reason,” said filby.\n",
            "\n",
            "“what reason?” said the time\n"
          ]
        },
        {
          "output_type": "stream",
          "name": "stderr",
          "text": [
            "100%|██████████| 280/280 [00:02<00:00, 127.17it/s]\n",
            "100%|██████████| 31/31 [00:00<00:00, 45.00it/s]\n"
          ]
        },
        {
          "output_type": "stream",
          "name": "stdout",
          "text": [
            "Epoch 26/100 \t lr=8.2e-01\t\n",
            "{'train_perplexity': 1.8796423540012415, 'train_loss': tensor(0.6311, device='cuda:0')} {'valid_perplexity': 1.7145012531854755, 'valid_loss': tensor(0.5391, device='cuda:0', grad_fn=<DivBackward0>)}\n",
            "time traveller return\n",
            " xvi after the story\n",
            " epilogue\n",
            "\n",
            "\n",
            "\n",
            "\n",
            " i.\n",
            " introduction\n",
            "\n",
            "\n",
            "the time traveller.\n",
            "\n",
            "“you cannot move \n"
          ]
        },
        {
          "output_type": "stream",
          "name": "stderr",
          "text": [
            "100%|██████████| 280/280 [00:02<00:00, 123.84it/s]\n",
            "100%|██████████| 31/31 [00:00<00:00, 45.86it/s]\n"
          ]
        },
        {
          "output_type": "stream",
          "name": "stdout",
          "text": [
            "Epoch 27/100 \t lr=8.1e-01\t\n",
            "{'train_perplexity': 1.8534983385469297, 'train_loss': tensor(0.6171, device='cuda:0')} {'valid_perplexity': 1.7020549767464732, 'valid_loss': tensor(0.5318, device='cuda:0', grad_fn=<DivBackward0>)}\n",
            "time traveller return\n",
            " xvi after the story\n",
            " epilogue\n",
            "\n",
            "\n",
            "\n",
            "\n",
            " i.\n",
            " introduction\n",
            " ii the machine\n",
            "\n",
            "author<unk> h. g. wells\n",
            "\n",
            "th\n"
          ]
        },
        {
          "output_type": "stream",
          "name": "stderr",
          "text": [
            "100%|██████████| 280/280 [00:02<00:00, 123.71it/s]\n",
            "100%|██████████| 31/31 [00:00<00:00, 45.84it/s]\n"
          ]
        },
        {
          "output_type": "stream",
          "name": "stdout",
          "text": [
            "Epoch 28/100 \t lr=8.0e-01\t\n",
            "{'train_perplexity': 1.8390304536163657, 'train_loss': tensor(0.6092, device='cuda:0')} {'valid_perplexity': 1.696340658607058, 'valid_loss': tensor(0.5285, device='cuda:0', grad_fn=<DivBackward0>)}\n",
            "time traveller return\n",
            " xvi after the pause\n",
            "required for the proper assimilation of this, “know very well that time\n",
            "\n"
          ]
        },
        {
          "output_type": "stream",
          "name": "stderr",
          "text": [
            "100%|██████████| 280/280 [00:02<00:00, 127.60it/s]\n",
            "100%|██████████| 31/31 [00:00<00:00, 46.78it/s]\n"
          ]
        },
        {
          "output_type": "stream",
          "name": "stdout",
          "text": [
            "Epoch 29/100 \t lr=7.9e-01\t\n",
            "{'train_perplexity': 1.8307448704669935, 'train_loss': tensor(0.6047, device='cuda:0')} {'valid_perplexity': 1.684252580070378, 'valid_loss': tensor(0.5213, device='cuda:0', grad_fn=<DivBackward0>)}\n",
            "time traveller return\n",
            " xvi after the savage in this way—marking the\n",
            "points with a lean forefinger—as we sat and laz\n"
          ]
        },
        {
          "output_type": "stream",
          "name": "stderr",
          "text": [
            "100%|██████████| 280/280 [00:02<00:00, 124.68it/s]\n",
            "100%|██████████| 31/31 [00:00<00:00, 46.68it/s]\n"
          ]
        },
        {
          "output_type": "stream",
          "name": "stdout",
          "text": [
            "Epoch 30/100 \t lr=7.8e-01\t\n",
            "{'train_perplexity': 1.8153904024488796, 'train_loss': tensor(0.5963, device='cuda:0')} {'valid_perplexity': 1.678035030444097, 'valid_loss': tensor(0.5176, device='cuda:0', grad_fn=<DivBackward0>)}\n",
            "time traveller return\n",
            " xvi after the story\n",
            " epilogue\n",
            "\n",
            "\n",
            "\n",
            "\n",
            " i.\n",
            " introduction\n",
            "\n",
            "\n",
            "the time traveller returns\n",
            " iv time tr\n"
          ]
        },
        {
          "output_type": "stream",
          "name": "stderr",
          "text": [
            "100%|██████████| 280/280 [00:02<00:00, 125.67it/s]\n",
            "100%|██████████| 31/31 [00:00<00:00, 45.79it/s]\n"
          ]
        },
        {
          "output_type": "stream",
          "name": "stdout",
          "text": [
            "Epoch 31/100 \t lr=7.7e-01\t\n",
            "{'train_perplexity': 1.8059940910877752, 'train_loss': tensor(0.5911, device='cuda:0')} {'valid_perplexity': 1.6681681052316317, 'valid_loss': tensor(0.5117, device='cuda:0', grad_fn=<DivBackward0>)}\n",
            "time traveller return\n",
            " xvi after the pause\n",
            "required for the project gutenberg ebook the time traveller.\n",
            "\n",
            "“it’s agai\n"
          ]
        },
        {
          "output_type": "stream",
          "name": "stderr",
          "text": [
            "100%|██████████| 280/280 [00:02<00:00, 124.27it/s]\n",
            "100%|██████████| 31/31 [00:00<00:00, 47.58it/s]\n"
          ]
        },
        {
          "output_type": "stream",
          "name": "stdout",
          "text": [
            "Epoch 32/100 \t lr=7.6e-01\t\n",
            "{'train_perplexity': 1.7914846827624173, 'train_loss': tensor(0.5830, device='cuda:0')} {'valid_perplexity': 1.6622405685536505, 'valid_loss': tensor(0.5082, device='cuda:0', grad_fn=<DivBackward0>)}\n",
            "time traveller return\n",
            " xvi after the story\n",
            " epilogue\n",
            "\n",
            "\n",
            "\n",
            "\n",
            " i.\n",
            " introduction\n",
            "\n",
            "\n",
            "the time traveller smiled. “are you so\n"
          ]
        },
        {
          "output_type": "stream",
          "name": "stderr",
          "text": [
            "100%|██████████| 280/280 [00:02<00:00, 125.43it/s]\n",
            "100%|██████████| 31/31 [00:00<00:00, 46.37it/s]\n"
          ]
        },
        {
          "output_type": "stream",
          "name": "stdout",
          "text": [
            "Epoch 33/100 \t lr=7.4e-01\t\n",
            "{'train_perplexity': 1.7863664225649485, 'train_loss': tensor(0.5802, device='cuda:0')} {'valid_perplexity': 1.657395927935404, 'valid_loss': tensor(0.5052, device='cuda:0', grad_fn=<DivBackward0>)}\n",
            "time traveller return\n",
            " xvi after the story\n",
            " epilogue\n",
            "\n",
            "\n",
            "\n",
            "\n",
            " i.\n",
            " introduction\n",
            " ii the machine\n",
            "\n",
            "author<unk> h. g. wells\n",
            "\n",
            "re\n"
          ]
        },
        {
          "output_type": "stream",
          "name": "stderr",
          "text": [
            "100%|██████████| 280/280 [00:02<00:00, 123.95it/s]\n",
            "100%|██████████| 31/31 [00:00<00:00, 45.95it/s]\n"
          ]
        },
        {
          "output_type": "stream",
          "name": "stdout",
          "text": [
            "Epoch 34/100 \t lr=7.3e-01\t\n",
            "{'train_perplexity': 1.7817624985316358, 'train_loss': tensor(0.5776, device='cuda:0')} {'valid_perplexity': 1.6547069154724383, 'valid_loss': tensor(0.5036, device='cuda:0', grad_fn=<DivBackward0>)}\n",
            "time traveller return\n",
            " xvi after the story\n",
            " epilogue\n",
            "\n",
            "\n",
            "\n",
            "\n",
            " i.\n",
            " introduction\n",
            " ii the machine\n",
            "\n",
            "author<unk> h. g. wells\n",
            "\n",
            "\n",
            "c\n"
          ]
        },
        {
          "output_type": "stream",
          "name": "stderr",
          "text": [
            "100%|██████████| 280/280 [00:02<00:00, 122.68it/s]\n",
            "100%|██████████| 31/31 [00:00<00:00, 44.07it/s]\n"
          ]
        },
        {
          "output_type": "stream",
          "name": "stdout",
          "text": [
            "Epoch 35/100 \t lr=7.2e-01\t\n",
            "{'train_perplexity': 1.7709218704380556, 'train_loss': tensor(0.5715, device='cuda:0')} {'valid_perplexity': 1.6466931646304124, 'valid_loss': tensor(0.4988, device='cuda:0', grad_fn=<DivBackward0>)}\n",
            "time traveller return\n",
            " xvi after the story\n",
            " epilogue\n",
            "\n",
            "\n",
            "\n",
            "\n",
            " i.\n",
            " introduction\n",
            " ii the machine\n",
            " iii the time traveller.\n"
          ]
        },
        {
          "output_type": "stream",
          "name": "stderr",
          "text": [
            "100%|██████████| 280/280 [00:02<00:00, 123.34it/s]\n",
            "100%|██████████| 31/31 [00:00<00:00, 46.27it/s]\n"
          ]
        },
        {
          "output_type": "stream",
          "name": "stdout",
          "text": [
            "Epoch 36/100 \t lr=7.1e-01\t\n",
            "{'train_perplexity': 1.7619330933718587, 'train_loss': tensor(0.5664, device='cuda:0')} {'valid_perplexity': 1.64325158324791, 'valid_loss': tensor(0.4967, device='cuda:0', grad_fn=<DivBackward0>)}\n",
            "time traveller really only a fourth dimension, or even turn about and travel the other dimensions of space\n",
            "generall\n"
          ]
        },
        {
          "output_type": "stream",
          "name": "stderr",
          "text": [
            "100%|██████████| 280/280 [00:02<00:00, 122.91it/s]\n",
            "100%|██████████| 31/31 [00:00<00:00, 45.78it/s]\n"
          ]
        },
        {
          "output_type": "stream",
          "name": "stdout",
          "text": [
            "Epoch 37/100 \t lr=7.0e-01\t\n",
            "{'train_perplexity': 1.757275139847732, 'train_loss': tensor(0.5638, device='cuda:0')} {'valid_perplexity': 1.638783765790833, 'valid_loss': tensor(0.4940, device='cuda:0', grad_fn=<DivBackward0>)}\n",
            "time traveller ret roceess over this new paradox <unk>as we thought it<unk> and his fecundity.\n",
            "\n",
            "“you must follow me careful\n"
          ]
        },
        {
          "output_type": "stream",
          "name": "stderr",
          "text": [
            "100%|██████████| 280/280 [00:02<00:00, 123.56it/s]\n",
            "100%|██████████| 31/31 [00:00<00:00, 44.93it/s]\n"
          ]
        },
        {
          "output_type": "stream",
          "name": "stdout",
          "text": [
            "Epoch 38/100 \t lr=6.9e-01\t\n",
            "{'train_perplexity': 1.747639853392075, 'train_loss': tensor(0.5583, device='cuda:0')} {'valid_perplexity': 1.6375174547290607, 'valid_loss': tensor(0.4932, device='cuda:0', grad_fn=<DivBackward0>)}\n",
            "time traveller return\n",
            " xvi after the story\n",
            " epilogue\n",
            "\n",
            "\n",
            "\n",
            "\n",
            " i.\n",
            " introduction\n",
            " ii the machine\n",
            " iii the time traveller \n"
          ]
        },
        {
          "output_type": "stream",
          "name": "stderr",
          "text": [
            "100%|██████████| 280/280 [00:02<00:00, 123.64it/s]\n",
            "100%|██████████| 31/31 [00:00<00:00, 45.59it/s]\n"
          ]
        },
        {
          "output_type": "stream",
          "name": "stdout",
          "text": [
            "Epoch 39/100 \t lr=6.8e-01\t\n",
            "{'train_perplexity': 1.743413066104922, 'train_loss': tensor(0.5558, device='cuda:0')} {'valid_perplexity': 1.6313664396675671, 'valid_loss': tensor(0.4894, device='cuda:0', grad_fn=<DivBackward0>)}\n",
            "time traveller returns\n",
            " iv time traveller <unk>for so it will be convenient to speak of him<unk> was\n",
            "expounding a recondite\n"
          ]
        },
        {
          "output_type": "stream",
          "name": "stderr",
          "text": [
            "100%|██████████| 280/280 [00:02<00:00, 124.25it/s]\n",
            "100%|██████████| 31/31 [00:00<00:00, 45.19it/s]\n"
          ]
        },
        {
          "output_type": "stream",
          "name": "stdout",
          "text": [
            "Epoch 40/100 \t lr=6.7e-01\t\n",
            "{'train_perplexity': 1.7391571096478167, 'train_loss': tensor(0.5534, device='cuda:0')} {'valid_perplexity': 1.6242448808233112, 'valid_loss': tensor(0.4850, device='cuda:0', grad_fn=<DivBackward0>)}\n",
            "time traveller returns\n",
            " iv time traveller.\n",
            "\n",
            "“it’s against reason,” said filby.\n",
            "\n",
            "“can a cube that does not last for \n"
          ]
        },
        {
          "output_type": "stream",
          "name": "stderr",
          "text": [
            "100%|██████████| 280/280 [00:02<00:00, 121.21it/s]\n",
            "100%|██████████| 31/31 [00:00<00:00, 44.82it/s]\n"
          ]
        },
        {
          "output_type": "stream",
          "name": "stdout",
          "text": [
            "Epoch 41/100 \t lr=6.6e-01\t\n",
            "{'train_perplexity': 1.7333705059020525, 'train_loss': tensor(0.5501, device='cuda:0')} {'valid_perplexity': 1.6210546563321973, 'valid_loss': tensor(0.4831, device='cuda:0', grad_fn=<DivBackward0>)}\n",
            "time traveller return\n",
            " xvi after the story\n",
            " epilogue\n",
            "\n",
            "\n",
            "\n",
            "\n",
            " i.\n",
            " introduction\n",
            " ii the machine\n",
            " iii the time traveller \n"
          ]
        },
        {
          "output_type": "stream",
          "name": "stderr",
          "text": [
            "100%|██████████| 280/280 [00:02<00:00, 124.69it/s]\n",
            "100%|██████████| 31/31 [00:00<00:00, 45.43it/s]\n"
          ]
        },
        {
          "output_type": "stream",
          "name": "stdout",
          "text": [
            "Epoch 42/100 \t lr=6.4e-01\t\n",
            "{'train_perplexity': 1.728629382005338, 'train_loss': tensor(0.5473, device='cuda:0')} {'valid_perplexity': 1.6171328191995489, 'valid_loss': tensor(0.4807, device='cuda:0', grad_fn=<DivBackward0>)}\n",
            "time traveller return\n",
            " xvi after the story\n",
            " epilogue\n",
            "\n",
            "\n",
            "\n",
            "\n",
            " i.\n",
            " introduction\n",
            "\n",
            "\n",
            "the time traveller smiled. “are you so\n"
          ]
        },
        {
          "output_type": "stream",
          "name": "stderr",
          "text": [
            "100%|██████████| 280/280 [00:02<00:00, 123.97it/s]\n",
            "100%|██████████| 31/31 [00:00<00:00, 47.16it/s]\n"
          ]
        },
        {
          "output_type": "stream",
          "name": "stdout",
          "text": [
            "Epoch 43/100 \t lr=6.3e-01\t\n",
            "{'train_perplexity': 1.7204401982921957, 'train_loss': tensor(0.5426, device='cuda:0')} {'valid_perplexity': 1.6159603875989823, 'valid_loss': tensor(0.4799, device='cuda:0', grad_fn=<DivBackward0>)}\n",
            "time traveller return\n",
            " xvi after the story\n",
            " epilogue\n",
            "\n",
            "\n",
            "\n",
            "\n",
            " i.\n",
            " introduction\n",
            "\n",
            "\n",
            "the time traveller.\n",
            "\n",
            "“it would be rema\n"
          ]
        },
        {
          "output_type": "stream",
          "name": "stderr",
          "text": [
            "100%|██████████| 280/280 [00:02<00:00, 125.01it/s]\n",
            "100%|██████████| 31/31 [00:00<00:00, 45.15it/s]\n"
          ]
        },
        {
          "output_type": "stream",
          "name": "stdout",
          "text": [
            "Epoch 44/100 \t lr=6.2e-01\t\n",
            "{'train_perplexity': 1.7156531421005732, 'train_loss': tensor(0.5398, device='cuda:0')} {'valid_perplexity': 1.6111376469244256, 'valid_loss': tensor(0.4769, device='cuda:0', grad_fn=<DivBackward0>)}\n",
            "time traveller return\n",
            " xvi after the story\n",
            " epilogue\n",
            "\n",
            "\n",
            "\n",
            "\n",
            " i.\n",
            " introduction\n",
            " ii the machine\n",
            " iii the trap of the whi\n"
          ]
        },
        {
          "output_type": "stream",
          "name": "stderr",
          "text": [
            "100%|██████████| 280/280 [00:02<00:00, 123.89it/s]\n",
            "100%|██████████| 31/31 [00:00<00:00, 45.49it/s]\n"
          ]
        },
        {
          "output_type": "stream",
          "name": "stdout",
          "text": [
            "Epoch 45/100 \t lr=6.1e-01\t\n",
            "{'train_perplexity': 1.7127073900110494, 'train_loss': tensor(0.5381, device='cuda:0')} {'valid_perplexity': 1.6093140372836603, 'valid_loss': tensor(0.4758, device='cuda:0', grad_fn=<DivBackward0>)}\n",
            "time traveller return\n",
            " xvi after the pause\n",
            "required for the proper assimilation of this, “know very well that time\n",
            "\n"
          ]
        },
        {
          "output_type": "stream",
          "name": "stderr",
          "text": [
            "100%|██████████| 280/280 [00:02<00:00, 122.78it/s]\n",
            "100%|██████████| 31/31 [00:00<00:00, 45.35it/s]\n"
          ]
        },
        {
          "output_type": "stream",
          "name": "stdout",
          "text": [
            "Epoch 46/100 \t lr=6.0e-01\t\n",
            "{'train_perplexity': 1.7097689377583194, 'train_loss': tensor(0.5364, device='cuda:0')} {'valid_perplexity': 1.6086705253884894, 'valid_loss': tensor(0.4754, device='cuda:0', grad_fn=<DivBackward0>)}\n",
            "time traveller returns\n",
            " iv time traveller smiled. “are you so sure we can move freely in two dimensions of space\n",
            "ge\n"
          ]
        },
        {
          "output_type": "stream",
          "name": "stderr",
          "text": [
            "100%|██████████| 280/280 [00:02<00:00, 123.32it/s]\n",
            "100%|██████████| 31/31 [00:00<00:00, 46.71it/s]\n"
          ]
        },
        {
          "output_type": "stream",
          "name": "stdout",
          "text": [
            "Epoch 47/100 \t lr=5.9e-01\t\n",
            "{'train_perplexity': 1.7081069796875088, 'train_loss': tensor(0.5354, device='cuda:0')} {'valid_perplexity': 1.6048387679058977, 'valid_loss': tensor(0.4730, device='cuda:0', grad_fn=<DivBackward0>)}\n",
            "time traveller return\n",
            " xvi after the story\n",
            " epilogue\n",
            "\n",
            "\n",
            "\n",
            "\n",
            " i.\n",
            " introduction\n",
            " ii the machine\n",
            " iii the time traveller \n"
          ]
        },
        {
          "output_type": "stream",
          "name": "stderr",
          "text": [
            "100%|██████████| 280/280 [00:02<00:00, 124.02it/s]\n",
            "100%|██████████| 31/31 [00:00<00:00, 45.88it/s]\n"
          ]
        },
        {
          "output_type": "stream",
          "name": "stdout",
          "text": [
            "Epoch 48/100 \t lr=5.8e-01\t\n",
            "{'train_perplexity': 1.699875494485096, 'train_loss': tensor(0.5306, device='cuda:0')} {'valid_perplexity': 1.602209193152389, 'valid_loss': tensor(0.4714, device='cuda:0', grad_fn=<DivBackward0>)}\n",
            "time traveller return\n",
            " xvi after the story\n",
            " epilogue\n",
            "\n",
            "\n",
            "\n",
            "\n",
            " i.\n",
            " introduction\n",
            " ii the machine\n",
            " iii the time traveller.\n"
          ]
        },
        {
          "output_type": "stream",
          "name": "stderr",
          "text": [
            "100%|██████████| 280/280 [00:02<00:00, 121.40it/s]\n",
            "100%|██████████| 31/31 [00:00<00:00, 45.68it/s]\n"
          ]
        },
        {
          "output_type": "stream",
          "name": "stdout",
          "text": [
            "Epoch 49/100 \t lr=5.7e-01\t\n",
            "{'train_perplexity': 1.6961508861614123, 'train_loss': tensor(0.5284, device='cuda:0')} {'valid_perplexity': 1.5984969138307223, 'valid_loss': tensor(0.4691, device='cuda:0', grad_fn=<DivBackward0>)}\n",
            "time traveller return\n",
            " xvi after the story\n",
            " epilogue\n",
            "\n",
            "\n",
            "\n",
            "\n",
            " i.\n",
            " introduction\n",
            " ii the machine\n",
            " iii the time traveller.\n"
          ]
        },
        {
          "output_type": "stream",
          "name": "stderr",
          "text": [
            "100%|██████████| 280/280 [00:02<00:00, 118.09it/s]\n",
            "100%|██████████| 31/31 [00:00<00:00, 45.03it/s]\n"
          ]
        },
        {
          "output_type": "stream",
          "name": "stdout",
          "text": [
            "Epoch 50/100 \t lr=5.6e-01\t\n",
            "{'train_perplexity': 1.6934885276276754, 'train_loss': tensor(0.5268, device='cuda:0')} {'valid_perplexity': 1.5989866216511488, 'valid_loss': tensor(0.4694, device='cuda:0', grad_fn=<DivBackward0>)}\n",
            "time traveller return\n",
            " xvi after the story\n",
            " epilogue\n",
            "\n",
            "\n",
            "\n",
            "\n",
            " i.\n",
            " introduction\n",
            " ii the machine\n",
            " iii the time traveller.\n"
          ]
        },
        {
          "output_type": "stream",
          "name": "stderr",
          "text": [
            "100%|██████████| 280/280 [00:02<00:00, 121.44it/s]\n",
            "100%|██████████| 31/31 [00:00<00:00, 46.17it/s]\n"
          ]
        },
        {
          "output_type": "stream",
          "name": "stdout",
          "text": [
            "Epoch 51/100 \t lr=5.4e-01\t\n",
            "{'train_perplexity': 1.6919804525841107, 'train_loss': tensor(0.5259, device='cuda:0')} {'valid_perplexity': 1.5945416395149725, 'valid_loss': tensor(0.4666, device='cuda:0', grad_fn=<DivBackward0>)}\n",
            "time traveller return\n",
            " xvi after the story\n",
            " epilogue\n",
            "\n",
            "\n",
            "\n",
            "\n",
            " i.\n",
            " introduction\n",
            "\n",
            "\n",
            "the time traveller smiled. “are you so\n"
          ]
        },
        {
          "output_type": "stream",
          "name": "stderr",
          "text": [
            "100%|██████████| 280/280 [00:02<00:00, 120.67it/s]\n",
            "100%|██████████| 31/31 [00:00<00:00, 45.34it/s]\n"
          ]
        },
        {
          "output_type": "stream",
          "name": "stdout",
          "text": [
            "Epoch 52/100 \t lr=5.3e-01\t\n",
            "{'train_perplexity': 1.6944245989579043, 'train_loss': tensor(0.5273, device='cuda:0')} {'valid_perplexity': 1.5937294266757196, 'valid_loss': tensor(0.4661, device='cuda:0', grad_fn=<DivBackward0>)}\n",
            "time traveller return\n",
            " xvi after the story\n",
            " epilogue\n",
            "\n",
            "\n",
            "\n",
            "\n",
            " i.\n",
            " introduction\n",
            " ii the machine\n",
            " iii the time traveller.\n"
          ]
        },
        {
          "output_type": "stream",
          "name": "stderr",
          "text": [
            "100%|██████████| 280/280 [00:02<00:00, 121.97it/s]\n",
            "100%|██████████| 31/31 [00:00<00:00, 45.30it/s]\n"
          ]
        },
        {
          "output_type": "stream",
          "name": "stdout",
          "text": [
            "Epoch 53/100 \t lr=5.2e-01\t\n",
            "{'train_perplexity': 1.6853480828145844, 'train_loss': tensor(0.5220, device='cuda:0')} {'valid_perplexity': 1.5920335051058523, 'valid_loss': tensor(0.4650, device='cuda:0', grad_fn=<DivBackward0>)}\n",
            "time traveller returns\n",
            " iv time traveller.\n",
            "\n",
            "“it would be remarkably convenient for the historian,” the psychologist\n"
          ]
        },
        {
          "output_type": "stream",
          "name": "stderr",
          "text": [
            "100%|██████████| 280/280 [00:02<00:00, 121.68it/s]\n",
            "100%|██████████| 31/31 [00:00<00:00, 46.21it/s]\n"
          ]
        },
        {
          "output_type": "stream",
          "name": "stdout",
          "text": [
            "Epoch 54/100 \t lr=5.1e-01\t\n",
            "{'train_perplexity': 1.688031248543281, 'train_loss': tensor(0.5236, device='cuda:0')} {'valid_perplexity': 1.5880223800217734, 'valid_loss': tensor(0.4625, device='cuda:0', grad_fn=<DivBackward0>)}\n",
            "time traveller return\n",
            " xvi after the story\n",
            " epilogue\n",
            "\n",
            "\n",
            "\n",
            "\n",
            " i.\n",
            " introduction\n",
            "\n",
            "\n",
            "the time traveller.\n",
            "\n",
            "“it would be rema\n"
          ]
        },
        {
          "output_type": "stream",
          "name": "stderr",
          "text": [
            "100%|██████████| 280/280 [00:02<00:00, 123.03it/s]\n",
            "100%|██████████| 31/31 [00:00<00:00, 45.31it/s]\n"
          ]
        },
        {
          "output_type": "stream",
          "name": "stdout",
          "text": [
            "Epoch 55/100 \t lr=5.0e-01\t\n",
            "{'train_perplexity': 1.6830268716630061, 'train_loss': tensor(0.5206, device='cuda:0')} {'valid_perplexity': 1.5864677949706663, 'valid_loss': tensor(0.4615, device='cuda:0', grad_fn=<DivBackward0>)}\n",
            "time traveller return\n",
            " xvi after the pause\n",
            "required for the proper assimilation of this, “know very well that time\n",
            "\n"
          ]
        },
        {
          "output_type": "stream",
          "name": "stderr",
          "text": [
            "100%|██████████| 280/280 [00:02<00:00, 121.34it/s]\n",
            "100%|██████████| 31/31 [00:00<00:00, 46.08it/s]\n"
          ]
        },
        {
          "output_type": "stream",
          "name": "stdout",
          "text": [
            "Epoch 56/100 \t lr=4.9e-01\t\n",
            "{'train_perplexity': 1.680177997656222, 'train_loss': tensor(0.5189, device='cuda:0')} {'valid_perplexity': 1.5870679443277962, 'valid_loss': tensor(0.4619, device='cuda:0', grad_fn=<DivBackward0>)}\n",
            "time traveller returns of space\n",
            "generally recognised? but certainly it traced such a line, and that\n",
            "line, therefore\n"
          ]
        },
        {
          "output_type": "stream",
          "name": "stderr",
          "text": [
            "100%|██████████| 280/280 [00:02<00:00, 123.98it/s]\n",
            "100%|██████████| 31/31 [00:00<00:00, 45.60it/s]\n"
          ]
        },
        {
          "output_type": "stream",
          "name": "stdout",
          "text": [
            "Epoch 57/100 \t lr=4.8e-01\t\n",
            "{'train_perplexity': 1.6746232656238726, 'train_loss': tensor(0.5156, device='cuda:0')} {'valid_perplexity': 1.5856950428488772, 'valid_loss': tensor(0.4610, device='cuda:0', grad_fn=<DivBackward0>)}\n",
            "time traveller return\n",
            " xvi after the story\n",
            " epilogue\n",
            "\n",
            "\n",
            "\n",
            "\n",
            " i.\n",
            " introduction\n",
            " ii the machine\n",
            " iii the time traveller.\n"
          ]
        },
        {
          "output_type": "stream",
          "name": "stderr",
          "text": [
            "100%|██████████| 280/280 [00:02<00:00, 124.62it/s]\n",
            "100%|██████████| 31/31 [00:00<00:00, 45.53it/s]\n"
          ]
        },
        {
          "output_type": "stream",
          "name": "stdout",
          "text": [
            "Epoch 58/100 \t lr=4.7e-01\t\n",
            "{'train_perplexity': 1.6746215687642094, 'train_loss': tensor(0.5156, device='cuda:0')} {'valid_perplexity': 1.5844422246504577, 'valid_loss': tensor(0.4602, device='cuda:0', grad_fn=<DivBackward0>)}\n",
            "time traveller return\n",
            " xvi after the story\n",
            " epilogue\n",
            "\n",
            "\n",
            "\n",
            "\n",
            " i.\n",
            " introduction\n",
            " ii the machine\n",
            " iii the time traveller.\n"
          ]
        },
        {
          "output_type": "stream",
          "name": "stderr",
          "text": [
            "100%|██████████| 280/280 [00:02<00:00, 125.25it/s]\n",
            "100%|██████████| 31/31 [00:00<00:00, 46.29it/s]\n"
          ]
        },
        {
          "output_type": "stream",
          "name": "stdout",
          "text": [
            "Epoch 59/100 \t lr=4.6e-01\t\n",
            "{'train_perplexity': 1.6673119295434675, 'train_loss': tensor(0.5112, device='cuda:0')} {'valid_perplexity': 1.5825459639093262, 'valid_loss': tensor(0.4590, device='cuda:0', grad_fn=<DivBackward0>)}\n",
            "time traveller returns\n",
            " iv time traveller.\n",
            "\n",
            "“it’s against reason,” said filby.\n",
            "\n",
            "“what reason?” said the time travel\n"
          ]
        },
        {
          "output_type": "stream",
          "name": "stderr",
          "text": [
            "100%|██████████| 280/280 [00:02<00:00, 123.87it/s]\n",
            "100%|██████████| 31/31 [00:00<00:00, 45.44it/s]\n"
          ]
        },
        {
          "output_type": "stream",
          "name": "stdout",
          "text": [
            "Epoch 60/100 \t lr=4.4e-01\t\n",
            "{'train_perplexity': 1.6678557236410363, 'train_loss': tensor(0.5115, device='cuda:0')} {'valid_perplexity': 1.5816199429199689, 'valid_loss': tensor(0.4584, device='cuda:0', grad_fn=<DivBackward0>)}\n",
            "time traveller really only a fourth dimension, though some\n",
            "people who talk about the fourth dimension, though some\n",
            "\n"
          ]
        },
        {
          "output_type": "stream",
          "name": "stderr",
          "text": [
            "100%|██████████| 280/280 [00:02<00:00, 123.63it/s]\n",
            "100%|██████████| 31/31 [00:00<00:00, 45.92it/s]\n"
          ]
        },
        {
          "output_type": "stream",
          "name": "stdout",
          "text": [
            "Epoch 61/100 \t lr=4.3e-01\t\n",
            "{'train_perplexity': 1.6662974738504817, 'train_loss': tensor(0.5106, device='cuda:0')} {'valid_perplexity': 1.5776731861847164, 'valid_loss': tensor(0.4560, device='cuda:0', grad_fn=<DivBackward0>)}\n",
            "time traveller returns\n",
            " iv time traveller.\n",
            "\n",
            "“it would be remarkably convenient for the historian,” the psychologist\n"
          ]
        },
        {
          "output_type": "stream",
          "name": "stderr",
          "text": [
            "100%|██████████| 280/280 [00:02<00:00, 122.46it/s]\n",
            "100%|██████████| 31/31 [00:00<00:00, 46.86it/s]\n"
          ]
        },
        {
          "output_type": "stream",
          "name": "stdout",
          "text": [
            "Epoch 62/100 \t lr=4.2e-01\t\n",
            "{'train_perplexity': 1.6616508662602592, 'train_loss': tensor(0.5078, device='cuda:0')} {'valid_perplexity': 1.5787031765525181, 'valid_loss': tensor(0.4566, device='cuda:0', grad_fn=<DivBackward0>)}\n",
            "time traveller returns\n",
            " iv time traveller.\n",
            "\n",
            "“it’s against reason,” said filby.\n",
            "\n",
            "“what reason?” said the time travel\n"
          ]
        },
        {
          "output_type": "stream",
          "name": "stderr",
          "text": [
            "100%|██████████| 280/280 [00:02<00:00, 123.53it/s]\n",
            "100%|██████████| 31/31 [00:00<00:00, 46.89it/s]\n"
          ]
        },
        {
          "output_type": "stream",
          "name": "stdout",
          "text": [
            "Epoch 63/100 \t lr=4.1e-01\t\n",
            "{'train_perplexity': 1.6588719910110281, 'train_loss': tensor(0.5061, device='cuda:0')} {'valid_perplexity': 1.5773628487485256, 'valid_loss': tensor(0.4558, device='cuda:0', grad_fn=<DivBackward0>)}\n",
            "time traveller returns\n",
            " iv time traveller.\n",
            "\n",
            "“it would be remarkably convenient to speak of him<unk> was\n",
            "expounding a re\n"
          ]
        },
        {
          "output_type": "stream",
          "name": "stderr",
          "text": [
            "100%|██████████| 280/280 [00:02<00:00, 125.88it/s]\n",
            "100%|██████████| 31/31 [00:00<00:00, 46.44it/s]\n"
          ]
        },
        {
          "output_type": "stream",
          "name": "stdout",
          "text": [
            "Epoch 64/100 \t lr=4.0e-01\t\n",
            "{'train_perplexity': 1.6588760449514874, 'train_loss': tensor(0.5061, device='cuda:0')} {'valid_perplexity': 1.57538899844534, 'valid_loss': tensor(0.4545, device='cuda:0', grad_fn=<DivBackward0>)}\n",
            "time traveller returns\n",
            " iv time traveller.\n",
            "\n",
            "“it would be remarkably convenient to speak of him<unk> was\n",
            "expounding a re\n"
          ]
        },
        {
          "output_type": "stream",
          "name": "stderr",
          "text": [
            "100%|██████████| 280/280 [00:02<00:00, 123.52it/s]\n",
            "100%|██████████| 31/31 [00:00<00:00, 45.96it/s]\n"
          ]
        },
        {
          "output_type": "stream",
          "name": "stdout",
          "text": [
            "Epoch 65/100 \t lr=3.9e-01\t\n",
            "{'train_perplexity': 1.6570321298389927, 'train_loss': tensor(0.5050, device='cuda:0')} {'valid_perplexity': 1.5751122040856211, 'valid_loss': tensor(0.4543, device='cuda:0', grad_fn=<DivBackward0>)}\n",
            "time traveller returns\n",
            " iv time traveller.\n",
            "\n",
            "“it’s against reason,” said filby.\n",
            "\n",
            "“can a cube have a\n",
            "real existences,\n"
          ]
        },
        {
          "output_type": "stream",
          "name": "stderr",
          "text": [
            "100%|██████████| 280/280 [00:02<00:00, 124.43it/s]\n",
            "100%|██████████| 31/31 [00:00<00:00, 46.52it/s]\n"
          ]
        },
        {
          "output_type": "stream",
          "name": "stdout",
          "text": [
            "Epoch 66/100 \t lr=3.8e-01\t\n",
            "{'train_perplexity': 1.6562513646600119, 'train_loss': tensor(0.5046, device='cuda:0')} {'valid_perplexity': 1.5710165440762496, 'valid_loss': tensor(0.4517, device='cuda:0', grad_fn=<DivBackward0>)}\n",
            "time traveller really only a fourth dimension, though some\n",
            "people who talk about the fourth dimension, though some\n",
            "\n"
          ]
        },
        {
          "output_type": "stream",
          "name": "stderr",
          "text": [
            "100%|██████████| 280/280 [00:02<00:00, 121.48it/s]\n",
            "100%|██████████| 31/31 [00:00<00:00, 45.04it/s]\n"
          ]
        },
        {
          "output_type": "stream",
          "name": "stdout",
          "text": [
            "Epoch 67/100 \t lr=3.7e-01\t\n",
            "{'train_perplexity': 1.6523847669609086, 'train_loss': tensor(0.5022, device='cuda:0')} {'valid_perplexity': 1.5709274482540374, 'valid_loss': tensor(0.4517, device='cuda:0', grad_fn=<DivBackward0>)}\n",
            "time traveller returns\n",
            " iv time traveller smiled. “are you so sure we can move freely in\n",
            "space? right and left we c\n"
          ]
        },
        {
          "output_type": "stream",
          "name": "stderr",
          "text": [
            "100%|██████████| 280/280 [00:02<00:00, 121.98it/s]\n",
            "100%|██████████| 31/31 [00:00<00:00, 46.47it/s]\n"
          ]
        },
        {
          "output_type": "stream",
          "name": "stdout",
          "text": [
            "Epoch 68/100 \t lr=3.6e-01\t\n",
            "{'train_perplexity': 1.6536969749674957, 'train_loss': tensor(0.5030, device='cuda:0')} {'valid_perplexity': 1.5714021536113114, 'valid_loss': tensor(0.4520, device='cuda:0', grad_fn=<DivBackward0>)}\n",
            "time traveller really only a fourth dimension do not know they mean it. it\n",
            "is only another way of looking at time. \n"
          ]
        },
        {
          "output_type": "stream",
          "name": "stderr",
          "text": [
            "100%|██████████| 280/280 [00:02<00:00, 121.99it/s]\n",
            "100%|██████████| 31/31 [00:00<00:00, 45.40it/s]\n"
          ]
        },
        {
          "output_type": "stream",
          "name": "stdout",
          "text": [
            "Epoch 69/100 \t lr=3.4e-01\t\n",
            "{'train_perplexity': 1.6493974185826412, 'train_loss': tensor(0.5004, device='cuda:0')} {'valid_perplexity': 1.568825682549477, 'valid_loss': tensor(0.4503, device='cuda:0', grad_fn=<DivBackward0>)}\n",
            "time traveller really only a fourth dimension, though some\n",
            "people who talk about the fourth dimension, though some\n",
            "\n"
          ]
        },
        {
          "output_type": "stream",
          "name": "stderr",
          "text": [
            "100%|██████████| 280/280 [00:02<00:00, 124.93it/s]\n",
            "100%|██████████| 31/31 [00:00<00:00, 47.07it/s]\n"
          ]
        },
        {
          "output_type": "stream",
          "name": "stdout",
          "text": [
            "Epoch 70/100 \t lr=3.3e-01\t\n",
            "{'train_perplexity': 1.64588406301951, 'train_loss': tensor(0.4983, device='cuda:0')} {'valid_perplexity': 1.5651122015706567, 'valid_loss': tensor(0.4480, device='cuda:0', grad_fn=<DivBackward0>)}\n",
            "time traveller return\n",
            " xvi after the story\n",
            " epilogue\n",
            "\n",
            "\n",
            "\n",
            "\n",
            " i.\n",
            " introduction\n",
            " ii the machine\n",
            " iii the time traveller.\n"
          ]
        },
        {
          "output_type": "stream",
          "name": "stderr",
          "text": [
            "100%|██████████| 280/280 [00:02<00:00, 123.27it/s]\n",
            "100%|██████████| 31/31 [00:00<00:00, 47.90it/s]\n"
          ]
        },
        {
          "output_type": "stream",
          "name": "stdout",
          "text": [
            "Epoch 71/100 \t lr=3.2e-01\t\n",
            "{'train_perplexity': 1.6458500218613281, 'train_loss': tensor(0.4983, device='cuda:0')} {'valid_perplexity': 1.5653891980232009, 'valid_loss': tensor(0.4481, device='cuda:0', grad_fn=<DivBackward0>)}\n",
            "time traveller returns of space\n",
            "generally recognised? but certainly it traced such a line, and that\n",
            "line, therefore\n"
          ]
        },
        {
          "output_type": "stream",
          "name": "stderr",
          "text": [
            "100%|██████████| 280/280 [00:02<00:00, 121.41it/s]\n",
            "100%|██████████| 31/31 [00:00<00:00, 46.48it/s]\n"
          ]
        },
        {
          "output_type": "stream",
          "name": "stdout",
          "text": [
            "Epoch 72/100 \t lr=3.1e-01\t\n",
            "{'train_perplexity': 1.6480298304297636, 'train_loss': tensor(0.4996, device='cuda:0')} {'valid_perplexity': 1.5631419417195724, 'valid_loss': tensor(0.4467, device='cuda:0', grad_fn=<DivBackward0>)}\n",
            "time traveller returns\n",
            " iv time traveller.\n",
            "\n",
            "“it would be remarkably convenient for the historian,” the psychologist\n"
          ]
        },
        {
          "output_type": "stream",
          "name": "stderr",
          "text": [
            "100%|██████████| 280/280 [00:02<00:00, 122.75it/s]\n",
            "100%|██████████| 31/31 [00:00<00:00, 45.83it/s]\n"
          ]
        },
        {
          "output_type": "stream",
          "name": "stdout",
          "text": [
            "Epoch 73/100 \t lr=3.0e-01\t\n",
            "{'train_perplexity': 1.6428403618627443, 'train_loss': tensor(0.4964, device='cuda:0')} {'valid_perplexity': 1.5620169865874107, 'valid_loss': tensor(0.4460, device='cuda:0', grad_fn=<DivBackward0>)}\n",
            "time traveller returns\n",
            " iv time traveller.\n",
            "\n",
            "“it’s against reason,” said filby.\n",
            "\n",
            "“can a cube that does not last for \n"
          ]
        },
        {
          "output_type": "stream",
          "name": "stderr",
          "text": [
            "100%|██████████| 280/280 [00:02<00:00, 123.79it/s]\n",
            "100%|██████████| 31/31 [00:00<00:00, 45.82it/s]\n"
          ]
        },
        {
          "output_type": "stream",
          "name": "stdout",
          "text": [
            "Epoch 74/100 \t lr=2.9e-01\t\n",
            "{'train_perplexity': 1.6438315714776495, 'train_loss': tensor(0.4970, device='cuda:0')} {'valid_perplexity': 1.560926520621093, 'valid_loss': tensor(0.4453, device='cuda:0', grad_fn=<DivBackward0>)}\n",
            "time traveller really only a fourth dimension, though some\n",
            "people who talk about the fourth dimension, though some\n",
            "\n"
          ]
        },
        {
          "output_type": "stream",
          "name": "stderr",
          "text": [
            "100%|██████████| 280/280 [00:02<00:00, 125.29it/s]\n",
            "100%|██████████| 31/31 [00:00<00:00, 44.76it/s]\n"
          ]
        },
        {
          "output_type": "stream",
          "name": "stdout",
          "text": [
            "Epoch 75/100 \t lr=2.8e-01\t\n",
            "{'train_perplexity': 1.640427601400436, 'train_loss': tensor(0.4950, device='cuda:0')} {'valid_perplexity': 1.5600148238834264, 'valid_loss': tensor(0.4447, device='cuda:0', grad_fn=<DivBackward0>)}\n",
            "time traveller really only a fourth dimension, though some\n",
            "people who talk about the fourth dimension, though some\n",
            "\n"
          ]
        },
        {
          "output_type": "stream",
          "name": "stderr",
          "text": [
            "100%|██████████| 280/280 [00:02<00:00, 123.04it/s]\n",
            "100%|██████████| 31/31 [00:00<00:00, 45.13it/s]\n"
          ]
        },
        {
          "output_type": "stream",
          "name": "stdout",
          "text": [
            "Epoch 76/100 \t lr=2.7e-01\t\n",
            "{'train_perplexity': 1.6437202209827073, 'train_loss': tensor(0.4970, device='cuda:0')} {'valid_perplexity': 1.5585094402475248, 'valid_loss': tensor(0.4437, device='cuda:0', grad_fn=<DivBackward0>)}\n",
            "time traveller returns\n",
            " iv time traveller <unk>for so it will be convenient for the historian,” the psychologist.\n",
            "\n",
            "“nor\n"
          ]
        },
        {
          "output_type": "stream",
          "name": "stderr",
          "text": [
            "100%|██████████| 280/280 [00:02<00:00, 123.94it/s]\n",
            "100%|██████████| 31/31 [00:00<00:00, 45.05it/s]\n"
          ]
        },
        {
          "output_type": "stream",
          "name": "stdout",
          "text": [
            "Epoch 77/100 \t lr=2.6e-01\t\n",
            "{'train_perplexity': 1.6369901383487315, 'train_loss': tensor(0.4929, device='cuda:0')} {'valid_perplexity': 1.5589435497863715, 'valid_loss': tensor(0.4440, device='cuda:0', grad_fn=<DivBackward0>)}\n",
            "time traveller returns\n",
            " iv time traveller.\n",
            "\n",
            "“it would be remarkably convenient for the historian,” the psychologist\n"
          ]
        },
        {
          "output_type": "stream",
          "name": "stderr",
          "text": [
            "100%|██████████| 280/280 [00:02<00:00, 124.15it/s]\n",
            "100%|██████████| 31/31 [00:00<00:00, 46.44it/s]\n"
          ]
        },
        {
          "output_type": "stream",
          "name": "stdout",
          "text": [
            "Epoch 78/100 \t lr=2.4e-01\t\n",
            "{'train_perplexity': 1.6350392232605024, 'train_loss': tensor(0.4917, device='cuda:0')} {'valid_perplexity': 1.558252051117143, 'valid_loss': tensor(0.4436, device='cuda:0', grad_fn=<DivBackward0>)}\n",
            "time traveller returns\n",
            " iv time traveller.\n",
            "\n",
            "“it’s against reason,” said filby.\n",
            "\n",
            "“can a cube that does not last for \n"
          ]
        },
        {
          "output_type": "stream",
          "name": "stderr",
          "text": [
            "100%|██████████| 280/280 [00:02<00:00, 120.95it/s]\n",
            "100%|██████████| 31/31 [00:00<00:00, 45.56it/s]\n"
          ]
        },
        {
          "output_type": "stream",
          "name": "stdout",
          "text": [
            "Epoch 79/100 \t lr=2.3e-01\t\n",
            "{'train_perplexity': 1.636464503658818, 'train_loss': tensor(0.4925, device='cuda:0')} {'valid_perplexity': 1.557424254252371, 'valid_loss': tensor(0.4430, device='cuda:0', grad_fn=<DivBackward0>)}\n",
            "time traveller really only a fourth dimension do not know they mean it. it\n",
            "is only another way of looking at time. \n"
          ]
        },
        {
          "output_type": "stream",
          "name": "stderr",
          "text": [
            "100%|██████████| 280/280 [00:02<00:00, 124.68it/s]\n",
            "100%|██████████| 31/31 [00:00<00:00, 46.02it/s]\n"
          ]
        },
        {
          "output_type": "stream",
          "name": "stdout",
          "text": [
            "Epoch 80/100 \t lr=2.2e-01\t\n",
            "{'train_perplexity': 1.6324670962656538, 'train_loss': tensor(0.4901, device='cuda:0')} {'valid_perplexity': 1.555692550995503, 'valid_loss': tensor(0.4419, device='cuda:0', grad_fn=<DivBackward0>)}\n",
            "time traveller returns\n",
            " iv time traveller.\n",
            "\n",
            "“it would be remarkably convenient for the historian,” the psychologist\n"
          ]
        },
        {
          "output_type": "stream",
          "name": "stderr",
          "text": [
            "100%|██████████| 280/280 [00:02<00:00, 121.77it/s]\n",
            "100%|██████████| 31/31 [00:00<00:00, 46.05it/s]\n"
          ]
        },
        {
          "output_type": "stream",
          "name": "stdout",
          "text": [
            "Epoch 81/100 \t lr=2.1e-01\t\n",
            "{'train_perplexity': 1.6299908730470032, 'train_loss': tensor(0.4886, device='cuda:0')} {'valid_perplexity': 1.556182641375162, 'valid_loss': tensor(0.4422, device='cuda:0', grad_fn=<DivBackward0>)}\n",
            "time traveller returns\n",
            " iv time traveller.\n",
            "\n",
            "“it’s against reason,” said filby.\n",
            "\n",
            "“what reason?” said the time travel\n"
          ]
        },
        {
          "output_type": "stream",
          "name": "stderr",
          "text": [
            "100%|██████████| 280/280 [00:02<00:00, 123.75it/s]\n",
            "100%|██████████| 31/31 [00:00<00:00, 45.23it/s]\n"
          ]
        },
        {
          "output_type": "stream",
          "name": "stdout",
          "text": [
            "Epoch 82/100 \t lr=2.0e-01\t\n",
            "{'train_perplexity': 1.6293690537797767, 'train_loss': tensor(0.4882, device='cuda:0')} {'valid_perplexity': 1.5543428998264939, 'valid_loss': tensor(0.4411, device='cuda:0', grad_fn=<DivBackward0>)}\n",
            "time traveller returns\n",
            " iv time travelling\n",
            " v in the golden age\n",
            " vi the sunset of mankind\n",
            " vii a sudden shock\n",
            " viii\n"
          ]
        },
        {
          "output_type": "stream",
          "name": "stderr",
          "text": [
            "100%|██████████| 280/280 [00:02<00:00, 107.76it/s]\n",
            "100%|██████████| 31/31 [00:00<00:00, 44.69it/s]\n"
          ]
        },
        {
          "output_type": "stream",
          "name": "stdout",
          "text": [
            "Epoch 83/100 \t lr=1.9e-01\t\n",
            "{'train_perplexity': 1.6277775824995542, 'train_loss': tensor(0.4872, device='cuda:0')} {'valid_perplexity': 1.552343634083916, 'valid_loss': tensor(0.4398, device='cuda:0', grad_fn=<DivBackward0>)}\n",
            "time traveller returns\n",
            " iv time traveller.\n",
            "\n",
            "“it’s against reason,” said filby.\n",
            "\n",
            "“can a cube that does not last for \n"
          ]
        },
        {
          "output_type": "stream",
          "name": "stderr",
          "text": [
            "100%|██████████| 280/280 [00:02<00:00, 121.78it/s]\n",
            "100%|██████████| 31/31 [00:00<00:00, 44.16it/s]\n"
          ]
        },
        {
          "output_type": "stream",
          "name": "stdout",
          "text": [
            "Epoch 84/100 \t lr=1.8e-01\t\n",
            "{'train_perplexity': 1.629773163172066, 'train_loss': tensor(0.4884, device='cuda:0')} {'valid_perplexity': 1.5532370531573467, 'valid_loss': tensor(0.4403, device='cuda:0', grad_fn=<DivBackward0>)}\n",
            "time traveller really only a fourth dimension, though some\n",
            "people who talk about the fourth dimension, though some\n",
            "\n"
          ]
        },
        {
          "output_type": "stream",
          "name": "stderr",
          "text": [
            "100%|██████████| 280/280 [00:02<00:00, 122.76it/s]\n",
            "100%|██████████| 31/31 [00:00<00:00, 46.48it/s]\n"
          ]
        },
        {
          "output_type": "stream",
          "name": "stdout",
          "text": [
            "Epoch 85/100 \t lr=1.7e-01\t\n",
            "{'train_perplexity': 1.6272555363931225, 'train_loss': tensor(0.4869, device='cuda:0')} {'valid_perplexity': 1.5530961062853508, 'valid_loss': tensor(0.4403, device='cuda:0', grad_fn=<DivBackward0>)}\n",
            "time traveller returns\n",
            " iv time travelling\n",
            " v in the golden age\n",
            " vi the sunset of mankind\n",
            " vii a sudden shock\n",
            " viii\n"
          ]
        },
        {
          "output_type": "stream",
          "name": "stderr",
          "text": [
            "100%|██████████| 280/280 [00:02<00:00, 123.89it/s]\n",
            "100%|██████████| 31/31 [00:00<00:00, 45.96it/s]\n"
          ]
        },
        {
          "output_type": "stream",
          "name": "stdout",
          "text": [
            "Epoch 86/100 \t lr=1.6e-01\t\n",
            "{'train_perplexity': 1.625221044435358, 'train_loss': tensor(0.4856, device='cuda:0')} {'valid_perplexity': 1.5517632751474824, 'valid_loss': tensor(0.4394, device='cuda:0', grad_fn=<DivBackward0>)}\n",
            "time traveller really only a fourth dimension, though some\n",
            "people who talk about the fourth dimension, though some\n",
            "\n"
          ]
        },
        {
          "output_type": "stream",
          "name": "stderr",
          "text": [
            "100%|██████████| 280/280 [00:02<00:00, 124.28it/s]\n",
            "100%|██████████| 31/31 [00:00<00:00, 46.15it/s]\n"
          ]
        },
        {
          "output_type": "stream",
          "name": "stdout",
          "text": [
            "Epoch 87/100 \t lr=1.4e-01\t\n",
            "{'train_perplexity': 1.624944598905786, 'train_loss': tensor(0.4855, device='cuda:0')} {'valid_perplexity': 1.5514098560799292, 'valid_loss': tensor(0.4392, device='cuda:0', grad_fn=<DivBackward0>)}\n",
            "time traveller really only a fourth dimension, though some\n",
            "people who talk about the fourth dimension, though some\n",
            "\n"
          ]
        },
        {
          "output_type": "stream",
          "name": "stderr",
          "text": [
            "100%|██████████| 280/280 [00:02<00:00, 125.57it/s]\n",
            "100%|██████████| 31/31 [00:00<00:00, 45.84it/s]\n"
          ]
        },
        {
          "output_type": "stream",
          "name": "stdout",
          "text": [
            "Epoch 88/100 \t lr=1.3e-01\t\n",
            "{'train_perplexity': 1.6234251823351697, 'train_loss': tensor(0.4845, device='cuda:0')} {'valid_perplexity': 1.5500928390463726, 'valid_loss': tensor(0.4383, device='cuda:0', grad_fn=<DivBackward0>)}\n",
            "time traveller returns\n",
            " iv time travelling\n",
            " v in the golden age\n",
            " vi the sunset of mankind\n",
            " vii a sudden shock\n",
            " viii\n"
          ]
        },
        {
          "output_type": "stream",
          "name": "stderr",
          "text": [
            "100%|██████████| 280/280 [00:02<00:00, 121.30it/s]\n",
            "100%|██████████| 31/31 [00:00<00:00, 45.76it/s]\n"
          ]
        },
        {
          "output_type": "stream",
          "name": "stdout",
          "text": [
            "Epoch 89/100 \t lr=1.2e-01\t\n",
            "{'train_perplexity': 1.6209104055269932, 'train_loss': tensor(0.4830, device='cuda:0')} {'valid_perplexity': 1.550537727690624, 'valid_loss': tensor(0.4386, device='cuda:0', grad_fn=<DivBackward0>)}\n",
            "time traveller returns\n",
            " iv time travelling\n",
            " v in the golden age\n",
            " vi the sunset of mankind\n",
            " vii a sudden shock\n",
            " viii\n"
          ]
        },
        {
          "output_type": "stream",
          "name": "stderr",
          "text": [
            "100%|██████████| 280/280 [00:02<00:00, 126.06it/s]\n",
            "100%|██████████| 31/31 [00:00<00:00, 45.65it/s]\n"
          ]
        },
        {
          "output_type": "stream",
          "name": "stdout",
          "text": [
            "Epoch 90/100 \t lr=1.1e-01\t\n",
            "{'train_perplexity': 1.620813842921333, 'train_loss': tensor(0.4829, device='cuda:0')} {'valid_perplexity': 1.5490796682197188, 'valid_loss': tensor(0.4377, device='cuda:0', grad_fn=<DivBackward0>)}\n",
            "time traveller returns\n",
            " iv time traveller.\n",
            "\n",
            "“it’s against reason,” said filby.\n",
            "\n",
            "“can a cube that does not last for \n"
          ]
        },
        {
          "output_type": "stream",
          "name": "stderr",
          "text": [
            "100%|██████████| 280/280 [00:02<00:00, 123.09it/s]\n",
            "100%|██████████| 31/31 [00:00<00:00, 44.26it/s]\n"
          ]
        },
        {
          "output_type": "stream",
          "name": "stdout",
          "text": [
            "Epoch 91/100 \t lr=1.0e-01\t\n",
            "{'train_perplexity': 1.6213890042665, 'train_loss': tensor(0.4833, device='cuda:0')} {'valid_perplexity': 1.54873835315354, 'valid_loss': tensor(0.4374, device='cuda:0', grad_fn=<DivBackward0>)}\n",
            "time traveller returns\n",
            " iv time travelling\n",
            " v in the golden age\n",
            " vi the sunset of mankind\n",
            " vii a sudden shock\n",
            " viii\n"
          ]
        },
        {
          "output_type": "stream",
          "name": "stderr",
          "text": [
            "100%|██████████| 280/280 [00:02<00:00, 122.99it/s]\n",
            "100%|██████████| 31/31 [00:00<00:00, 45.17it/s]\n"
          ]
        },
        {
          "output_type": "stream",
          "name": "stdout",
          "text": [
            "Epoch 92/100 \t lr=8.9e-02\t\n",
            "{'train_perplexity': 1.6198589124089968, 'train_loss': tensor(0.4823, device='cuda:0')} {'valid_perplexity': 1.5486856900532828, 'valid_loss': tensor(0.4374, device='cuda:0', grad_fn=<DivBackward0>)}\n",
            "time traveller returns\n",
            " iv time travelling\n",
            " v in the golden age\n",
            " vi the sunset of mankind\n",
            " vii a sudden shock\n",
            " viii\n"
          ]
        },
        {
          "output_type": "stream",
          "name": "stderr",
          "text": [
            "100%|██████████| 280/280 [00:02<00:00, 120.38it/s]\n",
            "100%|██████████| 31/31 [00:00<00:00, 44.62it/s]\n"
          ]
        },
        {
          "output_type": "stream",
          "name": "stdout",
          "text": [
            "Epoch 93/100 \t lr=7.8e-02\t\n",
            "{'train_perplexity': 1.6153691949933022, 'train_loss': tensor(0.4796, device='cuda:0')} {'valid_perplexity': 1.548345384679418, 'valid_loss': tensor(0.4372, device='cuda:0', grad_fn=<DivBackward0>)}\n",
            "time traveller returns\n",
            " iv time travelling\n",
            " v in the golden age\n",
            " vi the sunset of mankind\n",
            " vii a sudden shock\n",
            " viii\n"
          ]
        },
        {
          "output_type": "stream",
          "name": "stderr",
          "text": [
            "100%|██████████| 280/280 [00:02<00:00, 124.82it/s]\n",
            "100%|██████████| 31/31 [00:00<00:00, 45.10it/s]\n"
          ]
        },
        {
          "output_type": "stream",
          "name": "stdout",
          "text": [
            "Epoch 94/100 \t lr=6.7e-02\t\n",
            "{'train_perplexity': 1.6166092245706702, 'train_loss': tensor(0.4803, device='cuda:0')} {'valid_perplexity': 1.5476625998027813, 'valid_loss': tensor(0.4367, device='cuda:0', grad_fn=<DivBackward0>)}\n",
            "time traveller returns\n",
            " iv time travelling\n",
            " v in the golden age\n",
            " vi the sunset of mankind\n",
            " vii a sudden shock\n",
            " viii\n"
          ]
        },
        {
          "output_type": "stream",
          "name": "stderr",
          "text": [
            "100%|██████████| 280/280 [00:02<00:00, 123.38it/s]\n",
            "100%|██████████| 31/31 [00:00<00:00, 44.14it/s]\n"
          ]
        },
        {
          "output_type": "stream",
          "name": "stdout",
          "text": [
            "Epoch 95/100 \t lr=5.6e-02\t\n",
            "{'train_perplexity': 1.6206496658841982, 'train_loss': tensor(0.4828, device='cuda:0')} {'valid_perplexity': 1.5472271588317017, 'valid_loss': tensor(0.4365, device='cuda:0', grad_fn=<DivBackward0>)}\n",
            "time traveller returns\n",
            " iv time travelling\n",
            " v in the golden age\n",
            " vi the sunset of mankind\n",
            " vii a sudden shock\n",
            " viii\n"
          ]
        },
        {
          "output_type": "stream",
          "name": "stderr",
          "text": [
            "100%|██████████| 280/280 [00:02<00:00, 121.68it/s]\n",
            "100%|██████████| 31/31 [00:00<00:00, 45.05it/s]\n"
          ]
        },
        {
          "output_type": "stream",
          "name": "stdout",
          "text": [
            "Epoch 96/100 \t lr=4.4e-02\t\n",
            "{'train_perplexity': 1.614826199154509, 'train_loss': tensor(0.4792, device='cuda:0')} {'valid_perplexity': 1.5471283923023162, 'valid_loss': tensor(0.4364, device='cuda:0', grad_fn=<DivBackward0>)}\n",
            "time traveller returns\n",
            " iv time travelling\n",
            " v in the golden age\n",
            " vi the sunset of mankind\n",
            " vii a sudden shock\n",
            " viii\n"
          ]
        },
        {
          "output_type": "stream",
          "name": "stderr",
          "text": [
            "100%|██████████| 280/280 [00:02<00:00, 122.68it/s]\n",
            "100%|██████████| 31/31 [00:00<00:00, 44.97it/s]\n"
          ]
        },
        {
          "output_type": "stream",
          "name": "stdout",
          "text": [
            "Epoch 97/100 \t lr=3.3e-02\t\n",
            "{'train_perplexity': 1.619115301626986, 'train_loss': tensor(0.4819, device='cuda:0')} {'valid_perplexity': 1.5467652420626403, 'valid_loss': tensor(0.4362, device='cuda:0', grad_fn=<DivBackward0>)}\n",
            "time traveller returns\n",
            " iv time traveller.\n",
            "\n",
            "“it’s against reason,” said filby.\n",
            "\n",
            "“can a cube that does not last for \n"
          ]
        },
        {
          "output_type": "stream",
          "name": "stderr",
          "text": [
            "100%|██████████| 280/280 [00:02<00:00, 123.15it/s]\n",
            "100%|██████████| 31/31 [00:00<00:00, 43.79it/s]\n"
          ]
        },
        {
          "output_type": "stream",
          "name": "stdout",
          "text": [
            "Epoch 98/100 \t lr=2.2e-02\t\n",
            "{'train_perplexity': 1.616883047363103, 'train_loss': tensor(0.4805, device='cuda:0')} {'valid_perplexity': 1.5467014448585321, 'valid_loss': tensor(0.4361, device='cuda:0', grad_fn=<DivBackward0>)}\n",
            "time traveller returns\n",
            " iv time travelling\n",
            " v in the golden age\n",
            " vi the sunset of mankind\n",
            " vii a sudden shock\n",
            " viii\n"
          ]
        },
        {
          "output_type": "stream",
          "name": "stderr",
          "text": [
            "100%|██████████| 280/280 [00:02<00:00, 124.16it/s]\n",
            "100%|██████████| 31/31 [00:00<00:00, 45.75it/s]\n"
          ]
        },
        {
          "output_type": "stream",
          "name": "stdout",
          "text": [
            "Epoch 99/100 \t lr=1.1e-02\t\n",
            "{'train_perplexity': 1.6139226538065239, 'train_loss': tensor(0.4787, device='cuda:0')} {'valid_perplexity': 1.5464151273894726, 'valid_loss': tensor(0.4359, device='cuda:0', grad_fn=<DivBackward0>)}\n",
            "time traveller returns\n",
            " iv time travelling\n",
            " v in the golden age\n",
            " vi the sunset of mankind\n",
            " vii a sudden shock\n",
            " viii\n"
          ]
        },
        {
          "output_type": "stream",
          "name": "stderr",
          "text": [
            "100%|██████████| 280/280 [00:02<00:00, 123.26it/s]\n",
            "100%|██████████| 31/31 [00:00<00:00, 44.89it/s]\n"
          ]
        },
        {
          "output_type": "stream",
          "name": "stdout",
          "text": [
            "Epoch 100/100 \t lr=0.0e+00\t\n",
            "{'train_perplexity': 1.6128556016145201, 'train_loss': tensor(0.4780, device='cuda:0')} {'valid_perplexity': 1.546292725793556, 'valid_loss': tensor(0.4359, device='cuda:0', grad_fn=<DivBackward0>)}\n",
            "time traveller returns\n",
            " iv time travelling\n",
            " v in the golden age\n",
            " vi the sunset of mankind\n",
            " vii a sudden shock\n",
            " viii\n"
          ]
        }
      ],
      "source": [
        "\n",
        "txt_file_path = \"/content/drive/MyDrive/Colab Notebooks/data/time_machine.txt\" \n",
        "corpus, vocab = load_time_machine_corpus(txt_file_path, min_freq=90, max_corpus=10000, type_=\"char\")\n",
        "\n",
        "train_data, valid_data = handle_corpus(corpus, time_steps=35)\n",
        "train_dataset = seqDataSet(train_data, vocab, type_=\"char\")\n",
        "valid_dataset = seqDataSet(valid_data, vocab, type_=\"char\")\n",
        "train_dataloader = utils.data.DataLoader(dataset=train_dataset, batch_size=32, drop_last=True,\n",
        "                                         num_workers=4, pin_memory=False, shuffle=True)\n",
        "valid_dataloader = utils.data.DataLoader(dataset=valid_dataset, batch_size=32, drop_last=True,\n",
        "                                         num_workers=4, pin_memory=False, shuffle=False)\n",
        "\n",
        "\n",
        "language_model = languageModel(output_size=38, input_size=38)\n",
        "train(language_model, train_dataloader, valid_dataloader, lr=1, epochs=100, type_=\"char\")\n"
      ]
    },
    {
      "cell_type": "code",
      "source": [
        "print(inference(language_model, vocab, \"time traveller will\", seq_num=1000))"
      ],
      "metadata": {
        "colab": {
          "base_uri": "https://localhost:8080/"
        },
        "id": "nZN27Svgk8EV",
        "outputId": "e75157be-7d7a-49fb-aa24-4a0e23ef6e8c"
      },
      "execution_count": 38,
      "outputs": [
        {
          "output_type": "stream",
          "name": "stdout",
          "text": [
            "time traveller will they could move a little up and down,” said the medical man.\n",
            "“our ancestors had no great tolerance for anachronisms.”\n",
            "\n",
            "“one might get one’s greek from the very lips of homer and plato,” the\n",
            "very young man.\n",
            "\n",
            "“that shall travel indifferently in any direction of space and time, as\n",
            "the driver determines.”\n",
            "\n",
            "filby contented himself with laughter.\n",
            "\n",
            "“but i have experimental verification,” said the time traveller.\n",
            "\n",
            "“it’s against reason,” said filby.\n",
            "\n",
            "“can a cube that does not last for any time at all, have a real\n",
            "existence. they taught you that? neither has a mathematical plane.\n",
            "these things are mere abstractions.”\n",
            "\n",
            "“that is all right,” said the psychologist.\n",
            "\n",
            "“nor, having only length, breadth, and thickness, and—duration. but through a natural\n",
            "infirmity of the flesh, which i will explain to you in a moment, we\n",
            "incline to overlook this fact. there are really four dimensions for some time. some of my results are curious. for\n",
            "instance, here is a portrait of a man at eight years old, another at\n",
            "f\n"
          ]
        }
      ]
    },
    {
      "cell_type": "markdown",
      "source": [
        "## Train the model using 'word' split"
      ],
      "metadata": {
        "id": "OpEJVYkY16SC"
      }
    },
    {
      "cell_type": "code",
      "source": [
        "class languageModelWord(nn.Module):\n",
        "    \n",
        "    def __init__(self, output_size, embed_size, hidden_size=128, num_layers=2):\n",
        "\n",
        "        super(languageModelWord, self).__init__()\n",
        "\n",
        "        self.head = nn.Embedding(len(vocab.idx_to_token), embed_size)\n",
        "        \n",
        "        self.backbone = nn.GRU(\n",
        "                input_size=embed_size, \n",
        "                hidden_size=hidden_size,\n",
        "                num_layers=num_layers,\n",
        "                dropout=0.3,\n",
        "                batch_first=True,\n",
        "            )\n",
        "        \n",
        "        self.tail = nn.Linear(hidden_size, output_size)\n",
        "        \n",
        "    def forward(self, x, h=None):\n",
        "\n",
        "        x = self.head(x)\n",
        "\n",
        "        if h is None:\n",
        "            x, h = self.backbone(x.float())\n",
        "        else:\n",
        "            x, h = self.backbone(x.float(), h)\n",
        "        \n",
        "        x = self.tail(x)\n",
        "        \n",
        "        return x.reshape(-1, x.shape[-1]), h"
      ],
      "metadata": {
        "id": "7vMpHHF2Refx"
      },
      "execution_count": 39,
      "outputs": []
    },
    {
      "cell_type": "code",
      "source": [
        "txt_file_path = \"/content/drive/MyDrive/Colab Notebooks/data/time_machine.txt\" \n",
        "corpus, vocab = load_time_machine_corpus(txt_file_path, min_freq=1, max_corpus=10000, type_=\"word\")\n",
        "\n",
        "train_data, valid_data = handle_corpus(corpus, time_steps=35)\n",
        "train_dataset = seqDataSet(train_data, vocab, type_=\"word\")\n",
        "valid_dataset = seqDataSet(valid_data, vocab, type_=\"word\")\n",
        "train_dataloader = utils.data.DataLoader(dataset=train_dataset, batch_size=32, drop_last=True,\n",
        "                                         num_workers=4, pin_memory=False, shuffle=True)\n",
        "valid_dataloader = utils.data.DataLoader(dataset=valid_dataset, batch_size=32, drop_last=True,\n",
        "                                         num_workers=4, pin_memory=False, shuffle=False)\n",
        "\n",
        "output_size = valid_dataset.num_classes\n",
        "print(output_size)\n",
        "\n",
        "language_model = languageModelWord(output_size=output_size, embed_size=1000)\n",
        "\n",
        "train(language_model, train_dataloader, valid_dataloader, lr=1, epochs=40, type_=\"word\")\n"
      ],
      "metadata": {
        "colab": {
          "base_uri": "https://localhost:8080/"
        },
        "id": "pd0ZtKiXV01j",
        "outputId": "ddb41c0c-6752-4e9c-ff72-cbf6c347f68f"
      },
      "execution_count": 40,
      "outputs": [
        {
          "metadata": {
            "tags": null
          },
          "name": "stdout",
          "output_type": "stream",
          "text": [
            "7294\n"
          ]
        },
        {
          "metadata": {
            "tags": null
          },
          "name": "stderr",
          "output_type": "stream",
          "text": [
            "100%|██████████| 280/280 [00:15<00:00, 17.87it/s]\n",
            "100%|██████████| 31/31 [00:01<00:00, 15.97it/s]\n"
          ]
        },
        {
          "metadata": {
            "tags": null
          },
          "name": "stdout",
          "output_type": "stream",
          "text": [
            "Epoch 01/40 \t lr=2.5e-01\t\n",
            "{'train_perplexity': 2786.719914661251, 'train_loss': tensor(7.9326, device='cuda:0')} {'valid_perplexity': 902.0340006176831, 'valid_loss': tensor(6.8047, device='cuda:0', grad_fn=<DivBackward0>)}\n",
            "time traveller of the of the of the of the of the of the of the of the of the of the of the of the of the of the of the of the of the of the of the of the of the of the of the of the of the of the of the of the of the of the of the of the of the of the of the of the of the of the of the of the of the of the of the of the of the of the of the of the of the of the\n"
          ]
        },
        {
          "metadata": {
            "tags": null
          },
          "name": "stderr",
          "output_type": "stream",
          "text": [
            "100%|██████████| 280/280 [00:12<00:00, 21.80it/s]\n",
            "100%|██████████| 31/31 [00:01<00:00, 15.95it/s]\n"
          ]
        },
        {
          "metadata": {
            "tags": null
          },
          "name": "stdout",
          "output_type": "stream",
          "text": [
            "Epoch 02/40 \t lr=5.0e-01\t\n",
            "{'train_perplexity': 641.5271153783534, 'train_loss': tensor(6.4639, device='cuda:0')} {'valid_perplexity': 441.5997962890852, 'valid_loss': tensor(6.0904, device='cuda:0', grad_fn=<DivBackward0>)}\n",
            "time traveller was a little of a little little i was had a little of a little of a little of a little of a little of a little of a little of a little of a little of a little of a little of a little of a little of a little of a little of a little of a little of a little of a little of a little of a little of a little of a little of a little of a little of a little of a little of a little of a little of a little of\n"
          ]
        },
        {
          "metadata": {
            "tags": null
          },
          "name": "stderr",
          "output_type": "stream",
          "text": [
            "100%|██████████| 280/280 [00:12<00:00, 21.65it/s]\n",
            "100%|██████████| 31/31 [00:01<00:00, 15.88it/s]\n"
          ]
        },
        {
          "metadata": {
            "tags": null
          },
          "name": "stdout",
          "output_type": "stream",
          "text": [
            "Epoch 03/40 \t lr=7.5e-01\t\n",
            "{'train_perplexity': 251.72122366169586, 'train_loss': tensor(5.5283, device='cuda:0')} {'valid_perplexity': 125.27174578453108, 'valid_loss': tensor(4.8305, device='cuda:0', grad_fn=<DivBackward0>)}\n",
            "time traveller was his little little little little little little little little little little little little little little little little at a little little little little little little little little little little little little little at a little little little little little little little little little little little little at a little little little little little little little little little little little little at a little little little little little little little little little little little little at a little little little little little little little little little little little little at a little little little little little little little little little\n"
          ]
        },
        {
          "metadata": {
            "tags": null
          },
          "name": "stderr",
          "output_type": "stream",
          "text": [
            "100%|██████████| 280/280 [00:12<00:00, 21.81it/s]\n",
            "100%|██████████| 31/31 [00:01<00:00, 16.15it/s]\n"
          ]
        },
        {
          "metadata": {
            "tags": null
          },
          "name": "stdout",
          "output_type": "stream",
          "text": [
            "Epoch 04/40 \t lr=1.0e+00\t\n",
            "{'train_perplexity': 83.37630551341974, 'train_loss': tensor(4.4234, device='cuda:0')} {'valid_perplexity': 40.89252465864291, 'valid_loss': tensor(3.7109, device='cuda:0', grad_fn=<DivBackward0>)}\n",
            "time traveller came to the time traveller came to the time traveller came to the time traveller came to the time traveller came to the time traveller came to the time traveller came to the time traveller came to the time traveller came to the time traveller came to the time traveller came to the time traveller came to the time traveller came to the time traveller came to the time traveller came to the time traveller came to the time traveller came to the time traveller came to the time traveller came to the time traveller came to the time traveller\n"
          ]
        },
        {
          "metadata": {
            "tags": null
          },
          "name": "stderr",
          "output_type": "stream",
          "text": [
            "100%|██████████| 280/280 [00:12<00:00, 21.77it/s]\n",
            "100%|██████████| 31/31 [00:01<00:00, 16.08it/s]\n"
          ]
        },
        {
          "metadata": {
            "tags": null
          },
          "name": "stdout",
          "output_type": "stream",
          "text": [
            "Epoch 05/40 \t lr=9.7e-01\t\n",
            "{'train_perplexity': 32.11538115860497, 'train_loss': tensor(3.4693, device='cuda:0')} {'valid_perplexity': 16.818953378126217, 'valid_loss': tensor(2.8225, device='cuda:0', grad_fn=<DivBackward0>)}\n",
            "time traveller came to the time traveller came to the time traveller came to the time traveller came to the time traveller came to the time traveller came to the time traveller came to the time traveller came to the time traveller came to the time traveller came to the time traveller came to the time traveller came to the time traveller came to the time traveller came to the time traveller came to the time traveller came to the time traveller came to the time traveller came to the time traveller came to the time traveller came to the time traveller\n"
          ]
        },
        {
          "metadata": {
            "tags": null
          },
          "name": "stderr",
          "output_type": "stream",
          "text": [
            "100%|██████████| 280/280 [00:12<00:00, 21.94it/s]\n",
            "100%|██████████| 31/31 [00:01<00:00, 16.04it/s]\n"
          ]
        },
        {
          "metadata": {
            "tags": null
          },
          "name": "stdout",
          "output_type": "stream",
          "text": [
            "Epoch 06/40 \t lr=9.4e-01\t\n",
            "{'train_perplexity': 15.493692067040774, 'train_loss': tensor(2.7404, device='cuda:0')} {'valid_perplexity': 8.58991627592558, 'valid_loss': tensor(2.1506, device='cuda:0', grad_fn=<DivBackward0>)}\n",
            "time traveller came to the thing was the little hands upon the white sphinx were the whole world has gone wrong. we are always getting away from the present moment. our consciousness moves along its colour had seen at which i had come into the future it would be convenient to speak of our own time, and in this future age it was very young man had been staring at his hands together above the first time we can move about in the time traveller came to the time traveller came to the time traveller came to the time traveller came to\n"
          ]
        },
        {
          "metadata": {
            "tags": null
          },
          "name": "stderr",
          "output_type": "stream",
          "text": [
            "100%|██████████| 280/280 [00:13<00:00, 21.03it/s]\n",
            "100%|██████████| 31/31 [00:01<00:00, 16.30it/s]\n"
          ]
        },
        {
          "metadata": {
            "tags": null
          },
          "name": "stdout",
          "output_type": "stream",
          "text": [
            "Epoch 07/40 \t lr=9.2e-01\t\n",
            "{'train_perplexity': 8.737580276143687, 'train_loss': tensor(2.1676, device='cuda:0')} {'valid_perplexity': 5.079813452634773, 'valid_loss': tensor(1.6253, device='cuda:0', grad_fn=<DivBackward0>)}\n",
            "time traveller came to the end of our own time, and in this future age it was as i did not seem to tell over us about a little way up the editor got towards the door. he was in an eddying murmur filled my mind. “i am under the editor got fervent in his face. i thought of the time traveller came to the bright light of which fell upon the world as i have a certain lack of the world was too fast for a moment. of course we have no dimensions, are are evidently an odd twinkling appearance about\n"
          ]
        },
        {
          "metadata": {
            "tags": null
          },
          "name": "stderr",
          "output_type": "stream",
          "text": [
            "100%|██████████| 280/280 [00:12<00:00, 22.06it/s]\n",
            "100%|██████████| 31/31 [00:01<00:00, 15.70it/s]\n"
          ]
        },
        {
          "metadata": {
            "tags": null
          },
          "name": "stdout",
          "output_type": "stream",
          "text": [
            "Epoch 08/40 \t lr=8.9e-01\t\n",
            "{'train_perplexity': 5.573226699516863, 'train_loss': tensor(1.7180, device='cuda:0')} {'valid_perplexity': 3.387595677179113, 'valid_loss': tensor(1.2201, device='cuda:0', grad_fn=<DivBackward0>)}\n",
            "time traveller came to the other men were blank, the editor wanted that explained to him, and the psychologist looked at us. “i suppose i must have gone into the future it would still be here all this time, you are mere militant necessities of an age of course that a mathematical line, a line of course that they were following me. then, in a transitory way of the way of the world as i had a faint colour came into his expression followed the little hands upon the machine i travel on my own part, i was particularly preoccupied with the\n"
          ]
        },
        {
          "metadata": {
            "tags": null
          },
          "name": "stderr",
          "output_type": "stream",
          "text": [
            "100%|██████████| 280/280 [00:12<00:00, 21.84it/s]\n",
            "100%|██████████| 31/31 [00:01<00:00, 15.96it/s]\n"
          ]
        },
        {
          "metadata": {
            "tags": null
          },
          "name": "stdout",
          "output_type": "stream",
          "text": [
            "Epoch 09/40 \t lr=8.6e-01\t\n",
            "{'train_perplexity': 3.9456117519927467, 'train_loss': tensor(1.3726, device='cuda:0')} {'valid_perplexity': 2.521789225937119, 'valid_loss': tensor(0.9250, device='cuda:0', grad_fn=<DivBackward0>)}\n",
            "time traveller came back, and filby’s anecdote collapsed. ii. the machine the thing the time traveller came to the end of our own time, and in this future age it was complete. this, i must remind you, was my speculation at the time. later, i was to appreciate how far it fell short of the fire, with two little people soon tired and wanted to get away from my mind. “the building had a huge entry, and was altogether of colossal dimensions. i was naturally most occupied with the growing crowd of little lawn upon which i stood with my machine. he\n"
          ]
        },
        {
          "metadata": {
            "tags": null
          },
          "name": "stderr",
          "output_type": "stream",
          "text": [
            "100%|██████████| 280/280 [00:12<00:00, 21.75it/s]\n",
            "100%|██████████| 31/31 [00:01<00:00, 16.03it/s]\n"
          ]
        },
        {
          "metadata": {
            "tags": null
          },
          "name": "stdout",
          "output_type": "stream",
          "text": [
            "Epoch 10/40 \t lr=8.3e-01\t\n",
            "{'train_perplexity': 3.0203599262800354, 'train_loss': tensor(1.1054, device='cuda:0')} {'valid_perplexity': 2.03738353792978, 'valid_loss': tensor(0.7117, device='cuda:0', grad_fn=<DivBackward0>)}\n",
            "time traveller came to the sun. at first things were very confusing. everything was so entirely different from the world i had known—even the big open portals that yawned before me shadowy and mysterious. my general impression of the world i saw over their heads was a certain lack of the world i saw over their heads was a certain lack of the world i saw over their heads was a certain lack of the world i saw over their heads was a certain lack of the world i saw over their heads was a certain lack of the world i saw\n"
          ]
        },
        {
          "metadata": {
            "tags": null
          },
          "name": "stderr",
          "output_type": "stream",
          "text": [
            "100%|██████████| 280/280 [00:13<00:00, 21.53it/s]\n",
            "100%|██████████| 31/31 [00:01<00:00, 15.85it/s]\n"
          ]
        },
        {
          "metadata": {
            "tags": null
          },
          "name": "stdout",
          "output_type": "stream",
          "text": [
            "Epoch 11/40 \t lr=8.1e-01\t\n",
            "{'train_perplexity': 2.4855331280464683, 'train_loss': tensor(0.9105, device='cuda:0')} {'valid_perplexity': 1.7731068370195846, 'valid_loss': tensor(0.5727, device='cuda:0', grad_fn=<DivBackward0>)}\n",
            "time traveller came to the place reserved for him without a word. he smiled quietly, in his old way. “where’s my mutton?” he said. “what a treat it is to stick a fork into meat again!” “story!” cried the editor. “story be damned!” said the time traveller. “i want something to eat. i won’t say a word until i get some peptone into my eyes. the little hands upon the machine i unscrewed the little levers that would set it in motion, and put these in my pocket. then i turned again to see what i could do in the way of\n"
          ]
        },
        {
          "metadata": {
            "tags": null
          },
          "name": "stderr",
          "output_type": "stream",
          "text": [
            "100%|██████████| 280/280 [00:12<00:00, 21.95it/s]\n",
            "100%|██████████| 31/31 [00:01<00:00, 16.22it/s]\n"
          ]
        },
        {
          "metadata": {
            "tags": null
          },
          "name": "stdout",
          "output_type": "stream",
          "text": [
            "Epoch 12/40 \t lr=7.8e-01\t\n",
            "{'train_perplexity': 2.159250702071464, 'train_loss': tensor(0.7698, device='cuda:0')} {'valid_perplexity': 1.6110801732242255, 'valid_loss': tensor(0.4769, device='cuda:0', grad_fn=<DivBackward0>)}\n",
            "time traveller came back, and filby’s anecdote collapsed. ii. the machine the thing the time traveller returns iv time travelling v in the golden age “in another moment we were standing face to face, i and this fragile thing out of futurity. he came straight up to me and laughed into my eyes. the little hands upon the dials that registered my speed raced round faster and faster. presently i noted that the sun belt swayed up and down, from solstice to solstice, in a minute or so. then the time traveller returns iv time travelling v in the golden age “in\n"
          ]
        },
        {
          "metadata": {
            "tags": null
          },
          "name": "stderr",
          "output_type": "stream",
          "text": [
            "100%|██████████| 280/280 [00:12<00:00, 21.81it/s]\n",
            "100%|██████████| 31/31 [00:01<00:00, 16.14it/s]\n"
          ]
        },
        {
          "metadata": {
            "tags": null
          },
          "name": "stdout",
          "output_type": "stream",
          "text": [
            "Epoch 13/40 \t lr=7.5e-01\t\n",
            "{'train_perplexity': 1.9509195147844072, 'train_loss': tensor(0.6683, device='cuda:0')} {'valid_perplexity': 1.5150036076039428, 'valid_loss': tensor(0.4154, device='cuda:0', grad_fn=<DivBackward0>)}\n",
            "time traveller came back, and filby’s anecdote collapsed. ii. the machine the thing the time traveller held in his hand was a glittering metallic framework, scarcely larger than a small clock, and very delicately made. there was ivory in it, and some transparent crystalline substance. and now i must be explicit, for this that follows—unless his explanation is to be accepted—is an absolutely unaccountable thing. he took one of the small octagonal tables that were scattered about the room, and set it in front of the fire, with two legs on the hearthrug. on this table he placed the mechanism. then he\n"
          ]
        },
        {
          "metadata": {
            "tags": null
          },
          "name": "stderr",
          "output_type": "stream",
          "text": [
            "100%|██████████| 280/280 [00:12<00:00, 21.91it/s]\n",
            "100%|██████████| 31/31 [00:01<00:00, 16.06it/s]\n"
          ]
        },
        {
          "metadata": {
            "tags": null
          },
          "name": "stdout",
          "output_type": "stream",
          "text": [
            "Epoch 14/40 \t lr=7.2e-01\t\n",
            "{'train_perplexity': 1.8151555030725501, 'train_loss': tensor(0.5962, device='cuda:0')} {'valid_perplexity': 1.4520916475227688, 'valid_loss': tensor(0.3730, device='cuda:0', grad_fn=<DivBackward0>)}\n",
            "time traveller came back, and filby’s anecdote collapsed. ii. the machine the thing the time traveller held in his hand was a glittering metallic framework, scarcely larger than a small clock, and very delicately made. there was ivory in it, and some transparent crystalline substance. and now i must be explicit, for this that follows—unless his explanation is to be accepted—is an absolutely unaccountable thing. he took one of the small octagonal tables that were scattered about the room, and set it in front of the fire, with two legs on the hearthrug. on this table he placed the mechanism. then he\n"
          ]
        },
        {
          "metadata": {
            "tags": null
          },
          "name": "stderr",
          "output_type": "stream",
          "text": [
            "100%|██████████| 280/280 [00:12<00:00, 21.68it/s]\n",
            "100%|██████████| 31/31 [00:01<00:00, 16.26it/s]\n"
          ]
        },
        {
          "metadata": {
            "tags": null
          },
          "name": "stdout",
          "output_type": "stream",
          "text": [
            "Epoch 15/40 \t lr=6.9e-01\t\n",
            "{'train_perplexity': 1.7199137039933108, 'train_loss': tensor(0.5423, device='cuda:0')} {'valid_perplexity': 1.4080886407073214, 'valid_loss': tensor(0.3422, device='cuda:0', grad_fn=<DivBackward0>)}\n",
            "time traveller came back, and filby’s anecdote collapsed. ii. the machine the thing the time traveller held in his hand was a glittering metallic framework, scarcely larger than a small clock, and very delicately made. there was ivory in it, and some transparent crystalline substance. and now i must be explicit, for this that follows—unless his explanation is to be accepted—is an absolutely unaccountable thing. he took one of the small octagonal tables that were scattered about the room, and set it in front of the fire, with two legs on the hearthrug. on this table he placed the mechanism. then he\n"
          ]
        },
        {
          "metadata": {
            "tags": null
          },
          "name": "stderr",
          "output_type": "stream",
          "text": [
            "100%|██████████| 280/280 [00:12<00:00, 21.89it/s]\n",
            "100%|██████████| 31/31 [00:01<00:00, 16.09it/s]\n"
          ]
        },
        {
          "metadata": {
            "tags": null
          },
          "name": "stdout",
          "output_type": "stream",
          "text": [
            "Epoch 16/40 \t lr=6.7e-01\t\n",
            "{'train_perplexity': 1.646427198090923, 'train_loss': tensor(0.4986, device='cuda:0')} {'valid_perplexity': 1.3802739396679848, 'valid_loss': tensor(0.3223, device='cuda:0', grad_fn=<DivBackward0>)}\n",
            "time traveller came back, and filby’s anecdote collapsed. ii. the machine the thing the time traveller held in his hand was a glittering metallic framework, scarcely larger than a small clock, and very delicately made. there was ivory in it, and some transparent crystalline substance. and now i must be explicit, for this that follows—unless his explanation is to be accepted—is an absolutely unaccountable thing. he took one of the small octagonal tables that were scattered about the room, and set it in front of the fire, with two legs on the hearthrug. on this table he placed the mechanism. then he\n"
          ]
        },
        {
          "metadata": {
            "tags": null
          },
          "name": "stderr",
          "output_type": "stream",
          "text": [
            "100%|██████████| 280/280 [00:12<00:00, 22.06it/s]\n",
            "100%|██████████| 31/31 [00:01<00:00, 15.77it/s]\n"
          ]
        },
        {
          "metadata": {
            "tags": null
          },
          "name": "stdout",
          "output_type": "stream",
          "text": [
            "Epoch 17/40 \t lr=6.4e-01\t\n",
            "{'train_perplexity': 1.5934522117436274, 'train_loss': tensor(0.4659, device='cuda:0')} {'valid_perplexity': 1.354669018245965, 'valid_loss': tensor(0.3036, device='cuda:0', grad_fn=<DivBackward0>)}\n",
            "time traveller came back, and filby’s anecdote collapsed. ii. the machine the thing the time traveller held in his hand was a glittering metallic framework, scarcely larger than a small clock, and very delicately made. there was ivory in it, and some transparent crystalline substance. and now i must be explicit, for this that follows—unless his explanation is to be accepted—is an absolutely unaccountable thing. he took one of the small octagonal tables that were scattered about the room, and set it in front of the fire, with two legs on the hearthrug. on this table he placed the mechanism. then he\n"
          ]
        },
        {
          "metadata": {
            "tags": null
          },
          "name": "stderr",
          "output_type": "stream",
          "text": [
            "100%|██████████| 280/280 [00:12<00:00, 21.88it/s]\n",
            "100%|██████████| 31/31 [00:01<00:00, 15.88it/s]\n"
          ]
        },
        {
          "metadata": {
            "tags": null
          },
          "name": "stdout",
          "output_type": "stream",
          "text": [
            "Epoch 18/40 \t lr=6.1e-01\t\n",
            "{'train_perplexity': 1.5517364063673027, 'train_loss': tensor(0.4394, device='cuda:0')} {'valid_perplexity': 1.3391100756943195, 'valid_loss': tensor(0.2920, device='cuda:0', grad_fn=<DivBackward0>)}\n",
            "time traveller came back, and filby’s anecdote collapsed. ii. the machine the thing the time traveller held in his hand was a glittering metallic framework, scarcely larger than a small clock, and very delicately made. there was ivory in it, and some transparent crystalline substance. and now i must be explicit, for this that follows—unless his explanation is to be accepted—is an absolutely unaccountable thing. he took one of the small octagonal tables that were scattered about the room, and set it in front of the fire, with two legs on the hearthrug. on this table he placed the mechanism. then he\n"
          ]
        },
        {
          "metadata": {
            "tags": null
          },
          "name": "stderr",
          "output_type": "stream",
          "text": [
            "100%|██████████| 280/280 [00:12<00:00, 21.72it/s]\n",
            "100%|██████████| 31/31 [00:01<00:00, 16.04it/s]\n"
          ]
        },
        {
          "metadata": {
            "tags": null
          },
          "name": "stdout",
          "output_type": "stream",
          "text": [
            "Epoch 19/40 \t lr=5.8e-01\t\n",
            "{'train_perplexity': 1.5211947253142177, 'train_loss': tensor(0.4195, device='cuda:0')} {'valid_perplexity': 1.3241625949053173, 'valid_loss': tensor(0.2808, device='cuda:0', grad_fn=<DivBackward0>)}\n",
            "time traveller came back, and filby’s anecdote collapsed. ii. the machine the thing the time traveller held in his hand was a glittering metallic framework, scarcely larger than a small clock, and very delicately made. there was ivory in it, and some transparent crystalline substance. and now i must be explicit, for this that follows—unless his explanation is to be accepted—is an absolutely unaccountable thing. he took one of the small octagonal tables that were scattered about the room, and set it in front of the fire, with two legs on the hearthrug. on this table he placed the mechanism. then he\n"
          ]
        },
        {
          "metadata": {
            "tags": null
          },
          "name": "stderr",
          "output_type": "stream",
          "text": [
            "100%|██████████| 280/280 [00:12<00:00, 22.00it/s]\n",
            "100%|██████████| 31/31 [00:01<00:00, 15.95it/s]\n"
          ]
        },
        {
          "metadata": {
            "tags": null
          },
          "name": "stdout",
          "output_type": "stream",
          "text": [
            "Epoch 20/40 \t lr=5.6e-01\t\n",
            "{'train_perplexity': 1.4948457397520527, 'train_loss': tensor(0.4020, device='cuda:0')} {'valid_perplexity': 1.3131397981821094, 'valid_loss': tensor(0.2724, device='cuda:0', grad_fn=<DivBackward0>)}\n",
            "time traveller came back, and filby’s anecdote collapsed. ii. the machine the thing the time traveller held in his hand was a glittering metallic framework, scarcely larger than a small clock, and very delicately made. there was ivory in it, and some transparent crystalline substance. and now i must be explicit, for this that follows—unless his explanation is to be accepted—is an absolutely unaccountable thing. he took one of the small octagonal tables that were scattered about the room, and set it in front of the fire, with two legs on the hearthrug. on this table he placed the mechanism. then he\n"
          ]
        },
        {
          "metadata": {
            "tags": null
          },
          "name": "stderr",
          "output_type": "stream",
          "text": [
            "100%|██████████| 280/280 [00:12<00:00, 21.87it/s]\n",
            "100%|██████████| 31/31 [00:01<00:00, 15.92it/s]\n"
          ]
        },
        {
          "metadata": {
            "tags": null
          },
          "name": "stdout",
          "output_type": "stream",
          "text": [
            "Epoch 21/40 \t lr=5.3e-01\t\n",
            "{'train_perplexity': 1.4710546065613284, 'train_loss': tensor(0.3860, device='cuda:0')} {'valid_perplexity': 1.3059842292835666, 'valid_loss': tensor(0.2670, device='cuda:0', grad_fn=<DivBackward0>)}\n",
            "time traveller came back, and filby’s anecdote collapsed. ii. the machine the thing the time traveller held in his hand was a glittering metallic framework, scarcely larger than a small clock, and very delicately made. there was ivory in it, and some transparent crystalline substance. and now i must be explicit, for this that follows—unless his explanation is to be accepted—is an absolutely unaccountable thing. he took one of the small octagonal tables that were scattered about the room, and set it in front of the fire, with two legs on the hearthrug. on this table he placed the mechanism. then he\n"
          ]
        },
        {
          "metadata": {
            "tags": null
          },
          "name": "stderr",
          "output_type": "stream",
          "text": [
            "100%|██████████| 280/280 [00:12<00:00, 21.98it/s]\n",
            "100%|██████████| 31/31 [00:01<00:00, 16.39it/s]\n"
          ]
        },
        {
          "metadata": {
            "tags": null
          },
          "name": "stdout",
          "output_type": "stream",
          "text": [
            "Epoch 22/40 \t lr=5.0e-01\t\n",
            "{'train_perplexity': 1.454735730645791, 'train_loss': tensor(0.3748, device='cuda:0')} {'valid_perplexity': 1.2984722975153593, 'valid_loss': tensor(0.2612, device='cuda:0', grad_fn=<DivBackward0>)}\n",
            "time traveller came back, and filby’s anecdote collapsed. ii. the machine the thing the time traveller held in his hand was a glittering metallic framework, scarcely larger than a small clock, and very delicately made. there was ivory in it, and some transparent crystalline substance. and now i must be explicit, for this that follows—unless his explanation is to be accepted—is an absolutely unaccountable thing. he took one of the small octagonal tables that were scattered about the room, and set it in front of the fire, with two legs on the hearthrug. on this table he placed the mechanism. then he\n"
          ]
        },
        {
          "metadata": {
            "tags": null
          },
          "name": "stderr",
          "output_type": "stream",
          "text": [
            "100%|██████████| 280/280 [00:12<00:00, 21.72it/s]\n",
            "100%|██████████| 31/31 [00:01<00:00, 15.94it/s]\n"
          ]
        },
        {
          "metadata": {
            "tags": null
          },
          "name": "stdout",
          "output_type": "stream",
          "text": [
            "Epoch 23/40 \t lr=4.7e-01\t\n",
            "{'train_perplexity': 1.43890973838647, 'train_loss': tensor(0.3639, device='cuda:0')} {'valid_perplexity': 1.290814868249032, 'valid_loss': tensor(0.2553, device='cuda:0', grad_fn=<DivBackward0>)}\n",
            "time traveller came back, and filby’s anecdote collapsed. ii. the machine the thing the time traveller held in his hand was a glittering metallic framework, scarcely larger than a small clock, and very delicately made. there was ivory in it, and some transparent crystalline substance. and now i must be explicit, for this that follows—unless his explanation is to be accepted—is an absolutely unaccountable thing. he took one of the small octagonal tables that were scattered about the room, and set it in front of the fire, with two legs on the hearthrug. on this table he placed the mechanism. then he\n"
          ]
        },
        {
          "metadata": {
            "tags": null
          },
          "name": "stderr",
          "output_type": "stream",
          "text": [
            "100%|██████████| 280/280 [00:12<00:00, 21.98it/s]\n",
            "100%|██████████| 31/31 [00:01<00:00, 16.36it/s]\n"
          ]
        },
        {
          "metadata": {
            "tags": null
          },
          "name": "stdout",
          "output_type": "stream",
          "text": [
            "Epoch 24/40 \t lr=4.4e-01\t\n",
            "{'train_perplexity': 1.4243362883110176, 'train_loss': tensor(0.3537, device='cuda:0')} {'valid_perplexity': 1.2860025445881893, 'valid_loss': tensor(0.2515, device='cuda:0', grad_fn=<DivBackward0>)}\n",
            "time traveller came back, and filby’s anecdote collapsed. ii. the machine the thing the time traveller held in his hand was a glittering metallic framework, scarcely larger than a small clock, and very delicately made. there was ivory in it, and some transparent crystalline substance. and now i must be explicit, for this that follows—unless his explanation is to be accepted—is an absolutely unaccountable thing. he took one of the small octagonal tables that were scattered about the room, and set it in front of the fire, with two legs on the hearthrug. on this table he placed the mechanism. then he\n"
          ]
        },
        {
          "metadata": {
            "tags": null
          },
          "name": "stderr",
          "output_type": "stream",
          "text": [
            "100%|██████████| 280/280 [00:12<00:00, 22.27it/s]\n",
            "100%|██████████| 31/31 [00:01<00:00, 15.96it/s]\n"
          ]
        },
        {
          "metadata": {
            "tags": null
          },
          "name": "stdout",
          "output_type": "stream",
          "text": [
            "Epoch 25/40 \t lr=4.2e-01\t\n",
            "{'train_perplexity': 1.4117523930978806, 'train_loss': tensor(0.3448, device='cuda:0')} {'valid_perplexity': 1.2799954148005372, 'valid_loss': tensor(0.2469, device='cuda:0', grad_fn=<DivBackward0>)}\n",
            "time traveller came back, and filby’s anecdote collapsed. ii. the machine the thing the time traveller held in his hand was a glittering metallic framework, scarcely larger than a small clock, and very delicately made. there was ivory in it, and some transparent crystalline substance. and now i must be explicit, for this that follows—unless his explanation is to be accepted—is an absolutely unaccountable thing. he took one of the small octagonal tables that were scattered about the room, and set it in front of the fire, with two legs on the hearthrug. on this table he placed the mechanism. then he\n"
          ]
        },
        {
          "metadata": {
            "tags": null
          },
          "name": "stderr",
          "output_type": "stream",
          "text": [
            "100%|██████████| 280/280 [00:12<00:00, 21.92it/s]\n",
            "100%|██████████| 31/31 [00:01<00:00, 15.92it/s]\n"
          ]
        },
        {
          "metadata": {
            "tags": null
          },
          "name": "stdout",
          "output_type": "stream",
          "text": [
            "Epoch 26/40 \t lr=3.9e-01\t\n",
            "{'train_perplexity': 1.4064554982290056, 'train_loss': tensor(0.3411, device='cuda:0')} {'valid_perplexity': 1.2776800910820543, 'valid_loss': tensor(0.2450, device='cuda:0', grad_fn=<DivBackward0>)}\n",
            "time traveller came back, and filby’s anecdote collapsed. ii. the machine the thing the time traveller held in his hand was a glittering metallic framework, scarcely larger than a small clock, and very delicately made. there was ivory in it, and some transparent crystalline substance. and now i must be explicit, for this that follows—unless his explanation is to be accepted—is an absolutely unaccountable thing. he took one of the small octagonal tables that were scattered about the room, and set it in front of the fire, with two legs on the hearthrug. on this table he placed the mechanism. then he\n"
          ]
        },
        {
          "metadata": {
            "tags": null
          },
          "name": "stderr",
          "output_type": "stream",
          "text": [
            "100%|██████████| 280/280 [00:12<00:00, 22.18it/s]\n",
            "100%|██████████| 31/31 [00:01<00:00, 16.11it/s]\n"
          ]
        },
        {
          "metadata": {
            "tags": null
          },
          "name": "stdout",
          "output_type": "stream",
          "text": [
            "Epoch 27/40 \t lr=3.6e-01\t\n",
            "{'train_perplexity': 1.392549066731999, 'train_loss': tensor(0.3311, device='cuda:0')} {'valid_perplexity': 1.2736982267613484, 'valid_loss': tensor(0.2419, device='cuda:0', grad_fn=<DivBackward0>)}\n",
            "time traveller came back, and filby’s anecdote collapsed. ii. the machine the thing the time traveller held in his hand was a glittering metallic framework, scarcely larger than a small clock, and very delicately made. there was ivory in it, and some transparent crystalline substance. and now i must be explicit, for this that follows—unless his explanation is to be accepted—is an absolutely unaccountable thing. he took one of the small octagonal tables that were scattered about the room, and set it in front of the fire, with two legs on the hearthrug. on this table he placed the mechanism. then he\n"
          ]
        },
        {
          "metadata": {
            "tags": null
          },
          "name": "stderr",
          "output_type": "stream",
          "text": [
            "100%|██████████| 280/280 [00:12<00:00, 21.93it/s]\n",
            "100%|██████████| 31/31 [00:01<00:00, 16.41it/s]\n"
          ]
        },
        {
          "metadata": {
            "tags": null
          },
          "name": "stdout",
          "output_type": "stream",
          "text": [
            "Epoch 28/40 \t lr=3.3e-01\t\n",
            "{'train_perplexity': 1.3885784671238515, 'train_loss': tensor(0.3283, device='cuda:0')} {'valid_perplexity': 1.270623455774272, 'valid_loss': tensor(0.2395, device='cuda:0', grad_fn=<DivBackward0>)}\n",
            "time traveller came back, and filby’s anecdote collapsed. ii. the machine the thing the time traveller held in his hand was a glittering metallic framework, scarcely larger than a small clock, and very delicately made. there was ivory in it, and some transparent crystalline substance. and now i must be explicit, for this that follows—unless his explanation is to be accepted—is an absolutely unaccountable thing. he took one of the small octagonal tables that were scattered about the room, and set it in front of the fire, with two legs on the hearthrug. on this table he placed the mechanism. then he\n"
          ]
        },
        {
          "metadata": {
            "tags": null
          },
          "name": "stderr",
          "output_type": "stream",
          "text": [
            "100%|██████████| 280/280 [00:12<00:00, 22.32it/s]\n",
            "100%|██████████| 31/31 [00:01<00:00, 16.32it/s]\n"
          ]
        },
        {
          "metadata": {
            "tags": null
          },
          "name": "stdout",
          "output_type": "stream",
          "text": [
            "Epoch 29/40 \t lr=3.1e-01\t\n",
            "{'train_perplexity': 1.3822270288920244, 'train_loss': tensor(0.3237, device='cuda:0')} {'valid_perplexity': 1.2684244054012614, 'valid_loss': tensor(0.2378, device='cuda:0', grad_fn=<DivBackward0>)}\n",
            "time traveller came back, and filby’s anecdote collapsed. ii. the machine the thing the time traveller held in his hand was a glittering metallic framework, scarcely larger than a small clock, and very delicately made. there was ivory in it, and some transparent crystalline substance. and now i must be explicit, for this that follows—unless his explanation is to be accepted—is an absolutely unaccountable thing. he took one of the small octagonal tables that were scattered about the room, and set it in front of the fire, with two legs on the hearthrug. on this table he placed the mechanism. then he\n"
          ]
        },
        {
          "metadata": {
            "tags": null
          },
          "name": "stderr",
          "output_type": "stream",
          "text": [
            "100%|██████████| 280/280 [00:12<00:00, 21.72it/s]\n",
            "100%|██████████| 31/31 [00:01<00:00, 16.56it/s]\n"
          ]
        },
        {
          "metadata": {
            "tags": null
          },
          "name": "stdout",
          "output_type": "stream",
          "text": [
            "Epoch 30/40 \t lr=2.8e-01\t\n",
            "{'train_perplexity': 1.3727816721150006, 'train_loss': tensor(0.3168, device='cuda:0')} {'valid_perplexity': 1.2652611164034662, 'valid_loss': tensor(0.2353, device='cuda:0', grad_fn=<DivBackward0>)}\n",
            "time traveller came back, and filby’s anecdote collapsed. ii. the machine the thing the time traveller held in his hand was a glittering metallic framework, scarcely larger than a small clock, and very delicately made. there was ivory in it, and some transparent crystalline substance. and now i must be explicit, for this that follows—unless his explanation is to be accepted—is an absolutely unaccountable thing. he took one of the small octagonal tables that were scattered about the room, and set it in front of the fire, with two legs on the hearthrug. on this table he placed the mechanism. then he\n"
          ]
        },
        {
          "metadata": {
            "tags": null
          },
          "name": "stderr",
          "output_type": "stream",
          "text": [
            "100%|██████████| 280/280 [00:12<00:00, 22.25it/s]\n",
            "100%|██████████| 31/31 [00:01<00:00, 16.19it/s]\n"
          ]
        },
        {
          "metadata": {
            "tags": null
          },
          "name": "stdout",
          "output_type": "stream",
          "text": [
            "Epoch 31/40 \t lr=2.5e-01\t\n",
            "{'train_perplexity': 1.3678445462588371, 'train_loss': tensor(0.3132, device='cuda:0')} {'valid_perplexity': 1.263344472126172, 'valid_loss': tensor(0.2338, device='cuda:0', grad_fn=<DivBackward0>)}\n",
            "time traveller came back, and filby’s anecdote collapsed. ii. the machine the thing the time traveller held in his hand was a glittering metallic framework, scarcely larger than a small clock, and very delicately made. there was ivory in it, and some transparent crystalline substance. and now i must be explicit, for this that follows—unless his explanation is to be accepted—is an absolutely unaccountable thing. he took one of the small octagonal tables that were scattered about the room, and set it in front of the fire, with two legs on the hearthrug. on this table he placed the mechanism. then he\n"
          ]
        },
        {
          "metadata": {
            "tags": null
          },
          "name": "stderr",
          "output_type": "stream",
          "text": [
            "100%|██████████| 280/280 [00:12<00:00, 22.28it/s]\n",
            "100%|██████████| 31/31 [00:01<00:00, 16.11it/s]\n"
          ]
        },
        {
          "metadata": {
            "tags": null
          },
          "name": "stdout",
          "output_type": "stream",
          "text": [
            "Epoch 32/40 \t lr=2.2e-01\t\n",
            "{'train_perplexity': 1.3644816655842404, 'train_loss': tensor(0.3108, device='cuda:0')} {'valid_perplexity': 1.2613837589368455, 'valid_loss': tensor(0.2322, device='cuda:0', grad_fn=<DivBackward0>)}\n",
            "time traveller came back, and filby’s anecdote collapsed. ii. the machine the thing the time traveller held in his hand was a glittering metallic framework, scarcely larger than a small clock, and very delicately made. there was ivory in it, and some transparent crystalline substance. and now i must be explicit, for this that follows—unless his explanation is to be accepted—is an absolutely unaccountable thing. he took one of the small octagonal tables that were scattered about the room, and set it in front of the fire, with two legs on the hearthrug. on this table he placed the mechanism. then he\n"
          ]
        },
        {
          "metadata": {
            "tags": null
          },
          "name": "stderr",
          "output_type": "stream",
          "text": [
            "100%|██████████| 280/280 [00:12<00:00, 22.28it/s]\n",
            "100%|██████████| 31/31 [00:01<00:00, 15.91it/s]\n"
          ]
        },
        {
          "metadata": {
            "tags": null
          },
          "name": "stdout",
          "output_type": "stream",
          "text": [
            "Epoch 33/40 \t lr=1.9e-01\t\n",
            "{'train_perplexity': 1.3572044661482556, 'train_loss': tensor(0.3054, device='cuda:0')} {'valid_perplexity': 1.2598947669676044, 'valid_loss': tensor(0.2310, device='cuda:0', grad_fn=<DivBackward0>)}\n",
            "time traveller came back, and filby’s anecdote collapsed. ii. the machine the thing the time traveller held in his hand was a glittering metallic framework, scarcely larger than a small clock, and very delicately made. there was ivory in it, and some transparent crystalline substance. and now i must be explicit, for this that follows—unless his explanation is to be accepted—is an absolutely unaccountable thing. he took one of the small octagonal tables that were scattered about the room, and set it in front of the fire, with two legs on the hearthrug. on this table he placed the mechanism. then he\n"
          ]
        },
        {
          "metadata": {
            "tags": null
          },
          "name": "stderr",
          "output_type": "stream",
          "text": [
            "100%|██████████| 280/280 [00:12<00:00, 22.06it/s]\n",
            "100%|██████████| 31/31 [00:01<00:00, 16.65it/s]\n"
          ]
        },
        {
          "metadata": {
            "tags": null
          },
          "name": "stdout",
          "output_type": "stream",
          "text": [
            "Epoch 34/40 \t lr=1.7e-01\t\n",
            "{'train_perplexity': 1.3532239369941057, 'train_loss': tensor(0.3025, device='cuda:0')} {'valid_perplexity': 1.2583721111428763, 'valid_loss': tensor(0.2298, device='cuda:0', grad_fn=<DivBackward0>)}\n",
            "time traveller came back, and filby’s anecdote collapsed. ii. the machine the thing the time traveller held in his hand was a glittering metallic framework, scarcely larger than a small clock, and very delicately made. there was ivory in it, and some transparent crystalline substance. and now i must be explicit, for this that follows—unless his explanation is to be accepted—is an absolutely unaccountable thing. he took one of the small octagonal tables that were scattered about the room, and set it in front of the fire, with two legs on the hearthrug. on this table he placed the mechanism. then he\n"
          ]
        },
        {
          "metadata": {
            "tags": null
          },
          "name": "stderr",
          "output_type": "stream",
          "text": [
            "100%|██████████| 280/280 [00:12<00:00, 22.40it/s]\n",
            "100%|██████████| 31/31 [00:01<00:00, 16.25it/s]\n"
          ]
        },
        {
          "metadata": {
            "tags": null
          },
          "name": "stdout",
          "output_type": "stream",
          "text": [
            "Epoch 35/40 \t lr=1.4e-01\t\n",
            "{'train_perplexity': 1.3530107735489556, 'train_loss': tensor(0.3023, device='cuda:0')} {'valid_perplexity': 1.258270989953901, 'valid_loss': tensor(0.2297, device='cuda:0', grad_fn=<DivBackward0>)}\n",
            "time traveller came back, and filby’s anecdote collapsed. ii. the machine the thing the time traveller held in his hand was a glittering metallic framework, scarcely larger than a small clock, and very delicately made. there was ivory in it, and some transparent crystalline substance. and now i must be explicit, for this that follows—unless his explanation is to be accepted—is an absolutely unaccountable thing. he took one of the small octagonal tables that were scattered about the room, and set it in front of the fire, with two legs on the hearthrug. on this table he placed the mechanism. then he\n"
          ]
        },
        {
          "metadata": {
            "tags": null
          },
          "name": "stderr",
          "output_type": "stream",
          "text": [
            "100%|██████████| 280/280 [00:12<00:00, 21.94it/s]\n",
            "100%|██████████| 31/31 [00:01<00:00, 16.46it/s]\n"
          ]
        },
        {
          "metadata": {
            "tags": null
          },
          "name": "stdout",
          "output_type": "stream",
          "text": [
            "Epoch 36/40 \t lr=1.1e-01\t\n",
            "{'train_perplexity': 1.3476071194877546, 'train_loss': tensor(0.2983, device='cuda:0')} {'valid_perplexity': 1.256802040431031, 'valid_loss': tensor(0.2286, device='cuda:0', grad_fn=<DivBackward0>)}\n",
            "time traveller came back, and filby’s anecdote collapsed. ii. the machine the thing the time traveller held in his hand was a glittering metallic framework, scarcely larger than a small clock, and very delicately made. there was ivory in it, and some transparent crystalline substance. and now i must be explicit, for this that follows—unless his explanation is to be accepted—is an absolutely unaccountable thing. he took one of the small octagonal tables that were scattered about the room, and set it in front of the fire, with two legs on the hearthrug. on this table he placed the mechanism. then he\n"
          ]
        },
        {
          "metadata": {
            "tags": null
          },
          "name": "stderr",
          "output_type": "stream",
          "text": [
            "100%|██████████| 280/280 [00:12<00:00, 22.24it/s]\n",
            "100%|██████████| 31/31 [00:01<00:00, 16.24it/s]\n"
          ]
        },
        {
          "metadata": {
            "tags": null
          },
          "name": "stdout",
          "output_type": "stream",
          "text": [
            "Epoch 37/40 \t lr=8.3e-02\t\n",
            "{'train_perplexity': 1.3482488171615332, 'train_loss': tensor(0.2988, device='cuda:0')} {'valid_perplexity': 1.256499847372973, 'valid_loss': tensor(0.2283, device='cuda:0', grad_fn=<DivBackward0>)}\n",
            "time traveller came back, and filby’s anecdote collapsed. ii. the machine the thing the time traveller held in his hand was a glittering metallic framework, scarcely larger than a small clock, and very delicately made. there was ivory in it, and some transparent crystalline substance. and now i must be explicit, for this that follows—unless his explanation is to be accepted—is an absolutely unaccountable thing. he took one of the small octagonal tables that were scattered about the room, and set it in front of the fire, with two legs on the hearthrug. on this table he placed the mechanism. then he\n"
          ]
        },
        {
          "output_type": "stream",
          "name": "stderr",
          "text": [
            "100%|██████████| 280/280 [00:12<00:00, 21.86it/s]\n",
            "100%|██████████| 31/31 [00:01<00:00, 15.81it/s]\n"
          ]
        },
        {
          "output_type": "stream",
          "name": "stdout",
          "text": [
            "Epoch 38/40 \t lr=5.6e-02\t\n",
            "{'train_perplexity': 1.3443904684080634, 'train_loss': tensor(0.2959, device='cuda:0')} {'valid_perplexity': 1.2559225158213485, 'valid_loss': tensor(0.2279, device='cuda:0', grad_fn=<DivBackward0>)}\n",
            "time traveller came back, and filby’s anecdote collapsed. ii. the machine the thing the time traveller held in his hand was a glittering metallic framework, scarcely larger than a small clock, and very delicately made. there was ivory in it, and some transparent crystalline substance. and now i must be explicit, for this that follows—unless his explanation is to be accepted—is an absolutely unaccountable thing. he took one of the small octagonal tables that were scattered about the room, and set it in front of the fire, with two legs on the hearthrug. on this table he placed the mechanism. then he\n"
          ]
        },
        {
          "output_type": "stream",
          "name": "stderr",
          "text": [
            "100%|██████████| 280/280 [00:12<00:00, 21.84it/s]\n",
            "100%|██████████| 31/31 [00:01<00:00, 16.09it/s]\n"
          ]
        },
        {
          "output_type": "stream",
          "name": "stdout",
          "text": [
            "Epoch 39/40 \t lr=2.8e-02\t\n",
            "{'train_perplexity': 1.3421057675939132, 'train_loss': tensor(0.2942, device='cuda:0')} {'valid_perplexity': 1.2550999746227216, 'valid_loss': tensor(0.2272, device='cuda:0', grad_fn=<DivBackward0>)}\n",
            "time traveller came back, and filby’s anecdote collapsed. ii. the machine the thing the time traveller held in his hand was a glittering metallic framework, scarcely larger than a small clock, and very delicately made. there was ivory in it, and some transparent crystalline substance. and now i must be explicit, for this that follows—unless his explanation is to be accepted—is an absolutely unaccountable thing. he took one of the small octagonal tables that were scattered about the room, and set it in front of the fire, with two legs on the hearthrug. on this table he placed the mechanism. then he\n"
          ]
        },
        {
          "output_type": "stream",
          "name": "stderr",
          "text": [
            "100%|██████████| 280/280 [00:12<00:00, 21.77it/s]\n",
            "100%|██████████| 31/31 [00:01<00:00, 16.16it/s]"
          ]
        },
        {
          "output_type": "stream",
          "name": "stdout",
          "text": [
            "Epoch 40/40 \t lr=0.0e+00\t\n",
            "{'train_perplexity': 1.3403443783511677, 'train_loss': tensor(0.2929, device='cuda:0')} {'valid_perplexity': 1.25490436227179, 'valid_loss': tensor(0.2271, device='cuda:0', grad_fn=<DivBackward0>)}\n",
            "time traveller came back, and filby’s anecdote collapsed. ii. the machine the thing the time traveller held in his hand was a glittering metallic framework, scarcely larger than a small clock, and very delicately made. there was ivory in it, and some transparent crystalline substance. and now i must be explicit, for this that follows—unless his explanation is to be accepted—is an absolutely unaccountable thing. he took one of the small octagonal tables that were scattered about the room, and set it in front of the fire, with two legs on the hearthrug. on this table he placed the mechanism. then he\n"
          ]
        },
        {
          "output_type": "stream",
          "name": "stderr",
          "text": [
            "\n"
          ]
        }
      ]
    },
    {
      "cell_type": "code",
      "source": [
        "inference_word(language_model, vocab, [\"Alex\", \"will\", \"have\", \"dinner\"], seq_num=1000)"
      ],
      "metadata": {
        "colab": {
          "base_uri": "https://localhost:8080/",
          "height": 417
        },
        "id": "QsNWDDROW8Zu",
        "outputId": "b1799e75-841b-4349-f84a-e6b826d0d844"
      },
      "execution_count": 48,
      "outputs": [
        {
          "output_type": "execute_result",
          "data": {
            "text/plain": [
              "'Alex will have dinner at seven if he’s not back. says he’ll explain when he comes.” “it seems a pity to let the dinner spoil,” said the editor of a well-known daily paper; and thereupon the doctor rang the bell. the psychologist was the only person besides the doctor and myself who had attended the previous dinner. the other men were blank, the editor aforementioned, a certain journalist, and another—a quiet, shy man with a beard—whom i didn’t know, and who, as far as my observation went, never opened his mouth all the evening. there was some speculation at the dinner-table about the time traveller’s absence, and i suggested time travelling, in a half-jocular spirit. the editor wanted that explained to him, and the psychologist volunteered a wooden account of the “ingenious paradox and trick” we had witnessed that day week. he was in the midst of his exposition when the door from the corridor opened slowly and without noise. i was facing the door, and saw it first. “hallo!” i said. “at last!” and the door opened wider, and the time traveller stood before us. i gave a cry of surprise. “good heavens! man, what’s the matter?” cried the medical man, who saw him next. and the whole tableful turned towards the door. he was in an amazing plight. his coat was dusty and dirty, and smeared with green down the sleeves; his hair disordered, and as it seemed to me greyer—either with dust and dirt or because its colour had actually faded. his face was ghastly pale; his chin had a brown cut on it—a cut half-healed; his expression was haggard and drawn, as by intense suffering. for a moment he hesitated in the doorway, as if he had been dazzled by the light. then he came into the room. he walked with just such a limp as i have seen in footsore tramps. we stared at him in silence, expecting him to speak. he said not a word, but came painfully to the table, and made a motion towards the wine. the editor filled a glass of champagne, and pushed it towards him. he drained it, and it seemed to do him good: for he looked round the table, and the ghost of his old smile flickered across his face. “what on earth have you been up to, man?” said the doctor. the time traveller did not seem to hear. “don’t let me disturb you,” he said, with a certain faltering articulation. “i’m all right.” he stopped, held out his glass for more, and took it off at a draught. “that’s good,” he said. his eyes grew brighter, and a faint colour came into his cheeks. his glance flickered over our faces with a certain dull approval, and then went round the warm and comfortable room. then he spoke again, still as it were feeling his way among his words. “i’m going to wash and dress, and then i’ll come down and explain things.... save me some of that mutton. i’m starving for a bit of meat.” he looked across at the editor, who was a rare visitor, and hoped he was all right. the editor began a question. “tell you presently,” said the time traveller. “i’m—funny! be all right in a minute.” he put down his glass, and walked towards the staircase door. again i remarked his lameness and the soft padding sound of his footfall, and standing up in my place, i saw his feet as he went out. he had nothing on them but a pair of tattered, blood-stained socks. then the door closed upon him. i had half a mind to follow, till i remembered how he detested any fuss about himself. for a minute, perhaps, my mind was wool-gathering. then, “remarkable behaviour of an eminent scientist,” i heard the editor say, thinking (after his wont) in headlines. and this brought my attention back to the bright dinner-table. “what’s the game?” said the journalist. “has he been doing the amateur cadger? i don’t follow.” i met the eye of the psychologist, and read my own interpretation in his face. i thought of the time traveller limping painfully upstairs. i don’t think anyone else had noticed his lameness. the first to recover completely from this surprise was the medical man, who rang the bell—the time traveller hated to have servants waiting at dinner—for a hot plate. at that the editor turned to his knife and fork with a grunt, and the silent man followed suit. the dinner was resumed. conversation was exclamatory for a little while with gaps of wonderment; and then the editor got fervent in his curiosity. “does our friend eke out his modest income with a crossing? or has he his nebuchadnezzar phases?” he inquired. “i feel assured it’s this business of the time machine,” i said, and took up the psychologist’s account of our previous meeting. the new guests were frankly incredulous. the editor raised objections. “what _was_ this time travelling? a man couldn’t cover himself with dust by rolling in a paradox, could he?” and then, as the idea came home to him, he resorted to caricature. hadn’t they any clothes-brushes in the future? the journalist too, would not believe at any price, and joined the editor in the easy work of heaping ridicule on the whole thing. they were both the new kind of journalist—very joyous, irreverent young men. “our special correspondent in the day after tomorrow reports,” the journalist was saying—or rather shouting—when the time traveller came back. he was dressed in ordinary evening clothes, and nothing save his haggard look remained of the change that had startled me. “i say,” said the editor hilariously, “these chaps here say you have been travelling into the middle of next week! tell us all about little rosebery, will you? what will you take for the lot?” the time traveller came to the place reserved for him without a word. he smiled quietly, in his old way. “where’s my mutton?” he said. “what a'"
            ],
            "application/vnd.google.colaboratory.intrinsic+json": {
              "type": "string"
            }
          },
          "metadata": {},
          "execution_count": 48
        }
      ]
    },
    {
      "cell_type": "code",
      "source": [],
      "metadata": {
        "id": "_YXQW5ceRVhy"
      },
      "execution_count": null,
      "outputs": []
    }
  ],
  "metadata": {
    "accelerator": "GPU",
    "colab": {
      "collapsed_sections": [],
      "machine_shape": "hm",
      "provenance": [],
      "authorship_tag": "ABX9TyPMH0+LAe9FmL8ST+42Lfpg",
      "include_colab_link": true
    },
    "gpuClass": "standard",
    "kernelspec": {
      "display_name": "Python 3",
      "name": "python3"
    },
    "language_info": {
      "name": "python"
    }
  },
  "nbformat": 4,
  "nbformat_minor": 0
}