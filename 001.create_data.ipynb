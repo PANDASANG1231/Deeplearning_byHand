{
 "cells": [
  {
   "cell_type": "code",
   "execution_count": 10,
   "source": [
    "import numpy as np\n",
    "import torch"
   ],
   "outputs": [],
   "metadata": {}
  },
  {
   "cell_type": "code",
   "execution_count": 11,
   "source": [
    "print(\"use A = A + 1: \")\n",
    "a = torch.arange(12).reshape((6,2))\n",
    "before = id(a)\n",
    "a = a+1\n",
    "print(id(a) == before)\n",
    "\n",
    "print(\"use A += 1: \")\n",
    "a = torch.arange(12).reshape((6,2))\n",
    "before = id(a)\n",
    "a += 1\n",
    "print(id(a) == before)\n",
    "a += torch.ones_like(a)\n",
    "print(id(a) == before)\n",
    "\n",
    "print(\"use A[:] = B: \")\n",
    "a = torch.arange(12).reshape((6,2))\n",
    "before = id(a)\n",
    "a[:] = 1\n",
    "print(id(a) == before)\n"
   ],
   "outputs": [
    {
     "output_type": "stream",
     "name": "stdout",
     "text": [
      "use A = A + 1: \n",
      "False\n",
      "use A += 1: \n",
      "True\n",
      "True\n",
      "use A[:] = B: \n",
      "True\n"
     ]
    }
   ],
   "metadata": {}
  },
  {
   "cell_type": "markdown",
   "source": [],
   "metadata": {}
  },
  {
   "cell_type": "code",
   "execution_count": 16,
   "source": [
    "print(\"分配新的a， 不影响b\")\n",
    "\n",
    "a = 1\n",
    "b = a\n",
    "print(id(b), id(a))\n",
    "\n",
    "a = 3\n",
    "print(a, b)\n",
    "\n",
    "\n",
    "print(\"\\n a += 1。应该影响b，但是因为a是不可变变量，所以不会影响b，反而是a换了一个信的object\")\n",
    "\n",
    "a = 1\n",
    "b = a\n",
    "print(id(b), id(a))\n",
    "\n",
    "a += 3\n",
    "print(id(b), id(a))\n",
    "print(a, b)\n",
    "\n",
    "print(\"\\n a += 1。应该影响b，如果a是list、ndarray、tensor，会影响b\")\n",
    "\n",
    "a_tensor = torch.tensor([1])\n",
    "a_np = np.array([1])\n",
    "a_list = [1]\n",
    "b = a_tensor\n",
    "print(id(b), id(a_tensor))\n",
    "\n",
    "a_tensor += 3\n",
    "print(id(b), id(a_tensor))\n",
    "print(a_tensor, b)\n"
   ],
   "outputs": [
    {
     "output_type": "stream",
     "name": "stdout",
     "text": [
      "分配新的a， 不影响b\n",
      "140559656294704 140559656294704\n",
      "3 1\n",
      "\n",
      " a += 1。应该影响b，但是因为a是不可变变量，所以不会影响b，反而是a换了一个信的object\n",
      "140559656294704 140559656294704\n",
      "140559656294704 140559656294800\n",
      "4 1\n",
      "\n",
      " a += 1。应该影响b，如果a是list、ndarray、tensor，会影响b\n",
      "140559790644800 140559790644800\n",
      "140559790644800 140559790644800\n",
      "tensor([4]) tensor([4])\n"
     ]
    }
   ],
   "metadata": {}
  },
  {
   "cell_type": "code",
   "execution_count": null,
   "source": [],
   "outputs": [],
   "metadata": {}
  }
 ],
 "metadata": {
  "orig_nbformat": 4,
  "language_info": {
   "name": "python",
   "version": "3.9.5",
   "mimetype": "text/x-python",
   "codemirror_mode": {
    "name": "ipython",
    "version": 3
   },
   "pygments_lexer": "ipython3",
   "nbconvert_exporter": "python",
   "file_extension": ".py"
  },
  "kernelspec": {
   "name": "python3",
   "display_name": "Python 3.9.5 64-bit ('base': conda)"
  },
  "interpreter": {
   "hash": "20ba1d4ab6bbc91ce82013c71f11f6aebee508b4070cd6657dc06b0d0f5dc091"
  }
 },
 "nbformat": 4,
 "nbformat_minor": 2
}