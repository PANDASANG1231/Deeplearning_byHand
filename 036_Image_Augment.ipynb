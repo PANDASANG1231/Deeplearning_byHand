{
  "nbformat": 4,
  "nbformat_minor": 0,
  "metadata": {
    "colab": {
      "name": "036.Image_Augment.ipynb",
      "provenance": [],
      "collapsed_sections": [],
      "machine_shape": "hm",
      "authorship_tag": "ABX9TyMZp4bwDmM1grTQyN+mSifn",
      "include_colab_link": true
    },
    "kernelspec": {
      "display_name": "Python 3",
      "name": "python3"
    },
    "language_info": {
      "name": "python"
    },
    "widgets": {
      "application/vnd.jupyter.widget-state+json": {
        "bbf7fafe684a4667b7c8a0807cc0de08": {
          "model_module": "@jupyter-widgets/controls",
          "model_name": "HBoxModel",
          "model_module_version": "1.5.0",
          "state": {
            "_view_name": "HBoxView",
            "_dom_classes": [],
            "_model_name": "HBoxModel",
            "_view_module": "@jupyter-widgets/controls",
            "_model_module_version": "1.5.0",
            "_view_count": null,
            "_view_module_version": "1.5.0",
            "box_style": "",
            "layout": "IPY_MODEL_6bf05e38c0e4494e9b94a765b85d6cd6",
            "_model_module": "@jupyter-widgets/controls",
            "children": [
              "IPY_MODEL_3e071b02ba4e40fdbe0b32f9465eb50d",
              "IPY_MODEL_0e263f760b834d83a5bdf5ad830cc426",
              "IPY_MODEL_4e1aad8d11aa445d95df61c204c93c83"
            ]
          }
        },
        "6bf05e38c0e4494e9b94a765b85d6cd6": {
          "model_module": "@jupyter-widgets/base",
          "model_name": "LayoutModel",
          "model_module_version": "1.2.0",
          "state": {
            "_view_name": "LayoutView",
            "grid_template_rows": null,
            "right": null,
            "justify_content": null,
            "_view_module": "@jupyter-widgets/base",
            "overflow": null,
            "_model_module_version": "1.2.0",
            "_view_count": null,
            "flex_flow": null,
            "width": null,
            "min_width": null,
            "border": null,
            "align_items": null,
            "bottom": null,
            "_model_module": "@jupyter-widgets/base",
            "top": null,
            "grid_column": null,
            "overflow_y": null,
            "overflow_x": null,
            "grid_auto_flow": null,
            "grid_area": null,
            "grid_template_columns": null,
            "flex": null,
            "_model_name": "LayoutModel",
            "justify_items": null,
            "grid_row": null,
            "max_height": null,
            "align_content": null,
            "visibility": null,
            "align_self": null,
            "height": null,
            "min_height": null,
            "padding": null,
            "grid_auto_rows": null,
            "grid_gap": null,
            "max_width": null,
            "order": null,
            "_view_module_version": "1.2.0",
            "grid_template_areas": null,
            "object_position": null,
            "object_fit": null,
            "grid_auto_columns": null,
            "margin": null,
            "display": null,
            "left": null
          }
        },
        "3e071b02ba4e40fdbe0b32f9465eb50d": {
          "model_module": "@jupyter-widgets/controls",
          "model_name": "HTMLModel",
          "model_module_version": "1.5.0",
          "state": {
            "_view_name": "HTMLView",
            "style": "IPY_MODEL_4d2dc739c35d4e2b90b1daf39b4b8602",
            "_dom_classes": [],
            "description": "",
            "_model_name": "HTMLModel",
            "placeholder": "​",
            "_view_module": "@jupyter-widgets/controls",
            "_model_module_version": "1.5.0",
            "value": "",
            "_view_count": null,
            "_view_module_version": "1.5.0",
            "description_tooltip": null,
            "_model_module": "@jupyter-widgets/controls",
            "layout": "IPY_MODEL_044442ec296a4b41acba171c5d5c1289"
          }
        },
        "0e263f760b834d83a5bdf5ad830cc426": {
          "model_module": "@jupyter-widgets/controls",
          "model_name": "FloatProgressModel",
          "model_module_version": "1.5.0",
          "state": {
            "_view_name": "ProgressView",
            "style": "IPY_MODEL_82bd9e3f4eae4f5f98edc3ef1373f443",
            "_dom_classes": [],
            "description": "",
            "_model_name": "FloatProgressModel",
            "bar_style": "success",
            "max": 170498071,
            "_view_module": "@jupyter-widgets/controls",
            "_model_module_version": "1.5.0",
            "value": 170498071,
            "_view_count": null,
            "_view_module_version": "1.5.0",
            "orientation": "horizontal",
            "min": 0,
            "description_tooltip": null,
            "_model_module": "@jupyter-widgets/controls",
            "layout": "IPY_MODEL_228c44d043134ab1bb18e0de39b033e8"
          }
        },
        "4e1aad8d11aa445d95df61c204c93c83": {
          "model_module": "@jupyter-widgets/controls",
          "model_name": "HTMLModel",
          "model_module_version": "1.5.0",
          "state": {
            "_view_name": "HTMLView",
            "style": "IPY_MODEL_309a58e0aee74e05b54090fe0cc8f43d",
            "_dom_classes": [],
            "description": "",
            "_model_name": "HTMLModel",
            "placeholder": "​",
            "_view_module": "@jupyter-widgets/controls",
            "_model_module_version": "1.5.0",
            "value": " 170499072/? [00:10&lt;00:00, 17216678.22it/s]",
            "_view_count": null,
            "_view_module_version": "1.5.0",
            "description_tooltip": null,
            "_model_module": "@jupyter-widgets/controls",
            "layout": "IPY_MODEL_7739b383791b433f994f13e08d4c940a"
          }
        },
        "4d2dc739c35d4e2b90b1daf39b4b8602": {
          "model_module": "@jupyter-widgets/controls",
          "model_name": "DescriptionStyleModel",
          "model_module_version": "1.5.0",
          "state": {
            "_view_name": "StyleView",
            "_model_name": "DescriptionStyleModel",
            "description_width": "",
            "_view_module": "@jupyter-widgets/base",
            "_model_module_version": "1.5.0",
            "_view_count": null,
            "_view_module_version": "1.2.0",
            "_model_module": "@jupyter-widgets/controls"
          }
        },
        "044442ec296a4b41acba171c5d5c1289": {
          "model_module": "@jupyter-widgets/base",
          "model_name": "LayoutModel",
          "model_module_version": "1.2.0",
          "state": {
            "_view_name": "LayoutView",
            "grid_template_rows": null,
            "right": null,
            "justify_content": null,
            "_view_module": "@jupyter-widgets/base",
            "overflow": null,
            "_model_module_version": "1.2.0",
            "_view_count": null,
            "flex_flow": null,
            "width": null,
            "min_width": null,
            "border": null,
            "align_items": null,
            "bottom": null,
            "_model_module": "@jupyter-widgets/base",
            "top": null,
            "grid_column": null,
            "overflow_y": null,
            "overflow_x": null,
            "grid_auto_flow": null,
            "grid_area": null,
            "grid_template_columns": null,
            "flex": null,
            "_model_name": "LayoutModel",
            "justify_items": null,
            "grid_row": null,
            "max_height": null,
            "align_content": null,
            "visibility": null,
            "align_self": null,
            "height": null,
            "min_height": null,
            "padding": null,
            "grid_auto_rows": null,
            "grid_gap": null,
            "max_width": null,
            "order": null,
            "_view_module_version": "1.2.0",
            "grid_template_areas": null,
            "object_position": null,
            "object_fit": null,
            "grid_auto_columns": null,
            "margin": null,
            "display": null,
            "left": null
          }
        },
        "82bd9e3f4eae4f5f98edc3ef1373f443": {
          "model_module": "@jupyter-widgets/controls",
          "model_name": "ProgressStyleModel",
          "model_module_version": "1.5.0",
          "state": {
            "_view_name": "StyleView",
            "_model_name": "ProgressStyleModel",
            "description_width": "",
            "_view_module": "@jupyter-widgets/base",
            "_model_module_version": "1.5.0",
            "_view_count": null,
            "_view_module_version": "1.2.0",
            "bar_color": null,
            "_model_module": "@jupyter-widgets/controls"
          }
        },
        "228c44d043134ab1bb18e0de39b033e8": {
          "model_module": "@jupyter-widgets/base",
          "model_name": "LayoutModel",
          "model_module_version": "1.2.0",
          "state": {
            "_view_name": "LayoutView",
            "grid_template_rows": null,
            "right": null,
            "justify_content": null,
            "_view_module": "@jupyter-widgets/base",
            "overflow": null,
            "_model_module_version": "1.2.0",
            "_view_count": null,
            "flex_flow": null,
            "width": null,
            "min_width": null,
            "border": null,
            "align_items": null,
            "bottom": null,
            "_model_module": "@jupyter-widgets/base",
            "top": null,
            "grid_column": null,
            "overflow_y": null,
            "overflow_x": null,
            "grid_auto_flow": null,
            "grid_area": null,
            "grid_template_columns": null,
            "flex": null,
            "_model_name": "LayoutModel",
            "justify_items": null,
            "grid_row": null,
            "max_height": null,
            "align_content": null,
            "visibility": null,
            "align_self": null,
            "height": null,
            "min_height": null,
            "padding": null,
            "grid_auto_rows": null,
            "grid_gap": null,
            "max_width": null,
            "order": null,
            "_view_module_version": "1.2.0",
            "grid_template_areas": null,
            "object_position": null,
            "object_fit": null,
            "grid_auto_columns": null,
            "margin": null,
            "display": null,
            "left": null
          }
        },
        "309a58e0aee74e05b54090fe0cc8f43d": {
          "model_module": "@jupyter-widgets/controls",
          "model_name": "DescriptionStyleModel",
          "model_module_version": "1.5.0",
          "state": {
            "_view_name": "StyleView",
            "_model_name": "DescriptionStyleModel",
            "description_width": "",
            "_view_module": "@jupyter-widgets/base",
            "_model_module_version": "1.5.0",
            "_view_count": null,
            "_view_module_version": "1.2.0",
            "_model_module": "@jupyter-widgets/controls"
          }
        },
        "7739b383791b433f994f13e08d4c940a": {
          "model_module": "@jupyter-widgets/base",
          "model_name": "LayoutModel",
          "model_module_version": "1.2.0",
          "state": {
            "_view_name": "LayoutView",
            "grid_template_rows": null,
            "right": null,
            "justify_content": null,
            "_view_module": "@jupyter-widgets/base",
            "overflow": null,
            "_model_module_version": "1.2.0",
            "_view_count": null,
            "flex_flow": null,
            "width": null,
            "min_width": null,
            "border": null,
            "align_items": null,
            "bottom": null,
            "_model_module": "@jupyter-widgets/base",
            "top": null,
            "grid_column": null,
            "overflow_y": null,
            "overflow_x": null,
            "grid_auto_flow": null,
            "grid_area": null,
            "grid_template_columns": null,
            "flex": null,
            "_model_name": "LayoutModel",
            "justify_items": null,
            "grid_row": null,
            "max_height": null,
            "align_content": null,
            "visibility": null,
            "align_self": null,
            "height": null,
            "min_height": null,
            "padding": null,
            "grid_auto_rows": null,
            "grid_gap": null,
            "max_width": null,
            "order": null,
            "_view_module_version": "1.2.0",
            "grid_template_areas": null,
            "object_position": null,
            "object_fit": null,
            "grid_auto_columns": null,
            "margin": null,
            "display": null,
            "left": null
          }
        }
      }
    },
    "accelerator": "GPU"
  },
  "cells": [
    {
      "cell_type": "markdown",
      "metadata": {
        "id": "view-in-github",
        "colab_type": "text"
      },
      "source": [
        "<a href=\"https://colab.research.google.com/github/PANDASANG1231/Deeplearning_byHand/blob/main/036_Image_Augment.ipynb\" target=\"_parent\"><img src=\"https://colab.research.google.com/assets/colab-badge.svg\" alt=\"Open In Colab\"/></a>"
      ]
    },
    {
      "cell_type": "code",
      "metadata": {
        "id": "xnFXuqV2lQSx",
        "colab": {
          "base_uri": "https://localhost:8080/"
        },
        "outputId": "f8a176cc-3bd5-4699-9103-fb6e259c31d1"
      },
      "source": [
        "import sys\n",
        "from google.colab import drive\n",
        "drive.mount('/content/drive', force_remount=True)\n",
        "sys.path.append('/content/drive/MyDrive/Colab Notebooks/deeplearning_note')\n",
        "from tool import *"
      ],
      "execution_count": null,
      "outputs": [
        {
          "output_type": "stream",
          "name": "stdout",
          "text": [
            "Mounted at /content/drive\n"
          ]
        }
      ]
    },
    {
      "cell_type": "code",
      "source": [
        "! nvidia-smi"
      ],
      "metadata": {
        "colab": {
          "base_uri": "https://localhost:8080/"
        },
        "id": "5SemXnflYY1X",
        "outputId": "80a26bbc-4a05-4b96-899c-d98b28742373"
      },
      "execution_count": null,
      "outputs": [
        {
          "output_type": "stream",
          "name": "stdout",
          "text": [
            "Mon Jan 24 04:48:50 2022       \n",
            "+-----------------------------------------------------------------------------+\n",
            "| NVIDIA-SMI 495.46       Driver Version: 460.32.03    CUDA Version: 11.2     |\n",
            "|-------------------------------+----------------------+----------------------+\n",
            "| GPU  Name        Persistence-M| Bus-Id        Disp.A | Volatile Uncorr. ECC |\n",
            "| Fan  Temp  Perf  Pwr:Usage/Cap|         Memory-Usage | GPU-Util  Compute M. |\n",
            "|                               |                      |               MIG M. |\n",
            "|===============================+======================+======================|\n",
            "|   0  Tesla P100-PCIE...  Off  | 00000000:00:04.0 Off |                    0 |\n",
            "| N/A   33C    P0    25W / 250W |      0MiB / 16280MiB |      0%      Default |\n",
            "|                               |                      |                  N/A |\n",
            "+-------------------------------+----------------------+----------------------+\n",
            "                                                                               \n",
            "+-----------------------------------------------------------------------------+\n",
            "| Processes:                                                                  |\n",
            "|  GPU   GI   CI        PID   Type   Process name                  GPU Memory |\n",
            "|        ID   ID                                                   Usage      |\n",
            "|=============================================================================|\n",
            "|  No running processes found                                                 |\n",
            "+-----------------------------------------------------------------------------+\n"
          ]
        }
      ]
    },
    {
      "cell_type": "code",
      "metadata": {
        "id": "w-EGHWAqUwN3"
      },
      "source": [
        "import torch\n",
        "import torchvision"
      ],
      "execution_count": null,
      "outputs": []
    },
    {
      "cell_type": "markdown",
      "metadata": {
        "id": "6ARWWkvhVRF_"
      },
      "source": [
        "## Data Augment"
      ]
    },
    {
      "cell_type": "code",
      "metadata": {
        "id": "z9PHA8ckMYtS",
        "colab": {
          "base_uri": "https://localhost:8080/",
          "height": 104,
          "referenced_widgets": [
            "bbf7fafe684a4667b7c8a0807cc0de08",
            "6bf05e38c0e4494e9b94a765b85d6cd6",
            "3e071b02ba4e40fdbe0b32f9465eb50d",
            "0e263f760b834d83a5bdf5ad830cc426",
            "4e1aad8d11aa445d95df61c204c93c83",
            "4d2dc739c35d4e2b90b1daf39b4b8602",
            "044442ec296a4b41acba171c5d5c1289",
            "82bd9e3f4eae4f5f98edc3ef1373f443",
            "228c44d043134ab1bb18e0de39b033e8",
            "309a58e0aee74e05b54090fe0cc8f43d",
            "7739b383791b433f994f13e08d4c940a"
          ]
        },
        "outputId": "076906dc-73e3-4b48-96d4-b13035b35f0f"
      },
      "source": [
        "train_dataset = torchvision.datasets.CIFAR10(root=\"./\",train=True,download=True)\n",
        "test_dataset = torchvision.datasets.CIFAR10(root=\"./\",train=False,download=True)"
      ],
      "execution_count": null,
      "outputs": [
        {
          "output_type": "stream",
          "name": "stdout",
          "text": [
            "Downloading https://www.cs.toronto.edu/~kriz/cifar-10-python.tar.gz to ./cifar-10-python.tar.gz\n"
          ]
        },
        {
          "output_type": "display_data",
          "data": {
            "application/vnd.jupyter.widget-view+json": {
              "model_id": "bbf7fafe684a4667b7c8a0807cc0de08",
              "version_minor": 0,
              "version_major": 2
            },
            "text/plain": [
              "  0%|          | 0/170498071 [00:00<?, ?it/s]"
            ]
          },
          "metadata": {}
        },
        {
          "output_type": "stream",
          "name": "stdout",
          "text": [
            "Extracting ./cifar-10-python.tar.gz to ./\n",
            "Files already downloaded and verified\n"
          ]
        }
      ]
    },
    {
      "cell_type": "code",
      "metadata": {
        "id": "29Y7ZkTSYrCj",
        "colab": {
          "base_uri": "https://localhost:8080/"
        },
        "outputId": "357eaef9-3dc6-4c8e-b99a-ca92dd56885d"
      },
      "source": [
        "img_list = [train_dataset[i] for i in range(8)]\n",
        "lab_list = [x[1] for x in img_list]\n",
        "img_list = [x[0] for x in img_list]\n",
        "img_list, lab_list"
      ],
      "execution_count": null,
      "outputs": [
        {
          "output_type": "execute_result",
          "data": {
            "text/plain": [
              "([<PIL.Image.Image image mode=RGB size=32x32 at 0x7F6946979DD0>,\n",
              "  <PIL.Image.Image image mode=RGB size=32x32 at 0x7F6946979F50>,\n",
              "  <PIL.Image.Image image mode=RGB size=32x32 at 0x7F6946979FD0>,\n",
              "  <PIL.Image.Image image mode=RGB size=32x32 at 0x7F694645D090>,\n",
              "  <PIL.Image.Image image mode=RGB size=32x32 at 0x7F694645D110>,\n",
              "  <PIL.Image.Image image mode=RGB size=32x32 at 0x7F694645D1D0>,\n",
              "  <PIL.Image.Image image mode=RGB size=32x32 at 0x7F694645D250>,\n",
              "  <PIL.Image.Image image mode=RGB size=32x32 at 0x7F694645D2D0>],\n",
              " [6, 9, 9, 4, 1, 1, 2, 7])"
            ]
          },
          "metadata": {},
          "execution_count": 6
        }
      ]
    },
    {
      "cell_type": "code",
      "metadata": {
        "id": "5XhYBD0vzt94",
        "colab": {
          "base_uri": "https://localhost:8080/",
          "height": 375
        },
        "outputId": "a0139176-9f75-4b89-b004-09402b05099d"
      },
      "source": [
        "transform_list = [\n",
        "    torchvision.transforms.CenterCrop(18),\n",
        "    torchvision.transforms.GaussianBlur(5),\n",
        "    torchvision.transforms.RandomAdjustSharpness(0),\n",
        "    torchvision.transforms.RandomAdjustSharpness(2),\n",
        "    torchvision.transforms.RandomVerticalFlip(1),\n",
        "    torchvision.transforms.RandomHorizontalFlip(1),\n",
        "    torchvision.transforms.ColorJitter(0.1,0.1,0.1,0.1),\n",
        "    torchvision.transforms.RandomGrayscale(1),\n",
        "    torchvision.transforms.RandomSolarize(0.5, p=1)\n",
        "]\n",
        "\n",
        "fig, axs = plt.subplots(2, 5, figsize=(20, 6))\n",
        "\n",
        "axs[0][0].imshow(img_list[0])\n",
        "\n",
        "for aug, ax in zip(transform_list, axs.flatten()[1:]):\n",
        "    ax.imshow(aug(img_list[0]))\n"
      ],
      "execution_count": null,
      "outputs": [
        {
          "output_type": "display_data",
          "data": {
            "image/png": "[encoded data removed]",
            "text/plain": [
              "<Figure size 1440x432 with 10 Axes>"
            ]
          },
          "metadata": {
            "needs_background": "light"
          }
        }
      ]
    },
    {
      "cell_type": "markdown",
      "source": [
        "## Resnet + Data Augment\n",
        "\n",
        "\n",
        "Because of the extra transforms in training data, training process will be slower and training accuracy is lower. But the gap between training and testing is also smaller"
      ],
      "metadata": {
        "id": "MDarzT3O41nL"
      }
    },
    {
      "cell_type": "code",
      "source": [
        "train_aug = torchvision.transforms.Compose([torchvision.transforms.RandomVerticalFlip(0.5), torchvision.transforms.ToTensor()])\n",
        "test_aug = torchvision.transforms.Compose([torchvision.transforms.ToTensor()])"
      ],
      "metadata": {
        "id": "aLwIFWNGwJMk"
      },
      "execution_count": null,
      "outputs": []
    },
    {
      "cell_type": "markdown",
      "source": [
        "### No augment"
      ],
      "metadata": {
        "id": "bazmo924fKWO"
      }
    },
    {
      "cell_type": "code",
      "source": [
        "train_dataset = torchvision.datasets.CIFAR10(root=\"./\", train=True, download=True, transform=test_aug)\n",
        "test_dataset = torchvision.datasets.CIFAR10(root=\"./\", train=False, download=True, transform=test_aug)\n",
        "\n",
        "train_dataloader = torch.utils.data.DataLoader(dataset=train_dataset, batch_size=64, shuffle=True)\n",
        "test_dataloader = torch.utils.data.DataLoader(dataset=test_dataset, batch_size=64, shuffle=False)\n",
        "\n",
        "resnet = torchvision.models.resnet18(pretrained=False)\n",
        "\n",
        "device = torch.device('cuda')\n",
        "\n",
        "train_p2(num_epochs=10, \n",
        "         net=resnet,  \n",
        "         lr=0.03, \n",
        "         train_iter=train_dataloader,\n",
        "         test_iter=test_dataloader,\n",
        "         device=device,\n",
        "         optim_type=\"Adam\")"
      ],
      "metadata": {
        "id": "7cpwPQ9z8Tl3",
        "colab": {
          "base_uri": "https://localhost:8080/"
        },
        "outputId": "ba7bc86f-f1eb-4d3d-c788-d1f4a58fc87a"
      },
      "execution_count": null,
      "outputs": [
        {
          "output_type": "stream",
          "name": "stdout",
          "text": [
            "Files already downloaded and verified\n",
            "Files already downloaded and verified\n",
            "training on cuda\n",
            "loss 1.829, train acc 0.354, test acc 0.448\n",
            "loss 1.319, train acc 0.526, test acc 0.467\n",
            "loss 1.091, train acc 0.614, test acc 0.562\n",
            "loss 0.954, train acc 0.666, test acc 0.642\n",
            "loss 0.850, train acc 0.705, test acc 0.654\n",
            "loss 0.773, train acc 0.734, test acc 0.575\n",
            "loss 0.680, train acc 0.766, test acc 0.697\n",
            "loss 0.614, train acc 0.790, test acc 0.544\n",
            "loss 0.560, train acc 0.806, test acc 0.733\n",
            "loss 0.490, train acc 0.834, test acc 0.705\n",
            "3558.5 examples/sec on cuda\n"
          ]
        }
      ]
    },
    {
      "cell_type": "markdown",
      "source": [
        "### With Augment"
      ],
      "metadata": {
        "id": "dk7BdjXVfesr"
      }
    },
    {
      "cell_type": "code",
      "source": [
        "train_dataset = torchvision.datasets.CIFAR10(root=\"./\", train=True, download=True, transform=train_aug)\n",
        "test_dataset = torchvision.datasets.CIFAR10(root=\"./\", train=False, download=True, transform=test_aug)\n",
        "\n",
        "train_dataloader = torch.utils.data.DataLoader(dataset=train_dataset, batch_size=64, shuffle=True)\n",
        "test_dataloader = torch.utils.data.DataLoader(dataset=test_dataset, batch_size=64, shuffle=False)\n",
        "\n",
        "resnet = torchvision.models.resnet18(pretrained=False)\n",
        "\n",
        "device = torch.device('cuda')\n",
        "\n",
        "train_p2(num_epochs=10, \n",
        "         net=resnet,  \n",
        "         lr=0.03, \n",
        "         train_iter=train_dataloader,\n",
        "         test_iter=test_dataloader,\n",
        "         device=device,\n",
        "         optim_type=\"Adam\")"
      ],
      "metadata": {
        "id": "cbXetqFu8VkT",
        "colab": {
          "base_uri": "https://localhost:8080/"
        },
        "outputId": "2cf2eb09-b755-4d14-e9e1-e5591452024c"
      },
      "execution_count": null,
      "outputs": [
        {
          "output_type": "stream",
          "name": "stdout",
          "text": [
            "Files already downloaded and verified\n",
            "Files already downloaded and verified\n",
            "training on cuda\n",
            "loss 1.932, train acc 0.310, test acc 0.244\n",
            "loss 1.494, train acc 0.449, test acc 0.373\n",
            "loss 1.303, train acc 0.527, test acc 0.503\n",
            "loss 1.161, train acc 0.584, test acc 0.480\n",
            "loss 1.077, train acc 0.619, test acc 0.558\n",
            "loss 0.998, train acc 0.647, test acc 0.549\n",
            "loss 0.942, train acc 0.668, test acc 0.618\n",
            "loss 0.883, train acc 0.692, test acc 0.658\n",
            "loss 0.834, train acc 0.708, test acc 0.625\n",
            "loss 0.784, train acc 0.728, test acc 0.667\n",
            "3555.2 examples/sec on cuda\n"
          ]
        }
      ]
    },
    {
      "cell_type": "code",
      "source": [
        ""
      ],
      "metadata": {
        "id": "-smKmcwsfnEu"
      },
      "execution_count": null,
      "outputs": []
    }
  ]
}