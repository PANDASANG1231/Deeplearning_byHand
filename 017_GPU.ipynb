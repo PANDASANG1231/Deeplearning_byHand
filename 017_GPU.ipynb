{
  "nbformat": 4,
  "nbformat_minor": 0,
  "metadata": {
    "colab": {
      "name": "017.GPU.ipynb",
      "provenance": [],
      "collapsed_sections": [],
      "authorship_tag": "ABX9TyPB0pQTuf8WEbwixOuTpnaZ",
      "include_colab_link": true
    },
    "kernelspec": {
      "name": "python3",
      "display_name": "Python 3"
    },
    "language_info": {
      "name": "python"
    },
    "accelerator": "GPU"
  },
  "cells": [
    {
      "cell_type": "markdown",
      "metadata": {
        "id": "view-in-github",
        "colab_type": "text"
      },
      "source": [
        "<a href=\"https://colab.research.google.com/github/PANDASANG1231/deeplearn_note/blob/main/017_GPU.ipynb\" target=\"_parent\"><img src=\"https://colab.research.google.com/assets/colab-badge.svg\" alt=\"Open In Colab\"/></a>"
      ]
    },
    {
      "cell_type": "code",
      "metadata": {
        "colab": {
          "base_uri": "https://localhost:8080/"
        },
        "id": "2QO5KKJ8nfSQ",
        "outputId": "57fa583a-206c-48e0-bf59-5dbbf061039a"
      },
      "source": [
        "! nvidia-smi"
      ],
      "execution_count": 59,
      "outputs": [
        {
          "output_type": "stream",
          "name": "stdout",
          "text": [
            "Sun Oct 24 05:30:32 2021       \n",
            "+-----------------------------------------------------------------------------+\n",
            "| NVIDIA-SMI 470.74       Driver Version: 460.32.03    CUDA Version: 11.2     |\n",
            "|-------------------------------+----------------------+----------------------+\n",
            "| GPU  Name        Persistence-M| Bus-Id        Disp.A | Volatile Uncorr. ECC |\n",
            "| Fan  Temp  Perf  Pwr:Usage/Cap|         Memory-Usage | GPU-Util  Compute M. |\n",
            "|                               |                      |               MIG M. |\n",
            "|===============================+======================+======================|\n",
            "|   0  Tesla P100-PCIE...  Off  | 00000000:00:04.0 Off |                    0 |\n",
            "| N/A   36C    P0    33W / 250W |    973MiB / 16280MiB |      0%      Default |\n",
            "|                               |                      |                  N/A |\n",
            "+-------------------------------+----------------------+----------------------+\n",
            "                                                                               \n",
            "+-----------------------------------------------------------------------------+\n",
            "| Processes:                                                                  |\n",
            "|  GPU   GI   CI        PID   Type   Process name                  GPU Memory |\n",
            "|        ID   ID                                                   Usage      |\n",
            "|=============================================================================|\n",
            "|  No running processes found                                                 |\n",
            "+-----------------------------------------------------------------------------+\n"
          ]
        }
      ]
    },
    {
      "cell_type": "markdown",
      "metadata": {
        "id": "S1XoqFK_pM9j"
      },
      "source": [
        "查看自己的GPU个数，访问GPU"
      ]
    },
    {
      "cell_type": "code",
      "metadata": {
        "id": "pyjOoeNOoUEq"
      },
      "source": [
        "import torch"
      ],
      "execution_count": 3,
      "outputs": []
    },
    {
      "cell_type": "code",
      "metadata": {
        "colab": {
          "base_uri": "https://localhost:8080/"
        },
        "id": "7XaMP0duosYO",
        "outputId": "dad727ae-73ac-4126-d212-680a3902b977"
      },
      "source": [
        "torch.device('cpu'), torch.cuda.device('cuda'), torch.cuda.device('cuda:3')"
      ],
      "execution_count": 8,
      "outputs": [
        {
          "output_type": "execute_result",
          "data": {
            "text/plain": [
              "(device(type='cpu'),\n",
              " <torch.cuda.device at 0x7fabdab10e50>,\n",
              " <torch.cuda.device at 0x7fabdab85190>)"
            ]
          },
          "metadata": {},
          "execution_count": 8
        }
      ]
    },
    {
      "cell_type": "code",
      "metadata": {
        "colab": {
          "base_uri": "https://localhost:8080/"
        },
        "id": "SrW29ZfVo4T_",
        "outputId": "05046f08-c6e9-4d79-8b98-d9d810c73b35"
      },
      "source": [
        "torch.cuda.device_count()"
      ],
      "execution_count": 7,
      "outputs": [
        {
          "output_type": "execute_result",
          "data": {
            "text/plain": [
              "1"
            ]
          },
          "metadata": {},
          "execution_count": 7
        }
      ]
    },
    {
      "cell_type": "markdown",
      "metadata": {
        "id": "zuGuXoaXqS6s"
      },
      "source": [
        "使用GPU"
      ]
    },
    {
      "cell_type": "code",
      "metadata": {
        "colab": {
          "base_uri": "https://localhost:8080/"
        },
        "id": "uQc9UAR1pGl4",
        "outputId": "8685a831-136c-4d70-b6f9-47f43a51e2e8"
      },
      "source": [
        "def try_gpu(i=0):\n",
        "\n",
        "  if torch.cuda.device_count() > i:\n",
        "    return torch.device(f'cuda:{i}')\n",
        "  else:\n",
        "    return torch.device('cpu')\n",
        "\n",
        "\n",
        "try_gpu()"
      ],
      "execution_count": 27,
      "outputs": [
        {
          "output_type": "execute_result",
          "data": {
            "text/plain": [
              "device(type='cuda', index=0)"
            ]
          },
          "metadata": {},
          "execution_count": 27
        }
      ]
    },
    {
      "cell_type": "code",
      "metadata": {
        "colab": {
          "base_uri": "https://localhost:8080/"
        },
        "id": "qgT-YKU0q1p5",
        "outputId": "17ddf556-f6ae-4160-ff76-708b9ecd9842"
      },
      "source": [
        "def try_all_gpus():\n",
        "\n",
        "  devices = [\n",
        "      torch.device(f\"cuda:{i}\") for i in range(torch.cuda.device_count())\n",
        "  ]\n",
        "\n",
        "  return devices if devices else [torch.device(\"cpu\")]\n",
        "\n",
        "\n",
        "try_all_gpus()"
      ],
      "execution_count": 28,
      "outputs": [
        {
          "output_type": "execute_result",
          "data": {
            "text/plain": [
              "[device(type='cuda', index=0)]"
            ]
          },
          "metadata": {},
          "execution_count": 28
        }
      ]
    },
    {
      "cell_type": "markdown",
      "metadata": {
        "id": "v2F-_1uXtEUM"
      },
      "source": [
        "- 变量计算"
      ]
    },
    {
      "cell_type": "code",
      "metadata": {
        "colab": {
          "base_uri": "https://localhost:8080/"
        },
        "id": "6KLxhGt_sYwS",
        "outputId": "da0d26a5-25c9-46c0-f710-1d3ed4301367"
      },
      "source": [
        "X = torch.ones(2, 3)\n",
        "print(f\"X's device: {X.device}\")\n",
        "\n",
        "Y = torch.zeros(2, 3, device=try_gpu())\n",
        "print(f\"Y's device: {Y.device}\")\n",
        "\n",
        "try:\n",
        "  Z = X + Y\n",
        "except Exception as err:\n",
        "  print('\\n#####  Data in different mashcine can not calculate')\n",
        "  print(err)\n",
        "\n",
        "\n",
        "\n",
        "X = X.to(device=try_gpu())\n",
        "Z = X + Y\n",
        "print(f\"\\nZ's device: {Z.device}\")\n",
        "\n"
      ],
      "execution_count": 44,
      "outputs": [
        {
          "output_type": "stream",
          "name": "stdout",
          "text": [
            "X's device: cpu\n",
            "Y's device: cuda:0\n",
            "\n",
            "#####  Data in different mashcine can not calculate\n",
            "Expected all tensors to be on the same device, but found at least two devices, cuda:0 and cpu!\n",
            "\n",
            "Z's device: cuda:0\n"
          ]
        }
      ]
    },
    {
      "cell_type": "markdown",
      "metadata": {
        "id": "b06IeFpdwscX"
      },
      "source": [
        "- 神经网络与GPU"
      ]
    },
    {
      "cell_type": "code",
      "metadata": {
        "colab": {
          "base_uri": "https://localhost:8080/"
        },
        "id": "wD2cbq9AtRKM",
        "outputId": "89aced77-887c-4894-e48a-99f328e9db78"
      },
      "source": [
        "net = torch.nn.Sequential(torch.nn.Linear(3, 1))\n",
        "print(net.state_dict().get('0.weight').device)\n",
        "\n",
        "\n",
        "net = torch.nn.Sequential(torch.nn.Linear(3, 1))\n",
        "net = net.cuda()\n",
        "print(net.state_dict().get('0.weight').device)\n",
        "\n",
        "net = torch.nn.Sequential(torch.nn.Linear(3, 1))\n",
        "net = net.to(device=try_gpu())\n",
        "print(net.state_dict().get('0.weight').device)\n"
      ],
      "execution_count": 58,
      "outputs": [
        {
          "output_type": "stream",
          "name": "stdout",
          "text": [
            "cpu\n",
            "cuda:0\n",
            "cuda:0\n"
          ]
        }
      ]
    },
    {
      "cell_type": "code",
      "metadata": {
        "id": "4ve_3kb-w8Fc"
      },
      "source": [
        ""
      ],
      "execution_count": null,
      "outputs": []
    }
  ]
}