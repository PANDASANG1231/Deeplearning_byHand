{
 "cells": [
  {
   "cell_type": "markdown",
   "metadata": {},
   "source": [
    "## CONV2D\n",
    "\n",
    "- 自己动手建一个Conv2D\n",
    "- 尝试在fit出一个margin detector"
   ]
  },
  {
   "cell_type": "code",
   "execution_count": 304,
   "metadata": {},
   "outputs": [],
   "source": [
    "import numpy as np\n",
    "import torch\n",
    "import torchvision"
   ]
  },
  {
   "cell_type": "code",
   "execution_count": 305,
   "metadata": {},
   "outputs": [],
   "source": [
    "\"这里是所以不用管require grad，是因为一会会用nn.model和torch.parameter实现Layer\"\n",
    "\n",
    "def corr2d(X, K):\n",
    "    \n",
    "    m, n = X.shape[0] - K.shape[0] + 1, X.shape[1] - K.shape[1] + 1\n",
    "    # print(m, n)\n",
    "    Y = torch.zeros(m, n)\n",
    "    for i in range(m):\n",
    "        for j in range(n):\n",
    "            # print(f\"mn:{i}{j}\")\n",
    "            # print(X[i:i + K.shape[0], j:j + K.shape[1]])\n",
    "            Y[i][j] = (X[i:i + K.shape[0], j:j + K.shape[1]] * K).sum()\n",
    "\n",
    "    return Y    \n",
    "    \n",
    "    \n",
    "    \n",
    "X = torch.Tensor([[0, 1, 2], [3, 4, 5], [6, 7, 8]])\n",
    "K = torch.Tensor([[0, 1], [2, 3]])\n",
    "assert((corr2d(X, K) == torch.Tensor([[19, 25], [37, 43]])).any().item())\n",
    "\n"
   ]
  },
  {
   "cell_type": "code",
   "execution_count": 306,
   "metadata": {},
   "outputs": [],
   "source": [
    "\"\"\"\n",
    "    在torch里面自定义nn.Module, 关键步骤有三个\n",
    "    1. base class, nn.Module\n",
    "    2. weight和bias, nn.Parameter，会自动包含require_grad\n",
    "    3. forward函数\n",
    "\"\"\"\n",
    "\n",
    "class CONV2D(torch.nn.Module):\n",
    "    \n",
    "    def __init__(self, kernel_size):\n",
    "        super().__init__()\n",
    "        if isinstance(kernel_size, tuple):\n",
    "            self.weight = torch.nn.Parameter(torch.rand(kernel_size[0], kernel_size[1]))\n",
    "        else:\n",
    "            self.weight = torch.nn.Parameter(torch.rand(kernel_size, kernel_size))\n",
    "\n",
    "        self.bias = torch.nn.Parameter(torch.rand(1))\n",
    "        \n",
    "    def forward(self, X):\n",
    "        return corr2d(X, self.weight) + self.bias\n",
    "        "
   ]
  },
  {
   "cell_type": "code",
   "execution_count": 307,
   "metadata": {},
   "outputs": [
    {
     "data": {
      "text/plain": [
       "tensor([[ 4.6239,  6.9689],\n",
       "        [11.6589, 14.0039]], grad_fn=<AddBackward0>)"
      ]
     },
     "execution_count": 307,
     "metadata": {},
     "output_type": "execute_result"
    }
   ],
   "source": [
    "my_conv = CONV2D(kernel_size = 2)\n",
    "\n",
    "y = my_conv(X)\n",
    "y"
   ]
  },
  {
   "cell_type": "markdown",
   "metadata": {},
   "source": [
    "### 2.fit一个marginer: Sober calculator doing marginal detect"
   ]
  },
  {
   "cell_type": "code",
   "execution_count": 308,
   "metadata": {},
   "outputs": [
    {
     "data": {
      "text/plain": [
       "tensor([[1., 1., 0., 0., 1., 1., 1., 1.],\n",
       "        [1., 1., 0., 0., 1., 1., 1., 1.],\n",
       "        [1., 1., 0., 0., 1., 1., 1., 1.],\n",
       "        [1., 1., 0., 0., 1., 1., 1., 1.],\n",
       "        [1., 1., 0., 0., 1., 1., 1., 1.],\n",
       "        [1., 1., 0., 0., 1., 1., 1., 1.]])"
      ]
     },
     "metadata": {},
     "output_type": "display_data"
    },
    {
     "name": "stdout",
     "output_type": "stream",
     "text": [
      "\n",
      " \n",
      " ### sober here is doing marginer.\n"
     ]
    },
    {
     "data": {
      "text/plain": [
       "tensor([[[[ 0., -1.,  0.,  1.,  0.,  0.,  0.],\n",
       "          [ 0., -1.,  0.,  1.,  0.,  0.,  0.],\n",
       "          [ 0., -1.,  0.,  1.,  0.,  0.,  0.],\n",
       "          [ 0., -1.,  0.,  1.,  0.,  0.,  0.],\n",
       "          [ 0., -1.,  0.,  1.,  0.,  0.,  0.],\n",
       "          [ 0., -1.,  0.,  1.,  0.,  0.,  0.]]]], grad_fn=<ThnnConv2DBackward>)"
      ]
     },
     "execution_count": 308,
     "metadata": {},
     "output_type": "execute_result"
    }
   ],
   "source": [
    "X = torch.ones(size=(6, 8))\n",
    "X[:, 2:4] = 0\n",
    "display(X)\n",
    "\n",
    "\n",
    "marginer = torch.Tensor([[-1, 1]])\n",
    "marginer.shape\n",
    "torch_conv = torch.nn.Conv2d(in_channels=1, out_channels=1, kernel_size=(1,2), stride=1, bias=False)\n",
    "torch_conv.weight = torch.nn.Parameter(marginer.reshape(1, 1, 1, 2))\n",
    "\n",
    "print(\"\\n \\n ### sober here is doing marginer.\")\n",
    "torch_conv(X.reshape(1, 1, 6, 8))"
   ]
  },
  {
   "cell_type": "code",
   "execution_count": 311,
   "metadata": {},
   "outputs": [
    {
     "name": "stdout",
     "output_type": "stream",
     "text": [
      "0 tensor(32.1982, grad_fn=<SumBackward0>)\n",
      "4 tensor(3.3646, grad_fn=<SumBackward0>)\n",
      "8 tensor(0.5071, grad_fn=<SumBackward0>)\n",
      "12 tensor(0.0835, grad_fn=<SumBackward0>)\n",
      "16 tensor(0.0140, grad_fn=<SumBackward0>)\n",
      "20 tensor(0.0023, grad_fn=<SumBackward0>)\n"
     ]
    },
    {
     "data": {
      "text/plain": [
       "Parameter containing:\n",
       "tensor([[[[-1.0049,  0.9949]]]], requires_grad=True)"
      ]
     },
     "metadata": {},
     "output_type": "display_data"
    },
    {
     "data": {
      "text/plain": [
       "tensor([[-1.,  1.]])"
      ]
     },
     "metadata": {},
     "output_type": "display_data"
    }
   ],
   "source": [
    "## 之前这边一直有问题，是因为没有从计算图里分离出来\n",
    "X = torch.ones((6, 8))\n",
    "X[:, 2:6] = 0\n",
    "K = torch.tensor([[1.0, -1.0]])\n",
    "X = X.reshape(1, 1, 6, 8)\n",
    "Y = torch_conv(X).detach().reshape(1, 1, 6, 7)\n",
    "\n",
    "# X = torch.ones((6, 8))\n",
    "# X[:, 2:6] = 0\n",
    "# K = torch.tensor([[1.0, -1.0]])\n",
    "# Y = corr2d(X, K)\n",
    "\n",
    "# X = X.reshape((1, 1, 6, 8))\n",
    "# Y = Y.reshape((1, 1, 6, 7))\n",
    "\n",
    "\n",
    "torch_conv2 = torch.nn.Conv2d(in_channels=1, out_channels=1, kernel_size=(1,2), stride=1, bias=False)\n",
    "\n",
    "\n",
    "\n",
    "for i in range(21):\n",
    "    Y_hat = torch_conv2(X)\n",
    "    loss = ((Y_hat - Y) ** 2).sum()\n",
    "\n",
    "    torch_conv2.zero_grad()\n",
    "    loss.backward()\n",
    "    torch_conv2.weight.data[:] -= 3e-2 * torch_conv2.weight.grad\n",
    "    \n",
    "    if not (i) % 4:\n",
    "        print(i, loss)\n",
    "\n",
    "\n",
    "display(torch_conv2.weight, marginer)"
   ]
  },
  {
   "cell_type": "markdown",
   "metadata": {},
   "source": [
    "### 2.图像"
   ]
  },
  {
   "cell_type": "code",
   "execution_count": 312,
   "metadata": {},
   "outputs": [],
   "source": [
    "sample = torchvision.datasets.FashionMNIST(\n",
    "    root='./../data',\n",
    "    train=False,\n",
    "    download=False,\n",
    "    transform=torchvision.transforms.ToTensor()\n",
    ")"
   ]
  },
  {
   "cell_type": "code",
   "execution_count": 334,
   "metadata": {},
   "outputs": [
    {
     "data": {
      "image/png": "[encoded data removed]",
      "text/plain": [
       "<Figure size 432x288 with 1 Axes>"
      ]
     },
     "metadata": {
      "needs_background": "light"
     },
     "output_type": "display_data"
    },
    {
     "data": {
      "image/png": "[encoded data removed]",
      "text/plain": [
       "<Figure size 432x288 with 1 Axes>"
      ]
     },
     "metadata": {
      "needs_background": "light"
     },
     "output_type": "display_data"
    }
   ],
   "source": [
    "import matplotlib.pyplot as plt\n",
    "\n",
    "sample1 = np.array(sample.data[0])\n",
    "\n",
    "\n",
    "marginer = torch.Tensor([[0, 1, 0], [1, -3, 1], [0, 1, 0]])\n",
    "torch_conv = torch.nn.Conv2d(in_channels=1, kernel_size=3, out_channels=1, stride=1)\n",
    "torch_conv.weight = torch.nn.Parameter(marginer.reshape(1, 1, 3, 3))\n",
    "torch_conv.bias = torch.nn.Parameter(torch.zeros(1))\n",
    "margin1 = torch_conv(sample.data[0].reshape(1, 1, 28, 28).float())\n",
    "\n",
    "\n",
    "plt.imshow(sample1)\n",
    "plt.show();\n",
    "\n",
    "plt.imshow(margin1.byte()[0,0])\n",
    "plt.show();"
   ]
  },
  {
   "cell_type": "code",
   "execution_count": 338,
   "metadata": {},
   "outputs": [
    {
     "name": "stdout",
     "output_type": "stream",
     "text": [
      "Epoch: 0  Loss: 4.442862029918615e-05\n",
      "Epoch: 1  Loss: 0.011423742609622423\n",
      "Epoch: 2  Loss: 0.003053594737139065\n",
      "Epoch: 3  Loss: 0.0014950226886867313\n",
      "Epoch: 4  Loss: 0.0006177756949909963\n",
      "Epoch: 5  Loss: 0.0002205637724728149\n",
      "Epoch: 6  Loss: 6.733984503171087e-05\n",
      "Epoch: 7  Loss: 1.8024767939550657e-05\n",
      "Epoch: 8  Loss: 4.044045823548004e-06\n",
      "Epoch: 9  Loss: 7.650975630824064e-07\n",
      "Epoch: 10  Loss: 1.2603047094827957e-07\n",
      "Epoch: 11  Loss: 1.760746887180531e-08\n",
      "Epoch: 12  Loss: 2.0741323528486455e-09\n",
      "Epoch: 13  Loss: 2.0042210783794562e-10\n",
      "Epoch: 14  Loss: 1.5529471724404567e-11\n",
      "Epoch: 15  Loss: 9.50031993339438e-13\n",
      "Epoch: 16  Loss: 4.919108108300376e-14\n",
      "Epoch: 17  Loss: 5.024243662804883e-15\n",
      "Epoch: 18  Loss: 3.3806026719677355e-15\n",
      "Epoch: 19  Loss: 2.0817827952440112e-15\n"
     ]
    }
   ],
   "source": [
    "l = 0\n",
    "batch_size = 256\n",
    "my_conv = torch.nn.Conv2d(in_channels=1, kernel_size=3, out_channels=1, stride=1)\n",
    "\n",
    "\n",
    "loss = torch.nn.MSELoss()\n",
    "optimizer = torch.optim.Adam(params=my_conv.parameters(), lr=0.1)\n",
    "data_loader = torch.utils.data.DataLoader(dataset=sample, batch_size=batch_size, shuffle=True)\n",
    "\n",
    "for epoch in range(20):\n",
    "    print(\"Epoch:\", epoch, \" Loss:\", sum_loss)\n",
    "    sum_loss = 0\n",
    "    for batch_X, batch_y in data_loader:\n",
    "        \n",
    "        batch_y = torch_conv(batch_X).detach()\n",
    "        batch_y_hat = my_conv(batch_X)\n",
    "\n",
    "        l = loss(batch_y_hat, batch_y)\n",
    "        \n",
    "        l = l.sum() / batch_size\n",
    "        l.backward()\n",
    "        optimizer.step()\n",
    "        optimizer.zero_grad()\n",
    "    \n",
    "        sum_loss += l.item()\n",
    "\n"
   ]
  },
  {
   "cell_type": "code",
   "execution_count": 341,
   "metadata": {},
   "outputs": [
    {
     "data": {
      "text/plain": [
       "(Parameter containing:\n",
       " tensor([[[[ 2.9303e-07,  1.0000e+00,  2.4550e-07],\n",
       "           [ 1.0000e+00, -3.0000e+00,  1.0000e+00],\n",
       "           [ 2.4269e-07,  1.0000e+00,  2.9929e-07]]]], requires_grad=True),\n",
       " tensor([[ 0.,  1.,  0.],\n",
       "         [ 1., -3.,  1.],\n",
       "         [ 0.,  1.,  0.]]))"
      ]
     },
     "execution_count": 341,
     "metadata": {},
     "output_type": "execute_result"
    }
   ],
   "source": [
    "my_conv.weight, marginer"
   ]
  },
  {
   "cell_type": "code",
   "execution_count": 340,
   "metadata": {},
   "outputs": [
    {
     "data": {
      "image/png": "[encoded data removed]",
      "text/plain": [
       "<Figure size 432x288 with 1 Axes>"
      ]
     },
     "metadata": {
      "needs_background": "light"
     },
     "output_type": "display_data"
    },
    {
     "data": {
      "image/png": "[encoded data removed]",
      "text/plain": [
       "<Figure size 432x288 with 1 Axes>"
      ]
     },
     "metadata": {
      "needs_background": "light"
     },
     "output_type": "display_data"
    }
   ],
   "source": [
    "sample1 = np.array(sample.data[0])\n",
    "\n",
    "margin1_hat = my_conv(sample.data[0].reshape(1, 1, 28, 28).float())\n",
    "\n",
    "\n",
    "plt.imshow(margin1.byte()[0,0])\n",
    "plt.show();\n",
    "\n",
    "plt.imshow(margin1_hat.byte()[0,0])\n",
    "plt.show();"
   ]
  }
 ],
 "metadata": {
  "interpreter": {
   "hash": "414fe57d044de946bf9d041c0416f862a87762676867e6c6ae283eee01bd4dcc"
  },
  "kernelspec": {
   "display_name": "Python 3.9.5 64-bit ('base': conda)",
   "name": "python3"
  },
  "language_info": {
   "codemirror_mode": {
    "name": "ipython",
    "version": 3
   },
   "file_extension": ".py",
   "mimetype": "text/x-python",
   "name": "python",
   "nbconvert_exporter": "python",
   "pygments_lexer": "ipython3",
   "version": "3.9.5"
  },
  "orig_nbformat": 4
 },
 "nbformat": 4,
 "nbformat_minor": 2
}
